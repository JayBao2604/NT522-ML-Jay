{
 "cells": [
  {
   "cell_type": "code",
   "execution_count": null,
   "id": "059c8763",
   "metadata": {},
   "outputs": [
    {
     "name": "stderr",
     "output_type": "stream",
     "text": [
      "C:\\Users\\Admin\\AppData\\Local\\Temp\\ipykernel_25428\\4173355633.py:14: DtypeWarning: Columns (1,20,22,23,27,28,29,37,38) have mixed types. Specify dtype option on import or set low_memory=False.\n",
      "  df = pd.read_csv(input_file)\n"
     ]
    },
    {
     "name": "stdout",
     "output_type": "stream",
     "text": [
      "Đã tạo: cwe_filtered\\CWE_119.csv (26497 dòng)\n",
      "Đã tạo: cwe_filtered\\CWE_399.csv (14806 dòng)\n",
      "Đã tạo: cwe_filtered\\CWE_416.csv (9780 dòng)\n",
      "Đã tạo: cwe_filtered\\CWE_189.csv (6964 dòng)\n",
      "Đã tạo: cwe_filtered\\CWE_20.csv (20501 dòng)\n"
     ]
    }
   ],
   "source": [
    "import pandas as pd\n",
    "import os\n",
    "\n",
    "# ======== Cấu hình ========\n",
    "input_file = \"processed_data.csv\"\n",
    "output_dir = \"cwe_filtered\"\n",
    "target_cwes = ['CWE-119', 'CWE-399', 'CWE-416', 'CWE-189', 'CWE-20']\n",
    "cwe_column = \"CWE ID\"  # Đã xác định đúng tên cột\n",
    "\n",
    "# ======== Tạo thư mục đầu ra ========\n",
    "os.makedirs(output_dir, exist_ok=True)\n",
    "\n",
    "# ======== Đọc dữ liệu ========\n",
    "df = pd.read_csv(input_file)\n",
    "\n",
    "# ======== Lọc theo từng CWE ========\n",
    "for cwe in target_cwes:\n",
    "    df_cwe = df[df[cwe_column] == cwe]\n",
    "    if not df_cwe.empty:\n",
    "        output_path = os.path.join(output_dir, f\"{cwe.replace('-', '_')}.csv\")\n",
    "        df_cwe.to_csv(output_path, index=False)\n",
    "        print(f\"Đã tạo: {output_path} ({len(df_cwe)} dòng)\")\n",
    "    else:\n",
    "        print(f\"⚠️ Không có mẫu cho {cwe}\")\n"
   ]
  },
  {
   "cell_type": "code",
   "execution_count": 3,
   "id": "dc3917c9",
   "metadata": {},
   "outputs": [
    {
     "name": "stderr",
     "output_type": "stream",
     "text": [
      "C:\\Users\\Admin\\AppData\\Local\\Temp\\ipykernel_7684\\2425279948.py:5: DtypeWarning: Columns (1,20,22,23,27,28,29,37,38) have mixed types. Specify dtype option on import or set low_memory=False.\n",
      "  df = pd.read_csv(file_path)\n"
     ]
    },
    {
     "name": "stdout",
     "output_type": "stream",
     "text": [
      "CWE ID CWE-1021: target=0 → 62 mẫu, target=1 → 1 mẫu\n",
      "CWE ID CWE-119: target=0 → 24370 mẫu, target=1 → 2127 mẫu\n",
      "CWE ID CWE-120: target=0 → 89 mẫu, target=1 → 7 mẫu\n",
      "CWE ID CWE-125: target=0 → 7092 mẫu, target=1 → 625 mẫu\n",
      "CWE ID CWE-129: target=0 → 59 mẫu, target=1 → 4 mẫu\n",
      "CWE ID CWE-134: target=0 → 636 mẫu, target=1 → 20 mẫu\n",
      "CWE ID CWE-16: target=0 → 57 mẫu, target=1 → 1 mẫu\n",
      "CWE ID CWE-17: target=0 → 633 mẫu, target=1 → 51 mẫu\n",
      "CWE ID CWE-172: target=0 → 24 mẫu, target=1 → 4 mẫu\n",
      "CWE ID CWE-18: target=0 → 15 mẫu, target=1 → 34 mẫu\n",
      "CWE ID CWE-189: target=0 → 6627 mẫu, target=1 → 337 mẫu\n",
      "CWE ID CWE-19: target=0 → 668 mẫu, target=1 → 55 mẫu\n",
      "CWE ID CWE-190: target=0 → 3364 mẫu, target=1 → 307 mẫu\n",
      "CWE ID CWE-191: target=0 → 67 mẫu, target=1 → 3 mẫu\n",
      "CWE ID CWE-20: target=0 → 19359 mẫu, target=1 → 1142 mẫu\n",
      "CWE ID CWE-200: target=0 → 8133 mẫu, target=1 → 503 mẫu\n",
      "CWE ID CWE-209: target=0 → 0 mẫu, target=1 → 1 mẫu\n",
      "CWE ID CWE-22: target=0 → 655 mẫu, target=1 → 35 mẫu\n",
      "CWE ID CWE-252: target=0 → 0 mẫu, target=1 → 1 mẫu\n",
      "CWE ID CWE-254: target=0 → 2877 mẫu, target=1 → 123 mẫu\n",
      "CWE ID CWE-255: target=0 → 66 mẫu, target=1 → 7 mẫu\n",
      "CWE ID CWE-264: target=0 → 11979 mẫu, target=1 → 508 mẫu\n",
      "CWE ID CWE-269: target=0 → 892 mẫu, target=1 → 38 mẫu\n",
      "CWE ID CWE-281: target=0 → 43 mẫu, target=1 → 7 mẫu\n",
      "CWE ID CWE-284: target=0 → 2248 mẫu, target=1 → 177 mẫu\n",
      "CWE ID CWE-285: target=0 → 420 mẫu, target=1 → 26 mẫu\n",
      "CWE ID CWE-287: target=0 → 568 mẫu, target=1 → 26 mẫu\n",
      "CWE ID CWE-290: target=0 → 70 mẫu, target=1 → 1 mẫu\n",
      "CWE ID CWE-295: target=0 → 62 mẫu, target=1 → 5 mẫu\n",
      "CWE ID CWE-310: target=0 → 1384 mẫu, target=1 → 94 mẫu\n",
      "CWE ID CWE-311: target=0 → 257 mẫu, target=1 → 19 mẫu\n",
      "CWE ID CWE-320: target=0 → 121 mẫu, target=1 → 8 mẫu\n",
      "CWE ID CWE-327: target=0 → 2 mẫu, target=1 → 2 mẫu\n",
      "CWE ID CWE-330: target=0 → 74 mẫu, target=1 → 3 mẫu\n",
      "CWE ID CWE-331: target=0 → 0 mẫu, target=1 → 1 mẫu\n",
      "CWE ID CWE-345: target=0 → 0 mẫu, target=1 → 2 mẫu\n",
      "CWE ID CWE-346: target=0 → 67 mẫu, target=1 → 4 mẫu\n",
      "CWE ID CWE-347: target=0 → 29 mẫu, target=1 → 7 mẫu\n",
      "CWE ID CWE-352: target=0 → 35 mẫu, target=1 → 1 mẫu\n",
      "CWE ID CWE-354: target=0 → 16 mẫu, target=1 → 7 mẫu\n",
      "CWE ID CWE-358: target=0 → 47 mẫu, target=1 → 20 mẫu\n",
      "CWE ID CWE-361: target=0 → 27 mẫu, target=1 → 1 mẫu\n",
      "CWE ID CWE-362: target=0 → 5795 mẫu, target=1 → 278 mẫu\n",
      "CWE ID CWE-369: target=0 → 706 mẫu, target=1 → 34 mẫu\n",
      "CWE ID CWE-388: target=0 → 284 mẫu, target=1 → 10 mẫu\n",
      "CWE ID CWE-399: target=0 → 14070 mẫu, target=1 → 736 mẫu\n",
      "CWE ID CWE-400: target=0 → 1234 mẫu, target=1 → 48 mẫu\n",
      "CWE ID CWE-404: target=0 → 854 mẫu, target=1 → 62 mẫu\n",
      "CWE ID CWE-415: target=0 → 912 mẫu, target=1 → 81 mẫu\n",
      "CWE ID CWE-416: target=0 → 9450 mẫu, target=1 → 330 mẫu\n",
      "CWE ID CWE-426: target=0 → 27 mẫu, target=1 → 4 mẫu\n",
      "CWE ID CWE-436: target=0 → 76 mẫu, target=1 → 4 mẫu\n",
      "CWE ID CWE-476: target=0 → 4357 mẫu, target=1 → 215 mẫu\n",
      "CWE ID CWE-494: target=0 → 46 mẫu, target=1 → 3 mẫu\n",
      "CWE ID CWE-502: target=0 → 35 mẫu, target=1 → 2 mẫu\n",
      "CWE ID CWE-522: target=0 → 5 mẫu, target=1 → 2 mẫu\n",
      "CWE ID CWE-532: target=0 → 87 mẫu, target=1 → 2 mẫu\n",
      "CWE ID CWE-59: target=0 → 997 mẫu, target=1 → 52 mẫu\n",
      "CWE ID CWE-601: target=0 → 79 mẫu, target=1 → 3 mẫu\n",
      "CWE ID CWE-611: target=0 → 452 mẫu, target=1 → 7 mẫu\n",
      "CWE ID CWE-617: target=0 → 1004 mẫu, target=1 → 22 mẫu\n",
      "CWE ID CWE-664: target=0 → 16 mẫu, target=1 → 1 mẫu\n",
      "CWE ID CWE-665: target=0 → 34 mẫu, target=1 → 6 mẫu\n",
      "CWE ID CWE-668: target=0 → 25 mẫu, target=1 → 1 mẫu\n",
      "CWE ID CWE-674: target=0 → 59 mẫu, target=1 → 11 mẫu\n",
      "CWE ID CWE-682: target=0 → 50 mẫu, target=1 → 11 mẫu\n",
      "CWE ID CWE-693: target=0 → 36 mẫu, target=1 → 2 mẫu\n",
      "CWE ID CWE-704: target=0 → 884 mẫu, target=1 → 24 mẫu\n",
      "CWE ID CWE-706: target=0 → 14 mẫu, target=1 → 0 mẫu\n",
      "CWE ID CWE-732: target=0 → 1414 mẫu, target=1 → 66 mẫu\n",
      "CWE ID CWE-74: target=0 → 25 mẫu, target=1 → 3 mẫu\n",
      "CWE ID CWE-754: target=0 → 377 mẫu, target=1 → 10 mẫu\n",
      "CWE ID CWE-755: target=0 → 21 mẫu, target=1 → 2 mẫu\n",
      "CWE ID CWE-763: target=0 → 7 mẫu, target=1 → 2 mẫu\n",
      "CWE ID CWE-769: target=0 → 3 mẫu, target=1 → 0 mẫu\n",
      "CWE ID CWE-77: target=0 → 217 mẫu, target=1 → 11 mẫu\n",
      "CWE ID CWE-770: target=0 → 59 mẫu, target=1 → 8 mẫu\n",
      "CWE ID CWE-772: target=0 → 1159 mẫu, target=1 → 46 mẫu\n",
      "CWE ID CWE-78: target=0 → 267 mẫu, target=1 → 11 mẫu\n",
      "CWE ID CWE-787: target=0 → 2720 mẫu, target=1 → 198 mẫu\n",
      "CWE ID CWE-79: target=0 → 822 mẫu, target=1 → 55 mẫu\n",
      "CWE ID CWE-824: target=0 → 6 mẫu, target=1 → 3 mẫu\n",
      "CWE ID CWE-834: target=0 → 314 mẫu, target=1 → 13 mẫu\n",
      "CWE ID CWE-835: target=0 → 830 mẫu, target=1 → 34 mẫu\n",
      "CWE ID CWE-862: target=0 → 47 mẫu, target=1 → 4 mẫu\n",
      "CWE ID CWE-89: target=0 → 209 mẫu, target=1 → 5 mẫu\n",
      "CWE ID CWE-90: target=0 → 17 mẫu, target=1 → 2 mẫu\n",
      "CWE ID CWE-909: target=0 → 48 mẫu, target=1 → 1 mẫu\n",
      "CWE ID CWE-918: target=0 → 36 mẫu, target=1 → 2 mẫu\n",
      "CWE ID CWE-93: target=0 → 99 mẫu, target=1 → 0 mẫu\n",
      "CWE ID CWE-94: target=0 → 169 mẫu, target=1 → 11 mẫu\n"
     ]
    }
   ],
   "source": [
    "import pandas as pd\n",
    "\n",
    "def count_target_per_cwe(file_path):\n",
    "    # Đọc file CSV\n",
    "    df = pd.read_csv(file_path)\n",
    "\n",
    "    # Nhóm theo 'CWE ID' và 'target', đếm số mẫu\n",
    "    result = df.groupby(['CWE ID', 'target']).size().unstack(fill_value=0)\n",
    "\n",
    "    # Đổi tên cột cho rõ nghĩa\n",
    "    result.columns = ['target_0_count', 'target_1_count']\n",
    "\n",
    "    # In kết quả\n",
    "    for cwe_id, row in result.iterrows():\n",
    "        print(f\"CWE ID {cwe_id}: target=0 → {row['target_0_count']} mẫu, target=1 → {row['target_1_count']} mẫu\")\n",
    "\n",
    "count_target_per_cwe(\"processed_data.csv\")  \n"
   ]
  },
  {
   "cell_type": "code",
   "execution_count": null,
   "id": "83acda10",
   "metadata": {},
   "outputs": [
    {
     "name": "stderr",
     "output_type": "stream",
     "text": [
      "C:\\Users\\Admin\\AppData\\Local\\Temp\\ipykernel_17188\\1076000386.py:5: DtypeWarning: Columns (1,20,22,23,27,28,29,37,38) have mixed types. Specify dtype option on import or set low_memory=False.\n",
      "  df = pd.read_csv(file_path)\n"
     ]
    },
    {
     "name": "stdout",
     "output_type": "stream",
     "text": [
      "CWE ID CWE-119: target=0 → 24370 mẫu, target=1 → 2127 mẫu\n",
      "CWE ID CWE-189: target=0 → 6627 mẫu, target=1 → 337 mẫu\n",
      "CWE ID CWE-20: target=0 → 19359 mẫu, target=1 → 1142 mẫu\n",
      "CWE ID CWE-399: target=0 → 14070 mẫu, target=1 → 736 mẫu\n",
      "CWE ID CWE-416: target=0 → 9450 mẫu, target=1 → 330 mẫu\n"
     ]
    }
   ],
   "source": [
    "import pandas as pd\n",
    "\n",
    "def count_target_for_selected_cwes(file_path, selected_cwes):\n",
    "    # Đọc file CSV\n",
    "    df = pd.read_csv(file_path)\n",
    "\n",
    "    # Chỉ giữ lại các dòng có CWE ID nằm trong danh sách chỉ định\n",
    "    df_filtered = df[df[\"CWE ID\"].isin(selected_cwes)]\n",
    "\n",
    "    # Nhóm theo 'CWE ID' và 'target', đếm số lượng\n",
    "    result = df_filtered.groupby(['CWE ID', 'target']).size().unstack(fill_value=0)\n",
    "\n",
    "    # Đảm bảo đủ 2 cột target\n",
    "    if 0 not in result.columns:\n",
    "        result[0] = 0\n",
    "    if 1 not in result.columns:\n",
    "        result[1] = 0\n",
    "\n",
    "    result = result[[0, 1]]  # sắp xếp cột theo thứ tự target=0, target=1\n",
    "    result.columns = ['target_0_count', 'target_1_count']\n",
    "\n",
    "    # In kết quả\n",
    "    for cwe_id, row in result.iterrows():\n",
    "        print(f\"CWE ID {cwe_id}: target=0 → {row['target_0_count']} mẫu, target=1 → {row['target_1_count']} mẫu\")\n",
    "\n",
    "# Danh sách các CWE cần kiểm tra        \n",
    "selected_cwes = ['CWE-119', 'CWE-399', 'CWE-189', 'CWE-20', 'CWE-416']\n",
    "\n",
    "# Gọi hàm\n",
    "count_target_for_selected_cwes(\"processed_data.csv\" , selected_cwes)\n"
   ]
  },
  {
   "cell_type": "code",
   "execution_count": 11,
   "id": "18fc526f",
   "metadata": {},
   "outputs": [
    {
     "name": "stderr",
     "output_type": "stream",
     "text": [
      "C:\\Users\\Admin\\AppData\\Local\\Temp\\ipykernel_17188\\1164360254.py:13: DtypeWarning: Columns (27,28,37,38) have mixed types. Specify dtype option on import or set low_memory=False.\n",
      "  df = pd.read_csv(input_file)\n"
     ]
    },
    {
     "name": "stdout",
     "output_type": "stream",
     "text": [
      "✅ Đã lưu 4486 support vectors benign vào cwe20/support_vectors_benign_cwe20.csv\n"
     ]
    }
   ],
   "source": [
    "import pandas as pd\n",
    "from sklearn.feature_extraction.text import TfidfVectorizer\n",
    "from sklearn.svm import SVC\n",
    "import os\n",
    "\n",
    "# ========== Cấu hình ==========\n",
    "input_file = \"cwe_filtered/CWE_20.csv\"\n",
    "output_file = \"cwe20/support_vectors_benign_cwe20.csv\"\n",
    "text_column = \"processed_func\"\n",
    "label_column = \"target\"\n",
    "\n",
    "# ========== Bước 1: Đọc dữ liệu ==========\n",
    "df = pd.read_csv(input_file)\n",
    "df = df.dropna(subset=[text_column])\n",
    "\n",
    "# ========== Bước 2: TF-IDF ==========\n",
    "vectorizer = TfidfVectorizer(token_pattern=r\"(?u)\\b\\w+\\b\", max_features=5000)\n",
    "X = vectorizer.fit_transform(df[text_column])\n",
    "y = df[label_column].values\n",
    "\n",
    "# ========== Bước 3: Huấn luyện SVC (kernel='rbf') và lấy support vector ==========\n",
    "svc = SVC(kernel='rbf')\n",
    "svc.fit(X, y)\n",
    "support_indices = svc.support_\n",
    "\n",
    "# ========== Bước 4: Lấy sample tương ứng và lọc benign ==========\n",
    "support_df = df.iloc[support_indices]\n",
    "support_df_benign = support_df[support_df[label_column] == 0]\n",
    "\n",
    "# ========== Bước 5: Ghi ra file ==========\n",
    "support_df_benign.to_csv(output_file, index=False)\n",
    "print(f\"✅ Đã lưu {len(support_df_benign)} support vectors benign vào {output_file}\")\n"
   ]
  },
  {
   "cell_type": "code",
   "execution_count": 12,
   "id": "67102f1c",
   "metadata": {},
   "outputs": [
    {
     "name": "stderr",
     "output_type": "stream",
     "text": [
      "d:\\CoVulPecker\\CoVulPecker-backend\\.conda\\lib\\site-packages\\keras\\src\\layers\\core\\embedding.py:90: UserWarning: Argument `input_length` is deprecated. Just remove it.\n",
      "  warnings.warn(\n"
     ]
    },
    {
     "name": "stdout",
     "output_type": "stream",
     "text": [
      "\u001b[1m141/141\u001b[0m \u001b[32m━━━━━━━━━━━━━━━━━━━━\u001b[0m\u001b[37m\u001b[0m \u001b[1m5s\u001b[0m 31ms/step\n",
      "✅ Đã lưu attention words\n",
      "\n",
      "📊 Top từ attention phổ biến:\n",
      "if: 841 lần\n",
      "struct: 750 lần\n",
      "void: 515 lần\n",
      "1: 500 lần\n",
      "return: 485 lần\n",
      "0: 400 lần\n",
      "static: 333 lần\n",
      "true: 147 lần\n",
      "this: 146 lần\n",
      "bool: 144 lần\n",
      "std: 143 lần\n",
      "size: 124 lần\n",
      "string: 124 lần\n",
      "const: 123 lần\n",
      "unsigned: 122 lần\n",
      "d: 111 lần\n",
      "int: 111 lần\n",
      "ctx: 106 lần\n",
      "offset: 91 lần\n",
      "false: 88 lần\n",
      "📁 Đã lưu thống kê top attention words\n"
     ]
    }
   ],
   "source": [
    "from tensorflow.keras.preprocessing.text import Tokenizer\n",
    "from tensorflow.keras.preprocessing.sequence import pad_sequences\n",
    "from keras.models import Model\n",
    "from collections import Counter\n",
    "import pandas as pd\n",
    "import numpy as np\n",
    "\n",
    "# ====================== CONFIG ======================\n",
    "CSV_FILE = \"cwe20/support_vectors_benign_cwe20.csv\"\n",
    "MAX_LEN = 200\n",
    "EMBEDDING_DIM = 100\n",
    "TOP_K = 10\n",
    "USE_DROPOUT = False\n",
    "# ====================================================\n",
    "\n",
    "# ====== Load Data ======\n",
    "df = pd.read_csv(CSV_FILE)\n",
    "texts = df['processed_func'].astype(str).tolist()\n",
    "\n",
    "# ====== Tokenize với bộ lọc giữ dấu gạch dưới _ ======\n",
    "tokenizer = Tokenizer(filters='!\"#$%&()*+,-./:;<=>?@[\\\\]^`{|}~\\t\\n')  # giữ lại '_'\n",
    "tokenizer.fit_on_texts(texts)\n",
    "sequences = tokenizer.texts_to_sequences(texts)\n",
    "word_index = tokenizer.word_index\n",
    "index_word = {v: k for k, v in word_index.items()}\n",
    "X = pad_sequences(sequences, maxlen=MAX_LEN)\n",
    "\n",
    "# ====== Dummy embedding và mô hình attention đơn giản ======\n",
    "from keras.layers import (Input, Embedding, Bidirectional, LSTM, Dense,\n",
    "                          Flatten, Dropout, RepeatVector, Permute, Multiply, Activation)\n",
    "\n",
    "def attention_3d_block(inputs):\n",
    "    attention = Dense(1, activation='tanh')(inputs)\n",
    "    attention = Flatten()(attention)\n",
    "    attention = Activation('softmax', name='attention_vec')(attention)\n",
    "    attention = RepeatVector(inputs.shape[-1])(attention)\n",
    "    attention = Permute([2, 1])(attention)\n",
    "    return Multiply()([inputs, attention])\n",
    "\n",
    "def BiLSTM_network(MAX_LEN, EMBEDDING_DIM, word_index, embedding_matrix, use_dropout=False):\n",
    "    inputs = Input(shape=(MAX_LEN,))\n",
    "    embedding = Embedding(len(word_index)+1, EMBEDDING_DIM, weights=[embedding_matrix],\n",
    "                          input_length=MAX_LEN, trainable=False)(inputs)\n",
    "    bilstm = Bidirectional(LSTM(64, return_sequences=True))(embedding)\n",
    "    bilstm2 = Bidirectional(LSTM(64, return_sequences=True))(bilstm)\n",
    "    attn = attention_3d_block(bilstm2)\n",
    "    flat = Flatten()(attn)\n",
    "    dense = Dense(64, activation='relu')(Dropout(0.5)(flat)) if use_dropout else Dense(64, activation='relu')(flat)\n",
    "    dense = Dense(32, activation='relu')(dense)\n",
    "    out = Dense(1, activation='sigmoid')(dense)\n",
    "    return Model(inputs=inputs, outputs=out)\n",
    "\n",
    "# Dummy embedding\n",
    "embedding_matrix = np.random.uniform(-0.05, 0.05, (len(word_index) + 1, EMBEDDING_DIM))\n",
    "\n",
    "# Build model\n",
    "model = BiLSTM_network(MAX_LEN, EMBEDDING_DIM, word_index, embedding_matrix, USE_DROPOUT)\n",
    "model.compile(loss='binary_crossentropy', optimizer='adam', metrics=['accuracy'])\n",
    "\n",
    "# ====== Extract attention weights ======\n",
    "attention_model = Model(inputs=model.input, outputs=model.get_layer('attention_vec').output)\n",
    "attention_weights = attention_model.predict(X, batch_size=32)\n",
    "\n",
    "# ====== Extract attention words ======\n",
    "attention_words = []\n",
    "all_top_words = []\n",
    "\n",
    "for i in range(len(attention_weights)):\n",
    "    attn = attention_weights[i]\n",
    "    token_ids = X[i]\n",
    "    top_idx = np.argsort(attn)[-TOP_K:][::-1]\n",
    "\n",
    "    words = []\n",
    "    for j in top_idx:\n",
    "        token_id = token_ids[j]\n",
    "        if token_id > 0 and token_id in index_word:\n",
    "            words.append(index_word[token_id])\n",
    "\n",
    "    attention_words.append(words)\n",
    "    all_top_words.extend(words)\n",
    "\n",
    "# ====== Lưu attention words và code ======\n",
    "output_df = pd.DataFrame({\n",
    "    \"sample_index\": list(range(len(attention_words))),\n",
    "    \"processed_func\": texts,\n",
    "    \"attention_words\": [\", \".join(words) for words in attention_words]\n",
    "})\n",
    "output_df.to_csv(\"cwe20/attention_words_cwe20.csv\", index=False)\n",
    "print(\"✅ Đã lưu attention words\")\n",
    "\n",
    "# ====== Thống kê top attention words ======\n",
    "word_counts = Counter(all_top_words)\n",
    "most_common_words = word_counts.most_common(20)\n",
    "\n",
    "print(\"\\n📊 Top từ attention phổ biến:\")\n",
    "for word, count in most_common_words:\n",
    "    print(f\"{word}: {count} lần\")\n",
    "\n",
    "# Lưu thống kê ra file\n",
    "df_stats = pd.DataFrame(most_common_words, columns=[\"word\", \"count\"])\n",
    "df_stats.to_csv(\"cwe20/top_attention_word_stats_cwe20.csv\", index=False)\n",
    "print(\"📁 Đã lưu thống kê top attention words\")\n"
   ]
  },
  {
   "cell_type": "code",
   "execution_count": 8,
   "id": "476a4823",
   "metadata": {},
   "outputs": [
    {
     "name": "stdout",
     "output_type": "stream",
     "text": [
      "✅ Đã thêm idx cho CWE_399.csv\n",
      "✅ Đã thêm idx cho CWE_89.csv\n"
     ]
    },
    {
     "name": "stderr",
     "output_type": "stream",
     "text": [
      "C:\\Users\\Admin\\AppData\\Local\\Temp\\ipykernel_7872\\2563135189.py:21: DtypeWarning: Columns (27,28,37,38) have mixed types. Specify dtype option on import or set low_memory=False.\n",
      "  df = pd.read_csv(file_path)\n"
     ]
    },
    {
     "name": "stdout",
     "output_type": "stream",
     "text": [
      "✅ Đã thêm idx cho CWE_119.csv\n",
      "✅ Đã thêm idx cho CWE_189.csv\n",
      "✅ Đã thêm idx cho CWE_416.csv\n"
     ]
    },
    {
     "name": "stderr",
     "output_type": "stream",
     "text": [
      "C:\\Users\\Admin\\AppData\\Local\\Temp\\ipykernel_7872\\2563135189.py:21: DtypeWarning: Columns (27,28,37,38) have mixed types. Specify dtype option on import or set low_memory=False.\n",
      "  df = pd.read_csv(file_path)\n"
     ]
    },
    {
     "name": "stdout",
     "output_type": "stream",
     "text": [
      "✅ Đã thêm idx cho CWE_20.csv\n",
      "✅ Đã thêm idx cho CWE_190.csv\n"
     ]
    }
   ],
   "source": [
    "import pandas as pd\n",
    "import os\n",
    "\n",
    "# Thư mục chứa các file\n",
    "folder = \"cwe_filtered\"\n",
    "\n",
    "# Danh sách các file muốn thêm cột idx\n",
    "file_names = [\n",
    "    \"CWE_399.csv\",\n",
    "    \"CWE_89.csv\",\n",
    "    \"CWE_119.csv\",\n",
    "    \"CWE_189.csv\",\n",
    "    \"CWE_416.csv\",\n",
    "    \"CWE_20.csv\",\n",
    "    \"CWE_190.csv\"\n",
    "]\n",
    "\n",
    "# Thêm cột idx cho từng file\n",
    "for file_name in file_names:\n",
    "    file_path = os.path.join(folder, file_name)\n",
    "    df = pd.read_csv(file_path)\n",
    "    df[\"idx\"] = range(len(df))\n",
    "    df.to_csv(file_path, index=False)\n",
    "    print(f\"✅ Đã thêm idx cho {file_name}\")\n"
   ]
  },
  {
   "cell_type": "code",
   "execution_count": 16,
   "id": "ab16359f",
   "metadata": {},
   "outputs": [],
   "source": [
    "# Đọc file predict.txt cũ (chỉ có label), thêm idx vào đầu mỗi dòng\n",
    "with open(\"cwe119/predict_linevul_cwe119.txt\", \"r\") as f:\n",
    "    labels = f.readlines()\n",
    "\n",
    "# Nếu file cũ không có header\n",
    "with open(\"cwe119/predict_linevul_cwe119.txt\", \"w\") as f:\n",
    "    f.write(\"idx\\tlabel\\n\")  # Thêm header\n",
    "    for idx, label in enumerate(labels):\n",
    "        label = label.strip()\n",
    "        if label:  # Bỏ qua dòng trống\n",
    "            f.write(f\"{idx}\\t{label}\\n\")\n"
   ]
  },
  {
   "cell_type": "code",
   "execution_count": 20,
   "id": "93c509dc",
   "metadata": {},
   "outputs": [],
   "source": [
    "# Đọc file predict.txt cũ (chỉ có label), thêm idx vào đầu mỗi dòng\n",
    "with open(\"cwe119/predict_adv_cwe119.txt\", \"r\") as f:\n",
    "    labels = f.readlines()\n",
    "\n",
    "# Nếu file cũ không có header\n",
    "with open(\"cwe119/predict_adv_cwe119.txt\", \"w\") as f:\n",
    "    f.write(\"idx\\tlabel\\n\")  # Thêm header\n",
    "    for idx, label in enumerate(labels):\n",
    "        label = label.strip()\n",
    "        if label:  # Bỏ qua dòng trống\n",
    "            f.write(f\"{idx}\\t{label}\\n\")\n"
   ]
  },
  {
   "cell_type": "code",
   "execution_count": 17,
   "id": "5a827bbc",
   "metadata": {},
   "outputs": [
    {
     "name": "stderr",
     "output_type": "stream",
     "text": [
      "C:\\Users\\Admin\\AppData\\Local\\Temp\\ipykernel_17188\\3568267915.py:18: DtypeWarning: Columns (27,28,37,38) have mixed types. Specify dtype option on import or set low_memory=False.\n",
      "  df = pd.read_csv(adv_file_path)\n"
     ]
    },
    {
     "name": "stdout",
     "output_type": "stream",
     "text": [
      "🔍 Có 1763 mã dễ bị tấn công được chọn để sinh mã độc.\n"
     ]
    },
    {
     "name": "stderr",
     "output_type": "stream",
     "text": [
      "d:\\Nam3_ANTN\\ML\\DA\\Coding\\fga_selection.py:39: DtypeWarning: Columns (27,28,37,38) have mixed types. Specify dtype option on import or set low_memory=False.\n",
      "  df = pd.read_csv(adv_file_path)\n",
      "d:\\Nam3_ANTN\\ML\\DA\\Coding\\fga_selection.py:39: DtypeWarning: Columns (27,28,37,38) have mixed types. Specify dtype option on import or set low_memory=False.\n",
      "  df = pd.read_csv(adv_file_path)\n",
      "d:\\Nam3_ANTN\\ML\\DA\\Coding\\fga_selection.py:39: DtypeWarning: Columns (27,28,37,38) have mixed types. Specify dtype option on import or set low_memory=False.\n",
      "  df = pd.read_csv(adv_file_path)\n",
      "d:\\Nam3_ANTN\\ML\\DA\\Coding\\fga_selection.py:39: DtypeWarning: Columns (27,28,37,38) have mixed types. Specify dtype option on import or set low_memory=False.\n",
      "  df = pd.read_csv(adv_file_path)\n",
      "d:\\Nam3_ANTN\\ML\\DA\\Coding\\fga_selection.py:39: DtypeWarning: Columns (27,28,37,38) have mixed types. Specify dtype option on import or set low_memory=False.\n",
      "  df = pd.read_csv(adv_file_path)\n",
      "d:\\Nam3_ANTN\\ML\\DA\\Coding\\fga_selection.py:39: DtypeWarning: Columns (27,28,37,38) have mixed types. Specify dtype option on import or set low_memory=False.\n",
      "  df = pd.read_csv(adv_file_path)\n",
      "d:\\Nam3_ANTN\\ML\\DA\\Coding\\fga_selection.py:39: DtypeWarning: Columns (27,28,37,38) have mixed types. Specify dtype option on import or set low_memory=False.\n",
      "  df = pd.read_csv(adv_file_path)\n",
      "d:\\Nam3_ANTN\\ML\\DA\\Coding\\fga_selection.py:39: DtypeWarning: Columns (27,28,37,38) have mixed types. Specify dtype option on import or set low_memory=False.\n",
      "  df = pd.read_csv(adv_file_path)\n",
      "d:\\Nam3_ANTN\\ML\\DA\\Coding\\fga_selection.py:39: DtypeWarning: Columns (27,28,37,38) have mixed types. Specify dtype option on import or set low_memory=False.\n",
      "  df = pd.read_csv(adv_file_path)\n",
      "d:\\Nam3_ANTN\\ML\\DA\\Coding\\fga_selection.py:39: DtypeWarning: Columns (27,28,37,38) have mixed types. Specify dtype option on import or set low_memory=False.\n",
      "  df = pd.read_csv(adv_file_path)\n"
     ]
    },
    {
     "name": "stdout",
     "output_type": "stream",
     "text": [
      "⚙️ Thế hệ 1/30\n"
     ]
    },
    {
     "name": "stderr",
     "output_type": "stream",
     "text": [
      "d:\\Nam3_ANTN\\ML\\DA\\Coding\\fga_selection.py:39: DtypeWarning: Columns (27,28,37,38) have mixed types. Specify dtype option on import or set low_memory=False.\n",
      "  df = pd.read_csv(adv_file_path)\n",
      "d:\\Nam3_ANTN\\ML\\DA\\Coding\\fga_selection.py:39: DtypeWarning: Columns (27,28,37,38) have mixed types. Specify dtype option on import or set low_memory=False.\n",
      "  df = pd.read_csv(adv_file_path)\n",
      "d:\\Nam3_ANTN\\ML\\DA\\Coding\\fga_selection.py:39: DtypeWarning: Columns (27,28,37,38) have mixed types. Specify dtype option on import or set low_memory=False.\n",
      "  df = pd.read_csv(adv_file_path)\n",
      "d:\\Nam3_ANTN\\ML\\DA\\Coding\\fga_selection.py:39: DtypeWarning: Columns (27,28,37,38) have mixed types. Specify dtype option on import or set low_memory=False.\n",
      "  df = pd.read_csv(adv_file_path)\n",
      "d:\\Nam3_ANTN\\ML\\DA\\Coding\\fga_selection.py:39: DtypeWarning: Columns (27,28,37,38) have mixed types. Specify dtype option on import or set low_memory=False.\n",
      "  df = pd.read_csv(adv_file_path)\n",
      "d:\\Nam3_ANTN\\ML\\DA\\Coding\\fga_selection.py:39: DtypeWarning: Columns (27,28,37,38) have mixed types. Specify dtype option on import or set low_memory=False.\n",
      "  df = pd.read_csv(adv_file_path)\n",
      "d:\\Nam3_ANTN\\ML\\DA\\Coding\\fga_selection.py:39: DtypeWarning: Columns (27,28,37,38) have mixed types. Specify dtype option on import or set low_memory=False.\n",
      "  df = pd.read_csv(adv_file_path)\n",
      "d:\\Nam3_ANTN\\ML\\DA\\Coding\\fga_selection.py:39: DtypeWarning: Columns (27,28,37,38) have mixed types. Specify dtype option on import or set low_memory=False.\n",
      "  df = pd.read_csv(adv_file_path)\n",
      "d:\\Nam3_ANTN\\ML\\DA\\Coding\\fga_selection.py:39: DtypeWarning: Columns (27,28,37,38) have mixed types. Specify dtype option on import or set low_memory=False.\n",
      "  df = pd.read_csv(adv_file_path)\n",
      "d:\\Nam3_ANTN\\ML\\DA\\Coding\\fga_selection.py:39: DtypeWarning: Columns (27,28,37,38) have mixed types. Specify dtype option on import or set low_memory=False.\n",
      "  df = pd.read_csv(adv_file_path)\n"
     ]
    },
    {
     "name": "stdout",
     "output_type": "stream",
     "text": [
      "⚙️ Thế hệ 2/30\n"
     ]
    },
    {
     "name": "stderr",
     "output_type": "stream",
     "text": [
      "d:\\Nam3_ANTN\\ML\\DA\\Coding\\fga_selection.py:39: DtypeWarning: Columns (27,28,37,38) have mixed types. Specify dtype option on import or set low_memory=False.\n",
      "  df = pd.read_csv(adv_file_path)\n",
      "d:\\Nam3_ANTN\\ML\\DA\\Coding\\fga_selection.py:39: DtypeWarning: Columns (27,28,37,38) have mixed types. Specify dtype option on import or set low_memory=False.\n",
      "  df = pd.read_csv(adv_file_path)\n",
      "d:\\Nam3_ANTN\\ML\\DA\\Coding\\fga_selection.py:39: DtypeWarning: Columns (27,28,37,38) have mixed types. Specify dtype option on import or set low_memory=False.\n",
      "  df = pd.read_csv(adv_file_path)\n",
      "d:\\Nam3_ANTN\\ML\\DA\\Coding\\fga_selection.py:39: DtypeWarning: Columns (27,28,37,38) have mixed types. Specify dtype option on import or set low_memory=False.\n",
      "  df = pd.read_csv(adv_file_path)\n",
      "d:\\Nam3_ANTN\\ML\\DA\\Coding\\fga_selection.py:39: DtypeWarning: Columns (27,28,37,38) have mixed types. Specify dtype option on import or set low_memory=False.\n",
      "  df = pd.read_csv(adv_file_path)\n",
      "d:\\Nam3_ANTN\\ML\\DA\\Coding\\fga_selection.py:39: DtypeWarning: Columns (27,28,37,38) have mixed types. Specify dtype option on import or set low_memory=False.\n",
      "  df = pd.read_csv(adv_file_path)\n",
      "d:\\Nam3_ANTN\\ML\\DA\\Coding\\fga_selection.py:39: DtypeWarning: Columns (27,28,37,38) have mixed types. Specify dtype option on import or set low_memory=False.\n",
      "  df = pd.read_csv(adv_file_path)\n",
      "d:\\Nam3_ANTN\\ML\\DA\\Coding\\fga_selection.py:39: DtypeWarning: Columns (27,28,37,38) have mixed types. Specify dtype option on import or set low_memory=False.\n",
      "  df = pd.read_csv(adv_file_path)\n",
      "d:\\Nam3_ANTN\\ML\\DA\\Coding\\fga_selection.py:39: DtypeWarning: Columns (27,28,37,38) have mixed types. Specify dtype option on import or set low_memory=False.\n",
      "  df = pd.read_csv(adv_file_path)\n",
      "d:\\Nam3_ANTN\\ML\\DA\\Coding\\fga_selection.py:39: DtypeWarning: Columns (27,28,37,38) have mixed types. Specify dtype option on import or set low_memory=False.\n",
      "  df = pd.read_csv(adv_file_path)\n"
     ]
    },
    {
     "name": "stdout",
     "output_type": "stream",
     "text": [
      "⚙️ Thế hệ 3/30\n"
     ]
    },
    {
     "name": "stderr",
     "output_type": "stream",
     "text": [
      "d:\\Nam3_ANTN\\ML\\DA\\Coding\\fga_selection.py:39: DtypeWarning: Columns (27,28,37,38) have mixed types. Specify dtype option on import or set low_memory=False.\n",
      "  df = pd.read_csv(adv_file_path)\n",
      "d:\\Nam3_ANTN\\ML\\DA\\Coding\\fga_selection.py:39: DtypeWarning: Columns (27,28,37,38) have mixed types. Specify dtype option on import or set low_memory=False.\n",
      "  df = pd.read_csv(adv_file_path)\n",
      "d:\\Nam3_ANTN\\ML\\DA\\Coding\\fga_selection.py:39: DtypeWarning: Columns (27,28,37,38) have mixed types. Specify dtype option on import or set low_memory=False.\n",
      "  df = pd.read_csv(adv_file_path)\n",
      "d:\\Nam3_ANTN\\ML\\DA\\Coding\\fga_selection.py:39: DtypeWarning: Columns (27,28,37,38) have mixed types. Specify dtype option on import or set low_memory=False.\n",
      "  df = pd.read_csv(adv_file_path)\n",
      "d:\\Nam3_ANTN\\ML\\DA\\Coding\\fga_selection.py:39: DtypeWarning: Columns (27,28,37,38) have mixed types. Specify dtype option on import or set low_memory=False.\n",
      "  df = pd.read_csv(adv_file_path)\n",
      "d:\\Nam3_ANTN\\ML\\DA\\Coding\\fga_selection.py:39: DtypeWarning: Columns (27,28,37,38) have mixed types. Specify dtype option on import or set low_memory=False.\n",
      "  df = pd.read_csv(adv_file_path)\n",
      "d:\\Nam3_ANTN\\ML\\DA\\Coding\\fga_selection.py:39: DtypeWarning: Columns (27,28,37,38) have mixed types. Specify dtype option on import or set low_memory=False.\n",
      "  df = pd.read_csv(adv_file_path)\n",
      "d:\\Nam3_ANTN\\ML\\DA\\Coding\\fga_selection.py:39: DtypeWarning: Columns (27,28,37,38) have mixed types. Specify dtype option on import or set low_memory=False.\n",
      "  df = pd.read_csv(adv_file_path)\n",
      "d:\\Nam3_ANTN\\ML\\DA\\Coding\\fga_selection.py:39: DtypeWarning: Columns (27,28,37,38) have mixed types. Specify dtype option on import or set low_memory=False.\n",
      "  df = pd.read_csv(adv_file_path)\n",
      "d:\\Nam3_ANTN\\ML\\DA\\Coding\\fga_selection.py:39: DtypeWarning: Columns (27,28,37,38) have mixed types. Specify dtype option on import or set low_memory=False.\n",
      "  df = pd.read_csv(adv_file_path)\n"
     ]
    },
    {
     "name": "stdout",
     "output_type": "stream",
     "text": [
      "⚙️ Thế hệ 4/30\n"
     ]
    },
    {
     "name": "stderr",
     "output_type": "stream",
     "text": [
      "d:\\Nam3_ANTN\\ML\\DA\\Coding\\fga_selection.py:39: DtypeWarning: Columns (27,28,37,38) have mixed types. Specify dtype option on import or set low_memory=False.\n",
      "  df = pd.read_csv(adv_file_path)\n",
      "d:\\Nam3_ANTN\\ML\\DA\\Coding\\fga_selection.py:39: DtypeWarning: Columns (27,28,37,38) have mixed types. Specify dtype option on import or set low_memory=False.\n",
      "  df = pd.read_csv(adv_file_path)\n",
      "d:\\Nam3_ANTN\\ML\\DA\\Coding\\fga_selection.py:39: DtypeWarning: Columns (27,28,37,38) have mixed types. Specify dtype option on import or set low_memory=False.\n",
      "  df = pd.read_csv(adv_file_path)\n",
      "d:\\Nam3_ANTN\\ML\\DA\\Coding\\fga_selection.py:39: DtypeWarning: Columns (27,28,37,38) have mixed types. Specify dtype option on import or set low_memory=False.\n",
      "  df = pd.read_csv(adv_file_path)\n",
      "d:\\Nam3_ANTN\\ML\\DA\\Coding\\fga_selection.py:39: DtypeWarning: Columns (27,28,37,38) have mixed types. Specify dtype option on import or set low_memory=False.\n",
      "  df = pd.read_csv(adv_file_path)\n",
      "d:\\Nam3_ANTN\\ML\\DA\\Coding\\fga_selection.py:39: DtypeWarning: Columns (27,28,37,38) have mixed types. Specify dtype option on import or set low_memory=False.\n",
      "  df = pd.read_csv(adv_file_path)\n",
      "d:\\Nam3_ANTN\\ML\\DA\\Coding\\fga_selection.py:39: DtypeWarning: Columns (27,28,37,38) have mixed types. Specify dtype option on import or set low_memory=False.\n",
      "  df = pd.read_csv(adv_file_path)\n",
      "d:\\Nam3_ANTN\\ML\\DA\\Coding\\fga_selection.py:39: DtypeWarning: Columns (27,28,37,38) have mixed types. Specify dtype option on import or set low_memory=False.\n",
      "  df = pd.read_csv(adv_file_path)\n",
      "d:\\Nam3_ANTN\\ML\\DA\\Coding\\fga_selection.py:39: DtypeWarning: Columns (27,28,37,38) have mixed types. Specify dtype option on import or set low_memory=False.\n",
      "  df = pd.read_csv(adv_file_path)\n",
      "d:\\Nam3_ANTN\\ML\\DA\\Coding\\fga_selection.py:39: DtypeWarning: Columns (27,28,37,38) have mixed types. Specify dtype option on import or set low_memory=False.\n",
      "  df = pd.read_csv(adv_file_path)\n"
     ]
    },
    {
     "name": "stdout",
     "output_type": "stream",
     "text": [
      "⚙️ Thế hệ 5/30\n"
     ]
    },
    {
     "name": "stderr",
     "output_type": "stream",
     "text": [
      "d:\\Nam3_ANTN\\ML\\DA\\Coding\\fga_selection.py:39: DtypeWarning: Columns (27,28,37,38) have mixed types. Specify dtype option on import or set low_memory=False.\n",
      "  df = pd.read_csv(adv_file_path)\n",
      "d:\\Nam3_ANTN\\ML\\DA\\Coding\\fga_selection.py:39: DtypeWarning: Columns (27,28,37,38) have mixed types. Specify dtype option on import or set low_memory=False.\n",
      "  df = pd.read_csv(adv_file_path)\n",
      "d:\\Nam3_ANTN\\ML\\DA\\Coding\\fga_selection.py:39: DtypeWarning: Columns (27,28,37,38) have mixed types. Specify dtype option on import or set low_memory=False.\n",
      "  df = pd.read_csv(adv_file_path)\n",
      "d:\\Nam3_ANTN\\ML\\DA\\Coding\\fga_selection.py:39: DtypeWarning: Columns (27,28,37,38) have mixed types. Specify dtype option on import or set low_memory=False.\n",
      "  df = pd.read_csv(adv_file_path)\n",
      "d:\\Nam3_ANTN\\ML\\DA\\Coding\\fga_selection.py:39: DtypeWarning: Columns (27,28,37,38) have mixed types. Specify dtype option on import or set low_memory=False.\n",
      "  df = pd.read_csv(adv_file_path)\n",
      "d:\\Nam3_ANTN\\ML\\DA\\Coding\\fga_selection.py:39: DtypeWarning: Columns (27,28,37,38) have mixed types. Specify dtype option on import or set low_memory=False.\n",
      "  df = pd.read_csv(adv_file_path)\n",
      "d:\\Nam3_ANTN\\ML\\DA\\Coding\\fga_selection.py:39: DtypeWarning: Columns (27,28,37,38) have mixed types. Specify dtype option on import or set low_memory=False.\n",
      "  df = pd.read_csv(adv_file_path)\n",
      "d:\\Nam3_ANTN\\ML\\DA\\Coding\\fga_selection.py:39: DtypeWarning: Columns (27,28,37,38) have mixed types. Specify dtype option on import or set low_memory=False.\n",
      "  df = pd.read_csv(adv_file_path)\n",
      "d:\\Nam3_ANTN\\ML\\DA\\Coding\\fga_selection.py:39: DtypeWarning: Columns (27,28,37,38) have mixed types. Specify dtype option on import or set low_memory=False.\n",
      "  df = pd.read_csv(adv_file_path)\n",
      "d:\\Nam3_ANTN\\ML\\DA\\Coding\\fga_selection.py:39: DtypeWarning: Columns (27,28,37,38) have mixed types. Specify dtype option on import or set low_memory=False.\n",
      "  df = pd.read_csv(adv_file_path)\n"
     ]
    },
    {
     "name": "stdout",
     "output_type": "stream",
     "text": [
      "⚙️ Thế hệ 6/30\n"
     ]
    },
    {
     "name": "stderr",
     "output_type": "stream",
     "text": [
      "d:\\Nam3_ANTN\\ML\\DA\\Coding\\fga_selection.py:39: DtypeWarning: Columns (27,28,37,38) have mixed types. Specify dtype option on import or set low_memory=False.\n",
      "  df = pd.read_csv(adv_file_path)\n",
      "d:\\Nam3_ANTN\\ML\\DA\\Coding\\fga_selection.py:39: DtypeWarning: Columns (27,28,37,38) have mixed types. Specify dtype option on import or set low_memory=False.\n",
      "  df = pd.read_csv(adv_file_path)\n",
      "d:\\Nam3_ANTN\\ML\\DA\\Coding\\fga_selection.py:39: DtypeWarning: Columns (27,28,37,38) have mixed types. Specify dtype option on import or set low_memory=False.\n",
      "  df = pd.read_csv(adv_file_path)\n",
      "d:\\Nam3_ANTN\\ML\\DA\\Coding\\fga_selection.py:39: DtypeWarning: Columns (27,28,37,38) have mixed types. Specify dtype option on import or set low_memory=False.\n",
      "  df = pd.read_csv(adv_file_path)\n",
      "d:\\Nam3_ANTN\\ML\\DA\\Coding\\fga_selection.py:39: DtypeWarning: Columns (27,28,37,38) have mixed types. Specify dtype option on import or set low_memory=False.\n",
      "  df = pd.read_csv(adv_file_path)\n",
      "d:\\Nam3_ANTN\\ML\\DA\\Coding\\fga_selection.py:39: DtypeWarning: Columns (27,28,37,38) have mixed types. Specify dtype option on import or set low_memory=False.\n",
      "  df = pd.read_csv(adv_file_path)\n",
      "d:\\Nam3_ANTN\\ML\\DA\\Coding\\fga_selection.py:39: DtypeWarning: Columns (27,28,37,38) have mixed types. Specify dtype option on import or set low_memory=False.\n",
      "  df = pd.read_csv(adv_file_path)\n",
      "d:\\Nam3_ANTN\\ML\\DA\\Coding\\fga_selection.py:39: DtypeWarning: Columns (27,28,37,38) have mixed types. Specify dtype option on import or set low_memory=False.\n",
      "  df = pd.read_csv(adv_file_path)\n",
      "d:\\Nam3_ANTN\\ML\\DA\\Coding\\fga_selection.py:39: DtypeWarning: Columns (27,28,37,38) have mixed types. Specify dtype option on import or set low_memory=False.\n",
      "  df = pd.read_csv(adv_file_path)\n",
      "d:\\Nam3_ANTN\\ML\\DA\\Coding\\fga_selection.py:39: DtypeWarning: Columns (27,28,37,38) have mixed types. Specify dtype option on import or set low_memory=False.\n",
      "  df = pd.read_csv(adv_file_path)\n"
     ]
    },
    {
     "name": "stdout",
     "output_type": "stream",
     "text": [
      "⚙️ Thế hệ 7/30\n"
     ]
    },
    {
     "name": "stderr",
     "output_type": "stream",
     "text": [
      "d:\\Nam3_ANTN\\ML\\DA\\Coding\\fga_selection.py:39: DtypeWarning: Columns (27,28,37,38) have mixed types. Specify dtype option on import or set low_memory=False.\n",
      "  df = pd.read_csv(adv_file_path)\n",
      "d:\\Nam3_ANTN\\ML\\DA\\Coding\\fga_selection.py:39: DtypeWarning: Columns (27,28,37,38) have mixed types. Specify dtype option on import or set low_memory=False.\n",
      "  df = pd.read_csv(adv_file_path)\n",
      "d:\\Nam3_ANTN\\ML\\DA\\Coding\\fga_selection.py:39: DtypeWarning: Columns (27,28,37,38) have mixed types. Specify dtype option on import or set low_memory=False.\n",
      "  df = pd.read_csv(adv_file_path)\n",
      "d:\\Nam3_ANTN\\ML\\DA\\Coding\\fga_selection.py:39: DtypeWarning: Columns (27,28,37,38) have mixed types. Specify dtype option on import or set low_memory=False.\n",
      "  df = pd.read_csv(adv_file_path)\n",
      "d:\\Nam3_ANTN\\ML\\DA\\Coding\\fga_selection.py:39: DtypeWarning: Columns (27,28,37,38) have mixed types. Specify dtype option on import or set low_memory=False.\n",
      "  df = pd.read_csv(adv_file_path)\n",
      "d:\\Nam3_ANTN\\ML\\DA\\Coding\\fga_selection.py:39: DtypeWarning: Columns (27,28,37,38) have mixed types. Specify dtype option on import or set low_memory=False.\n",
      "  df = pd.read_csv(adv_file_path)\n",
      "d:\\Nam3_ANTN\\ML\\DA\\Coding\\fga_selection.py:39: DtypeWarning: Columns (27,28,37,38) have mixed types. Specify dtype option on import or set low_memory=False.\n",
      "  df = pd.read_csv(adv_file_path)\n",
      "d:\\Nam3_ANTN\\ML\\DA\\Coding\\fga_selection.py:39: DtypeWarning: Columns (27,28,37,38) have mixed types. Specify dtype option on import or set low_memory=False.\n",
      "  df = pd.read_csv(adv_file_path)\n",
      "d:\\Nam3_ANTN\\ML\\DA\\Coding\\fga_selection.py:39: DtypeWarning: Columns (27,28,37,38) have mixed types. Specify dtype option on import or set low_memory=False.\n",
      "  df = pd.read_csv(adv_file_path)\n",
      "d:\\Nam3_ANTN\\ML\\DA\\Coding\\fga_selection.py:39: DtypeWarning: Columns (27,28,37,38) have mixed types. Specify dtype option on import or set low_memory=False.\n",
      "  df = pd.read_csv(adv_file_path)\n"
     ]
    },
    {
     "name": "stdout",
     "output_type": "stream",
     "text": [
      "⚙️ Thế hệ 8/30\n"
     ]
    },
    {
     "name": "stderr",
     "output_type": "stream",
     "text": [
      "d:\\Nam3_ANTN\\ML\\DA\\Coding\\fga_selection.py:39: DtypeWarning: Columns (27,28,37,38) have mixed types. Specify dtype option on import or set low_memory=False.\n",
      "  df = pd.read_csv(adv_file_path)\n",
      "d:\\Nam3_ANTN\\ML\\DA\\Coding\\fga_selection.py:39: DtypeWarning: Columns (27,28,37,38) have mixed types. Specify dtype option on import or set low_memory=False.\n",
      "  df = pd.read_csv(adv_file_path)\n",
      "d:\\Nam3_ANTN\\ML\\DA\\Coding\\fga_selection.py:39: DtypeWarning: Columns (27,28,37,38) have mixed types. Specify dtype option on import or set low_memory=False.\n",
      "  df = pd.read_csv(adv_file_path)\n",
      "d:\\Nam3_ANTN\\ML\\DA\\Coding\\fga_selection.py:39: DtypeWarning: Columns (27,28,37,38) have mixed types. Specify dtype option on import or set low_memory=False.\n",
      "  df = pd.read_csv(adv_file_path)\n",
      "d:\\Nam3_ANTN\\ML\\DA\\Coding\\fga_selection.py:39: DtypeWarning: Columns (27,28,37,38) have mixed types. Specify dtype option on import or set low_memory=False.\n",
      "  df = pd.read_csv(adv_file_path)\n",
      "d:\\Nam3_ANTN\\ML\\DA\\Coding\\fga_selection.py:39: DtypeWarning: Columns (27,28,37,38) have mixed types. Specify dtype option on import or set low_memory=False.\n",
      "  df = pd.read_csv(adv_file_path)\n",
      "d:\\Nam3_ANTN\\ML\\DA\\Coding\\fga_selection.py:39: DtypeWarning: Columns (27,28,37,38) have mixed types. Specify dtype option on import or set low_memory=False.\n",
      "  df = pd.read_csv(adv_file_path)\n",
      "d:\\Nam3_ANTN\\ML\\DA\\Coding\\fga_selection.py:39: DtypeWarning: Columns (27,28,37,38) have mixed types. Specify dtype option on import or set low_memory=False.\n",
      "  df = pd.read_csv(adv_file_path)\n",
      "d:\\Nam3_ANTN\\ML\\DA\\Coding\\fga_selection.py:39: DtypeWarning: Columns (27,28,37,38) have mixed types. Specify dtype option on import or set low_memory=False.\n",
      "  df = pd.read_csv(adv_file_path)\n",
      "d:\\Nam3_ANTN\\ML\\DA\\Coding\\fga_selection.py:39: DtypeWarning: Columns (27,28,37,38) have mixed types. Specify dtype option on import or set low_memory=False.\n",
      "  df = pd.read_csv(adv_file_path)\n"
     ]
    },
    {
     "name": "stdout",
     "output_type": "stream",
     "text": [
      "⚙️ Thế hệ 9/30\n"
     ]
    },
    {
     "name": "stderr",
     "output_type": "stream",
     "text": [
      "d:\\Nam3_ANTN\\ML\\DA\\Coding\\fga_selection.py:39: DtypeWarning: Columns (27,28,37,38) have mixed types. Specify dtype option on import or set low_memory=False.\n",
      "  df = pd.read_csv(adv_file_path)\n",
      "d:\\Nam3_ANTN\\ML\\DA\\Coding\\fga_selection.py:39: DtypeWarning: Columns (27,28,37,38) have mixed types. Specify dtype option on import or set low_memory=False.\n",
      "  df = pd.read_csv(adv_file_path)\n",
      "d:\\Nam3_ANTN\\ML\\DA\\Coding\\fga_selection.py:39: DtypeWarning: Columns (27,28,37,38) have mixed types. Specify dtype option on import or set low_memory=False.\n",
      "  df = pd.read_csv(adv_file_path)\n",
      "d:\\Nam3_ANTN\\ML\\DA\\Coding\\fga_selection.py:39: DtypeWarning: Columns (27,28,37,38) have mixed types. Specify dtype option on import or set low_memory=False.\n",
      "  df = pd.read_csv(adv_file_path)\n",
      "d:\\Nam3_ANTN\\ML\\DA\\Coding\\fga_selection.py:39: DtypeWarning: Columns (27,28,37,38) have mixed types. Specify dtype option on import or set low_memory=False.\n",
      "  df = pd.read_csv(adv_file_path)\n",
      "d:\\Nam3_ANTN\\ML\\DA\\Coding\\fga_selection.py:39: DtypeWarning: Columns (27,28,37,38) have mixed types. Specify dtype option on import or set low_memory=False.\n",
      "  df = pd.read_csv(adv_file_path)\n",
      "d:\\Nam3_ANTN\\ML\\DA\\Coding\\fga_selection.py:39: DtypeWarning: Columns (27,28,37,38) have mixed types. Specify dtype option on import or set low_memory=False.\n",
      "  df = pd.read_csv(adv_file_path)\n",
      "d:\\Nam3_ANTN\\ML\\DA\\Coding\\fga_selection.py:39: DtypeWarning: Columns (27,28,37,38) have mixed types. Specify dtype option on import or set low_memory=False.\n",
      "  df = pd.read_csv(adv_file_path)\n",
      "d:\\Nam3_ANTN\\ML\\DA\\Coding\\fga_selection.py:39: DtypeWarning: Columns (27,28,37,38) have mixed types. Specify dtype option on import or set low_memory=False.\n",
      "  df = pd.read_csv(adv_file_path)\n",
      "d:\\Nam3_ANTN\\ML\\DA\\Coding\\fga_selection.py:39: DtypeWarning: Columns (27,28,37,38) have mixed types. Specify dtype option on import or set low_memory=False.\n",
      "  df = pd.read_csv(adv_file_path)\n"
     ]
    },
    {
     "name": "stdout",
     "output_type": "stream",
     "text": [
      "⚙️ Thế hệ 10/30\n"
     ]
    },
    {
     "name": "stderr",
     "output_type": "stream",
     "text": [
      "d:\\Nam3_ANTN\\ML\\DA\\Coding\\fga_selection.py:39: DtypeWarning: Columns (27,28,37,38) have mixed types. Specify dtype option on import or set low_memory=False.\n",
      "  df = pd.read_csv(adv_file_path)\n",
      "d:\\Nam3_ANTN\\ML\\DA\\Coding\\fga_selection.py:39: DtypeWarning: Columns (27,28,37,38) have mixed types. Specify dtype option on import or set low_memory=False.\n",
      "  df = pd.read_csv(adv_file_path)\n",
      "d:\\Nam3_ANTN\\ML\\DA\\Coding\\fga_selection.py:39: DtypeWarning: Columns (27,28,37,38) have mixed types. Specify dtype option on import or set low_memory=False.\n",
      "  df = pd.read_csv(adv_file_path)\n",
      "d:\\Nam3_ANTN\\ML\\DA\\Coding\\fga_selection.py:39: DtypeWarning: Columns (27,28,37,38) have mixed types. Specify dtype option on import or set low_memory=False.\n",
      "  df = pd.read_csv(adv_file_path)\n",
      "d:\\Nam3_ANTN\\ML\\DA\\Coding\\fga_selection.py:39: DtypeWarning: Columns (27,28,37,38) have mixed types. Specify dtype option on import or set low_memory=False.\n",
      "  df = pd.read_csv(adv_file_path)\n",
      "d:\\Nam3_ANTN\\ML\\DA\\Coding\\fga_selection.py:39: DtypeWarning: Columns (27,28,37,38) have mixed types. Specify dtype option on import or set low_memory=False.\n",
      "  df = pd.read_csv(adv_file_path)\n",
      "d:\\Nam3_ANTN\\ML\\DA\\Coding\\fga_selection.py:39: DtypeWarning: Columns (27,28,37,38) have mixed types. Specify dtype option on import or set low_memory=False.\n",
      "  df = pd.read_csv(adv_file_path)\n",
      "d:\\Nam3_ANTN\\ML\\DA\\Coding\\fga_selection.py:39: DtypeWarning: Columns (27,28,37,38) have mixed types. Specify dtype option on import or set low_memory=False.\n",
      "  df = pd.read_csv(adv_file_path)\n",
      "d:\\Nam3_ANTN\\ML\\DA\\Coding\\fga_selection.py:39: DtypeWarning: Columns (27,28,37,38) have mixed types. Specify dtype option on import or set low_memory=False.\n",
      "  df = pd.read_csv(adv_file_path)\n",
      "d:\\Nam3_ANTN\\ML\\DA\\Coding\\fga_selection.py:39: DtypeWarning: Columns (27,28,37,38) have mixed types. Specify dtype option on import or set low_memory=False.\n",
      "  df = pd.read_csv(adv_file_path)\n"
     ]
    },
    {
     "name": "stdout",
     "output_type": "stream",
     "text": [
      "⚙️ Thế hệ 11/30\n"
     ]
    },
    {
     "name": "stderr",
     "output_type": "stream",
     "text": [
      "d:\\Nam3_ANTN\\ML\\DA\\Coding\\fga_selection.py:39: DtypeWarning: Columns (27,28,37,38) have mixed types. Specify dtype option on import or set low_memory=False.\n",
      "  df = pd.read_csv(adv_file_path)\n",
      "d:\\Nam3_ANTN\\ML\\DA\\Coding\\fga_selection.py:39: DtypeWarning: Columns (27,28,37,38) have mixed types. Specify dtype option on import or set low_memory=False.\n",
      "  df = pd.read_csv(adv_file_path)\n",
      "d:\\Nam3_ANTN\\ML\\DA\\Coding\\fga_selection.py:39: DtypeWarning: Columns (27,28,37,38) have mixed types. Specify dtype option on import or set low_memory=False.\n",
      "  df = pd.read_csv(adv_file_path)\n",
      "d:\\Nam3_ANTN\\ML\\DA\\Coding\\fga_selection.py:39: DtypeWarning: Columns (27,28,37,38) have mixed types. Specify dtype option on import or set low_memory=False.\n",
      "  df = pd.read_csv(adv_file_path)\n",
      "d:\\Nam3_ANTN\\ML\\DA\\Coding\\fga_selection.py:39: DtypeWarning: Columns (27,28,37,38) have mixed types. Specify dtype option on import or set low_memory=False.\n",
      "  df = pd.read_csv(adv_file_path)\n",
      "d:\\Nam3_ANTN\\ML\\DA\\Coding\\fga_selection.py:39: DtypeWarning: Columns (27,28,37,38) have mixed types. Specify dtype option on import or set low_memory=False.\n",
      "  df = pd.read_csv(adv_file_path)\n",
      "d:\\Nam3_ANTN\\ML\\DA\\Coding\\fga_selection.py:39: DtypeWarning: Columns (27,28,37,38) have mixed types. Specify dtype option on import or set low_memory=False.\n",
      "  df = pd.read_csv(adv_file_path)\n",
      "d:\\Nam3_ANTN\\ML\\DA\\Coding\\fga_selection.py:39: DtypeWarning: Columns (27,28,37,38) have mixed types. Specify dtype option on import or set low_memory=False.\n",
      "  df = pd.read_csv(adv_file_path)\n",
      "d:\\Nam3_ANTN\\ML\\DA\\Coding\\fga_selection.py:39: DtypeWarning: Columns (27,28,37,38) have mixed types. Specify dtype option on import or set low_memory=False.\n",
      "  df = pd.read_csv(adv_file_path)\n",
      "d:\\Nam3_ANTN\\ML\\DA\\Coding\\fga_selection.py:39: DtypeWarning: Columns (27,28,37,38) have mixed types. Specify dtype option on import or set low_memory=False.\n",
      "  df = pd.read_csv(adv_file_path)\n"
     ]
    },
    {
     "name": "stdout",
     "output_type": "stream",
     "text": [
      "⚙️ Thế hệ 12/30\n"
     ]
    },
    {
     "name": "stderr",
     "output_type": "stream",
     "text": [
      "d:\\Nam3_ANTN\\ML\\DA\\Coding\\fga_selection.py:39: DtypeWarning: Columns (27,28,37,38) have mixed types. Specify dtype option on import or set low_memory=False.\n",
      "  df = pd.read_csv(adv_file_path)\n",
      "d:\\Nam3_ANTN\\ML\\DA\\Coding\\fga_selection.py:39: DtypeWarning: Columns (27,28,37,38) have mixed types. Specify dtype option on import or set low_memory=False.\n",
      "  df = pd.read_csv(adv_file_path)\n",
      "d:\\Nam3_ANTN\\ML\\DA\\Coding\\fga_selection.py:39: DtypeWarning: Columns (27,28,37,38) have mixed types. Specify dtype option on import or set low_memory=False.\n",
      "  df = pd.read_csv(adv_file_path)\n",
      "d:\\Nam3_ANTN\\ML\\DA\\Coding\\fga_selection.py:39: DtypeWarning: Columns (27,28,37,38) have mixed types. Specify dtype option on import or set low_memory=False.\n",
      "  df = pd.read_csv(adv_file_path)\n",
      "d:\\Nam3_ANTN\\ML\\DA\\Coding\\fga_selection.py:39: DtypeWarning: Columns (27,28,37,38) have mixed types. Specify dtype option on import or set low_memory=False.\n",
      "  df = pd.read_csv(adv_file_path)\n",
      "d:\\Nam3_ANTN\\ML\\DA\\Coding\\fga_selection.py:39: DtypeWarning: Columns (27,28,37,38) have mixed types. Specify dtype option on import or set low_memory=False.\n",
      "  df = pd.read_csv(adv_file_path)\n",
      "d:\\Nam3_ANTN\\ML\\DA\\Coding\\fga_selection.py:39: DtypeWarning: Columns (27,28,37,38) have mixed types. Specify dtype option on import or set low_memory=False.\n",
      "  df = pd.read_csv(adv_file_path)\n",
      "d:\\Nam3_ANTN\\ML\\DA\\Coding\\fga_selection.py:39: DtypeWarning: Columns (27,28,37,38) have mixed types. Specify dtype option on import or set low_memory=False.\n",
      "  df = pd.read_csv(adv_file_path)\n",
      "d:\\Nam3_ANTN\\ML\\DA\\Coding\\fga_selection.py:39: DtypeWarning: Columns (27,28,37,38) have mixed types. Specify dtype option on import or set low_memory=False.\n",
      "  df = pd.read_csv(adv_file_path)\n",
      "d:\\Nam3_ANTN\\ML\\DA\\Coding\\fga_selection.py:39: DtypeWarning: Columns (27,28,37,38) have mixed types. Specify dtype option on import or set low_memory=False.\n",
      "  df = pd.read_csv(adv_file_path)\n"
     ]
    },
    {
     "name": "stdout",
     "output_type": "stream",
     "text": [
      "⚙️ Thế hệ 13/30\n"
     ]
    },
    {
     "name": "stderr",
     "output_type": "stream",
     "text": [
      "d:\\Nam3_ANTN\\ML\\DA\\Coding\\fga_selection.py:39: DtypeWarning: Columns (27,28,37,38) have mixed types. Specify dtype option on import or set low_memory=False.\n",
      "  df = pd.read_csv(adv_file_path)\n",
      "d:\\Nam3_ANTN\\ML\\DA\\Coding\\fga_selection.py:39: DtypeWarning: Columns (27,28,37,38) have mixed types. Specify dtype option on import or set low_memory=False.\n",
      "  df = pd.read_csv(adv_file_path)\n",
      "d:\\Nam3_ANTN\\ML\\DA\\Coding\\fga_selection.py:39: DtypeWarning: Columns (27,28,37,38) have mixed types. Specify dtype option on import or set low_memory=False.\n",
      "  df = pd.read_csv(adv_file_path)\n",
      "d:\\Nam3_ANTN\\ML\\DA\\Coding\\fga_selection.py:39: DtypeWarning: Columns (27,28,37,38) have mixed types. Specify dtype option on import or set low_memory=False.\n",
      "  df = pd.read_csv(adv_file_path)\n",
      "d:\\Nam3_ANTN\\ML\\DA\\Coding\\fga_selection.py:39: DtypeWarning: Columns (27,28,37,38) have mixed types. Specify dtype option on import or set low_memory=False.\n",
      "  df = pd.read_csv(adv_file_path)\n",
      "d:\\Nam3_ANTN\\ML\\DA\\Coding\\fga_selection.py:39: DtypeWarning: Columns (27,28,37,38) have mixed types. Specify dtype option on import or set low_memory=False.\n",
      "  df = pd.read_csv(adv_file_path)\n",
      "d:\\Nam3_ANTN\\ML\\DA\\Coding\\fga_selection.py:39: DtypeWarning: Columns (27,28,37,38) have mixed types. Specify dtype option on import or set low_memory=False.\n",
      "  df = pd.read_csv(adv_file_path)\n",
      "d:\\Nam3_ANTN\\ML\\DA\\Coding\\fga_selection.py:39: DtypeWarning: Columns (27,28,37,38) have mixed types. Specify dtype option on import or set low_memory=False.\n",
      "  df = pd.read_csv(adv_file_path)\n",
      "d:\\Nam3_ANTN\\ML\\DA\\Coding\\fga_selection.py:39: DtypeWarning: Columns (27,28,37,38) have mixed types. Specify dtype option on import or set low_memory=False.\n",
      "  df = pd.read_csv(adv_file_path)\n",
      "d:\\Nam3_ANTN\\ML\\DA\\Coding\\fga_selection.py:39: DtypeWarning: Columns (27,28,37,38) have mixed types. Specify dtype option on import or set low_memory=False.\n",
      "  df = pd.read_csv(adv_file_path)\n"
     ]
    },
    {
     "name": "stdout",
     "output_type": "stream",
     "text": [
      "⚙️ Thế hệ 14/30\n"
     ]
    },
    {
     "name": "stderr",
     "output_type": "stream",
     "text": [
      "d:\\Nam3_ANTN\\ML\\DA\\Coding\\fga_selection.py:39: DtypeWarning: Columns (27,28,37,38) have mixed types. Specify dtype option on import or set low_memory=False.\n",
      "  df = pd.read_csv(adv_file_path)\n",
      "d:\\Nam3_ANTN\\ML\\DA\\Coding\\fga_selection.py:39: DtypeWarning: Columns (27,28,37,38) have mixed types. Specify dtype option on import or set low_memory=False.\n",
      "  df = pd.read_csv(adv_file_path)\n",
      "d:\\Nam3_ANTN\\ML\\DA\\Coding\\fga_selection.py:39: DtypeWarning: Columns (27,28,37,38) have mixed types. Specify dtype option on import or set low_memory=False.\n",
      "  df = pd.read_csv(adv_file_path)\n",
      "d:\\Nam3_ANTN\\ML\\DA\\Coding\\fga_selection.py:39: DtypeWarning: Columns (27,28,37,38) have mixed types. Specify dtype option on import or set low_memory=False.\n",
      "  df = pd.read_csv(adv_file_path)\n",
      "d:\\Nam3_ANTN\\ML\\DA\\Coding\\fga_selection.py:39: DtypeWarning: Columns (27,28,37,38) have mixed types. Specify dtype option on import or set low_memory=False.\n",
      "  df = pd.read_csv(adv_file_path)\n",
      "d:\\Nam3_ANTN\\ML\\DA\\Coding\\fga_selection.py:39: DtypeWarning: Columns (27,28,37,38) have mixed types. Specify dtype option on import or set low_memory=False.\n",
      "  df = pd.read_csv(adv_file_path)\n",
      "d:\\Nam3_ANTN\\ML\\DA\\Coding\\fga_selection.py:39: DtypeWarning: Columns (27,28,37,38) have mixed types. Specify dtype option on import or set low_memory=False.\n",
      "  df = pd.read_csv(adv_file_path)\n",
      "d:\\Nam3_ANTN\\ML\\DA\\Coding\\fga_selection.py:39: DtypeWarning: Columns (27,28,37,38) have mixed types. Specify dtype option on import or set low_memory=False.\n",
      "  df = pd.read_csv(adv_file_path)\n",
      "d:\\Nam3_ANTN\\ML\\DA\\Coding\\fga_selection.py:39: DtypeWarning: Columns (27,28,37,38) have mixed types. Specify dtype option on import or set low_memory=False.\n",
      "  df = pd.read_csv(adv_file_path)\n",
      "d:\\Nam3_ANTN\\ML\\DA\\Coding\\fga_selection.py:39: DtypeWarning: Columns (27,28,37,38) have mixed types. Specify dtype option on import or set low_memory=False.\n",
      "  df = pd.read_csv(adv_file_path)\n"
     ]
    },
    {
     "name": "stdout",
     "output_type": "stream",
     "text": [
      "⚙️ Thế hệ 15/30\n"
     ]
    },
    {
     "name": "stderr",
     "output_type": "stream",
     "text": [
      "d:\\Nam3_ANTN\\ML\\DA\\Coding\\fga_selection.py:39: DtypeWarning: Columns (27,28,37,38) have mixed types. Specify dtype option on import or set low_memory=False.\n",
      "  df = pd.read_csv(adv_file_path)\n",
      "d:\\Nam3_ANTN\\ML\\DA\\Coding\\fga_selection.py:39: DtypeWarning: Columns (27,28,37,38) have mixed types. Specify dtype option on import or set low_memory=False.\n",
      "  df = pd.read_csv(adv_file_path)\n",
      "d:\\Nam3_ANTN\\ML\\DA\\Coding\\fga_selection.py:39: DtypeWarning: Columns (27,28,37,38) have mixed types. Specify dtype option on import or set low_memory=False.\n",
      "  df = pd.read_csv(adv_file_path)\n",
      "d:\\Nam3_ANTN\\ML\\DA\\Coding\\fga_selection.py:39: DtypeWarning: Columns (27,28,37,38) have mixed types. Specify dtype option on import or set low_memory=False.\n",
      "  df = pd.read_csv(adv_file_path)\n",
      "d:\\Nam3_ANTN\\ML\\DA\\Coding\\fga_selection.py:39: DtypeWarning: Columns (27,28,37,38) have mixed types. Specify dtype option on import or set low_memory=False.\n",
      "  df = pd.read_csv(adv_file_path)\n",
      "d:\\Nam3_ANTN\\ML\\DA\\Coding\\fga_selection.py:39: DtypeWarning: Columns (27,28,37,38) have mixed types. Specify dtype option on import or set low_memory=False.\n",
      "  df = pd.read_csv(adv_file_path)\n",
      "d:\\Nam3_ANTN\\ML\\DA\\Coding\\fga_selection.py:39: DtypeWarning: Columns (27,28,37,38) have mixed types. Specify dtype option on import or set low_memory=False.\n",
      "  df = pd.read_csv(adv_file_path)\n",
      "d:\\Nam3_ANTN\\ML\\DA\\Coding\\fga_selection.py:39: DtypeWarning: Columns (27,28,37,38) have mixed types. Specify dtype option on import or set low_memory=False.\n",
      "  df = pd.read_csv(adv_file_path)\n",
      "d:\\Nam3_ANTN\\ML\\DA\\Coding\\fga_selection.py:39: DtypeWarning: Columns (27,28,37,38) have mixed types. Specify dtype option on import or set low_memory=False.\n",
      "  df = pd.read_csv(adv_file_path)\n",
      "d:\\Nam3_ANTN\\ML\\DA\\Coding\\fga_selection.py:39: DtypeWarning: Columns (27,28,37,38) have mixed types. Specify dtype option on import or set low_memory=False.\n",
      "  df = pd.read_csv(adv_file_path)\n"
     ]
    },
    {
     "name": "stdout",
     "output_type": "stream",
     "text": [
      "⚙️ Thế hệ 16/30\n"
     ]
    },
    {
     "name": "stderr",
     "output_type": "stream",
     "text": [
      "d:\\Nam3_ANTN\\ML\\DA\\Coding\\fga_selection.py:39: DtypeWarning: Columns (27,28,37,38) have mixed types. Specify dtype option on import or set low_memory=False.\n",
      "  df = pd.read_csv(adv_file_path)\n",
      "d:\\Nam3_ANTN\\ML\\DA\\Coding\\fga_selection.py:39: DtypeWarning: Columns (27,28,37,38) have mixed types. Specify dtype option on import or set low_memory=False.\n",
      "  df = pd.read_csv(adv_file_path)\n",
      "d:\\Nam3_ANTN\\ML\\DA\\Coding\\fga_selection.py:39: DtypeWarning: Columns (27,28,37,38) have mixed types. Specify dtype option on import or set low_memory=False.\n",
      "  df = pd.read_csv(adv_file_path)\n",
      "d:\\Nam3_ANTN\\ML\\DA\\Coding\\fga_selection.py:39: DtypeWarning: Columns (27,28,37,38) have mixed types. Specify dtype option on import or set low_memory=False.\n",
      "  df = pd.read_csv(adv_file_path)\n",
      "d:\\Nam3_ANTN\\ML\\DA\\Coding\\fga_selection.py:39: DtypeWarning: Columns (27,28,37,38) have mixed types. Specify dtype option on import or set low_memory=False.\n",
      "  df = pd.read_csv(adv_file_path)\n",
      "d:\\Nam3_ANTN\\ML\\DA\\Coding\\fga_selection.py:39: DtypeWarning: Columns (27,28,37,38) have mixed types. Specify dtype option on import or set low_memory=False.\n",
      "  df = pd.read_csv(adv_file_path)\n",
      "d:\\Nam3_ANTN\\ML\\DA\\Coding\\fga_selection.py:39: DtypeWarning: Columns (27,28,37,38) have mixed types. Specify dtype option on import or set low_memory=False.\n",
      "  df = pd.read_csv(adv_file_path)\n",
      "d:\\Nam3_ANTN\\ML\\DA\\Coding\\fga_selection.py:39: DtypeWarning: Columns (27,28,37,38) have mixed types. Specify dtype option on import or set low_memory=False.\n",
      "  df = pd.read_csv(adv_file_path)\n",
      "d:\\Nam3_ANTN\\ML\\DA\\Coding\\fga_selection.py:39: DtypeWarning: Columns (27,28,37,38) have mixed types. Specify dtype option on import or set low_memory=False.\n",
      "  df = pd.read_csv(adv_file_path)\n",
      "d:\\Nam3_ANTN\\ML\\DA\\Coding\\fga_selection.py:39: DtypeWarning: Columns (27,28,37,38) have mixed types. Specify dtype option on import or set low_memory=False.\n",
      "  df = pd.read_csv(adv_file_path)\n"
     ]
    },
    {
     "name": "stdout",
     "output_type": "stream",
     "text": [
      "⚙️ Thế hệ 17/30\n"
     ]
    },
    {
     "name": "stderr",
     "output_type": "stream",
     "text": [
      "d:\\Nam3_ANTN\\ML\\DA\\Coding\\fga_selection.py:39: DtypeWarning: Columns (27,28,37,38) have mixed types. Specify dtype option on import or set low_memory=False.\n",
      "  df = pd.read_csv(adv_file_path)\n",
      "d:\\Nam3_ANTN\\ML\\DA\\Coding\\fga_selection.py:39: DtypeWarning: Columns (27,28,37,38) have mixed types. Specify dtype option on import or set low_memory=False.\n",
      "  df = pd.read_csv(adv_file_path)\n",
      "d:\\Nam3_ANTN\\ML\\DA\\Coding\\fga_selection.py:39: DtypeWarning: Columns (27,28,37,38) have mixed types. Specify dtype option on import or set low_memory=False.\n",
      "  df = pd.read_csv(adv_file_path)\n",
      "d:\\Nam3_ANTN\\ML\\DA\\Coding\\fga_selection.py:39: DtypeWarning: Columns (27,28,37,38) have mixed types. Specify dtype option on import or set low_memory=False.\n",
      "  df = pd.read_csv(adv_file_path)\n",
      "d:\\Nam3_ANTN\\ML\\DA\\Coding\\fga_selection.py:39: DtypeWarning: Columns (27,28,37,38) have mixed types. Specify dtype option on import or set low_memory=False.\n",
      "  df = pd.read_csv(adv_file_path)\n",
      "d:\\Nam3_ANTN\\ML\\DA\\Coding\\fga_selection.py:39: DtypeWarning: Columns (27,28,37,38) have mixed types. Specify dtype option on import or set low_memory=False.\n",
      "  df = pd.read_csv(adv_file_path)\n",
      "d:\\Nam3_ANTN\\ML\\DA\\Coding\\fga_selection.py:39: DtypeWarning: Columns (27,28,37,38) have mixed types. Specify dtype option on import or set low_memory=False.\n",
      "  df = pd.read_csv(adv_file_path)\n",
      "d:\\Nam3_ANTN\\ML\\DA\\Coding\\fga_selection.py:39: DtypeWarning: Columns (27,28,37,38) have mixed types. Specify dtype option on import or set low_memory=False.\n",
      "  df = pd.read_csv(adv_file_path)\n",
      "d:\\Nam3_ANTN\\ML\\DA\\Coding\\fga_selection.py:39: DtypeWarning: Columns (27,28,37,38) have mixed types. Specify dtype option on import or set low_memory=False.\n",
      "  df = pd.read_csv(adv_file_path)\n",
      "d:\\Nam3_ANTN\\ML\\DA\\Coding\\fga_selection.py:39: DtypeWarning: Columns (27,28,37,38) have mixed types. Specify dtype option on import or set low_memory=False.\n",
      "  df = pd.read_csv(adv_file_path)\n"
     ]
    },
    {
     "name": "stdout",
     "output_type": "stream",
     "text": [
      "⚙️ Thế hệ 18/30\n"
     ]
    },
    {
     "name": "stderr",
     "output_type": "stream",
     "text": [
      "d:\\Nam3_ANTN\\ML\\DA\\Coding\\fga_selection.py:39: DtypeWarning: Columns (27,28,37,38) have mixed types. Specify dtype option on import or set low_memory=False.\n",
      "  df = pd.read_csv(adv_file_path)\n",
      "d:\\Nam3_ANTN\\ML\\DA\\Coding\\fga_selection.py:39: DtypeWarning: Columns (27,28,37,38) have mixed types. Specify dtype option on import or set low_memory=False.\n",
      "  df = pd.read_csv(adv_file_path)\n",
      "d:\\Nam3_ANTN\\ML\\DA\\Coding\\fga_selection.py:39: DtypeWarning: Columns (27,28,37,38) have mixed types. Specify dtype option on import or set low_memory=False.\n",
      "  df = pd.read_csv(adv_file_path)\n",
      "d:\\Nam3_ANTN\\ML\\DA\\Coding\\fga_selection.py:39: DtypeWarning: Columns (27,28,37,38) have mixed types. Specify dtype option on import or set low_memory=False.\n",
      "  df = pd.read_csv(adv_file_path)\n",
      "d:\\Nam3_ANTN\\ML\\DA\\Coding\\fga_selection.py:39: DtypeWarning: Columns (27,28,37,38) have mixed types. Specify dtype option on import or set low_memory=False.\n",
      "  df = pd.read_csv(adv_file_path)\n",
      "d:\\Nam3_ANTN\\ML\\DA\\Coding\\fga_selection.py:39: DtypeWarning: Columns (27,28,37,38) have mixed types. Specify dtype option on import or set low_memory=False.\n",
      "  df = pd.read_csv(adv_file_path)\n",
      "d:\\Nam3_ANTN\\ML\\DA\\Coding\\fga_selection.py:39: DtypeWarning: Columns (27,28,37,38) have mixed types. Specify dtype option on import or set low_memory=False.\n",
      "  df = pd.read_csv(adv_file_path)\n",
      "d:\\Nam3_ANTN\\ML\\DA\\Coding\\fga_selection.py:39: DtypeWarning: Columns (27,28,37,38) have mixed types. Specify dtype option on import or set low_memory=False.\n",
      "  df = pd.read_csv(adv_file_path)\n",
      "d:\\Nam3_ANTN\\ML\\DA\\Coding\\fga_selection.py:39: DtypeWarning: Columns (27,28,37,38) have mixed types. Specify dtype option on import or set low_memory=False.\n",
      "  df = pd.read_csv(adv_file_path)\n",
      "d:\\Nam3_ANTN\\ML\\DA\\Coding\\fga_selection.py:39: DtypeWarning: Columns (27,28,37,38) have mixed types. Specify dtype option on import or set low_memory=False.\n",
      "  df = pd.read_csv(adv_file_path)\n"
     ]
    },
    {
     "name": "stdout",
     "output_type": "stream",
     "text": [
      "⚙️ Thế hệ 19/30\n"
     ]
    },
    {
     "name": "stderr",
     "output_type": "stream",
     "text": [
      "d:\\Nam3_ANTN\\ML\\DA\\Coding\\fga_selection.py:39: DtypeWarning: Columns (27,28,37,38) have mixed types. Specify dtype option on import or set low_memory=False.\n",
      "  df = pd.read_csv(adv_file_path)\n",
      "d:\\Nam3_ANTN\\ML\\DA\\Coding\\fga_selection.py:39: DtypeWarning: Columns (27,28,37,38) have mixed types. Specify dtype option on import or set low_memory=False.\n",
      "  df = pd.read_csv(adv_file_path)\n",
      "d:\\Nam3_ANTN\\ML\\DA\\Coding\\fga_selection.py:39: DtypeWarning: Columns (27,28,37,38) have mixed types. Specify dtype option on import or set low_memory=False.\n",
      "  df = pd.read_csv(adv_file_path)\n",
      "d:\\Nam3_ANTN\\ML\\DA\\Coding\\fga_selection.py:39: DtypeWarning: Columns (27,28,37,38) have mixed types. Specify dtype option on import or set low_memory=False.\n",
      "  df = pd.read_csv(adv_file_path)\n",
      "d:\\Nam3_ANTN\\ML\\DA\\Coding\\fga_selection.py:39: DtypeWarning: Columns (27,28,37,38) have mixed types. Specify dtype option on import or set low_memory=False.\n",
      "  df = pd.read_csv(adv_file_path)\n",
      "d:\\Nam3_ANTN\\ML\\DA\\Coding\\fga_selection.py:39: DtypeWarning: Columns (27,28,37,38) have mixed types. Specify dtype option on import or set low_memory=False.\n",
      "  df = pd.read_csv(adv_file_path)\n",
      "d:\\Nam3_ANTN\\ML\\DA\\Coding\\fga_selection.py:39: DtypeWarning: Columns (27,28,37,38) have mixed types. Specify dtype option on import or set low_memory=False.\n",
      "  df = pd.read_csv(adv_file_path)\n",
      "d:\\Nam3_ANTN\\ML\\DA\\Coding\\fga_selection.py:39: DtypeWarning: Columns (27,28,37,38) have mixed types. Specify dtype option on import or set low_memory=False.\n",
      "  df = pd.read_csv(adv_file_path)\n",
      "d:\\Nam3_ANTN\\ML\\DA\\Coding\\fga_selection.py:39: DtypeWarning: Columns (27,28,37,38) have mixed types. Specify dtype option on import or set low_memory=False.\n",
      "  df = pd.read_csv(adv_file_path)\n",
      "d:\\Nam3_ANTN\\ML\\DA\\Coding\\fga_selection.py:39: DtypeWarning: Columns (27,28,37,38) have mixed types. Specify dtype option on import or set low_memory=False.\n",
      "  df = pd.read_csv(adv_file_path)\n"
     ]
    },
    {
     "name": "stdout",
     "output_type": "stream",
     "text": [
      "⚙️ Thế hệ 20/30\n"
     ]
    },
    {
     "name": "stderr",
     "output_type": "stream",
     "text": [
      "d:\\Nam3_ANTN\\ML\\DA\\Coding\\fga_selection.py:39: DtypeWarning: Columns (27,28,37,38) have mixed types. Specify dtype option on import or set low_memory=False.\n",
      "  df = pd.read_csv(adv_file_path)\n",
      "d:\\Nam3_ANTN\\ML\\DA\\Coding\\fga_selection.py:39: DtypeWarning: Columns (27,28,37,38) have mixed types. Specify dtype option on import or set low_memory=False.\n",
      "  df = pd.read_csv(adv_file_path)\n",
      "d:\\Nam3_ANTN\\ML\\DA\\Coding\\fga_selection.py:39: DtypeWarning: Columns (27,28,37,38) have mixed types. Specify dtype option on import or set low_memory=False.\n",
      "  df = pd.read_csv(adv_file_path)\n",
      "d:\\Nam3_ANTN\\ML\\DA\\Coding\\fga_selection.py:39: DtypeWarning: Columns (27,28,37,38) have mixed types. Specify dtype option on import or set low_memory=False.\n",
      "  df = pd.read_csv(adv_file_path)\n",
      "d:\\Nam3_ANTN\\ML\\DA\\Coding\\fga_selection.py:39: DtypeWarning: Columns (27,28,37,38) have mixed types. Specify dtype option on import or set low_memory=False.\n",
      "  df = pd.read_csv(adv_file_path)\n",
      "d:\\Nam3_ANTN\\ML\\DA\\Coding\\fga_selection.py:39: DtypeWarning: Columns (27,28,37,38) have mixed types. Specify dtype option on import or set low_memory=False.\n",
      "  df = pd.read_csv(adv_file_path)\n",
      "d:\\Nam3_ANTN\\ML\\DA\\Coding\\fga_selection.py:39: DtypeWarning: Columns (27,28,37,38) have mixed types. Specify dtype option on import or set low_memory=False.\n",
      "  df = pd.read_csv(adv_file_path)\n",
      "d:\\Nam3_ANTN\\ML\\DA\\Coding\\fga_selection.py:39: DtypeWarning: Columns (27,28,37,38) have mixed types. Specify dtype option on import or set low_memory=False.\n",
      "  df = pd.read_csv(adv_file_path)\n",
      "d:\\Nam3_ANTN\\ML\\DA\\Coding\\fga_selection.py:39: DtypeWarning: Columns (27,28,37,38) have mixed types. Specify dtype option on import or set low_memory=False.\n",
      "  df = pd.read_csv(adv_file_path)\n",
      "d:\\Nam3_ANTN\\ML\\DA\\Coding\\fga_selection.py:39: DtypeWarning: Columns (27,28,37,38) have mixed types. Specify dtype option on import or set low_memory=False.\n",
      "  df = pd.read_csv(adv_file_path)\n"
     ]
    },
    {
     "name": "stdout",
     "output_type": "stream",
     "text": [
      "⚙️ Thế hệ 21/30\n"
     ]
    },
    {
     "name": "stderr",
     "output_type": "stream",
     "text": [
      "d:\\Nam3_ANTN\\ML\\DA\\Coding\\fga_selection.py:39: DtypeWarning: Columns (27,28,37,38) have mixed types. Specify dtype option on import or set low_memory=False.\n",
      "  df = pd.read_csv(adv_file_path)\n",
      "d:\\Nam3_ANTN\\ML\\DA\\Coding\\fga_selection.py:39: DtypeWarning: Columns (27,28,37,38) have mixed types. Specify dtype option on import or set low_memory=False.\n",
      "  df = pd.read_csv(adv_file_path)\n",
      "d:\\Nam3_ANTN\\ML\\DA\\Coding\\fga_selection.py:39: DtypeWarning: Columns (27,28,37,38) have mixed types. Specify dtype option on import or set low_memory=False.\n",
      "  df = pd.read_csv(adv_file_path)\n",
      "d:\\Nam3_ANTN\\ML\\DA\\Coding\\fga_selection.py:39: DtypeWarning: Columns (27,28,37,38) have mixed types. Specify dtype option on import or set low_memory=False.\n",
      "  df = pd.read_csv(adv_file_path)\n",
      "d:\\Nam3_ANTN\\ML\\DA\\Coding\\fga_selection.py:39: DtypeWarning: Columns (27,28,37,38) have mixed types. Specify dtype option on import or set low_memory=False.\n",
      "  df = pd.read_csv(adv_file_path)\n",
      "d:\\Nam3_ANTN\\ML\\DA\\Coding\\fga_selection.py:39: DtypeWarning: Columns (27,28,37,38) have mixed types. Specify dtype option on import or set low_memory=False.\n",
      "  df = pd.read_csv(adv_file_path)\n",
      "d:\\Nam3_ANTN\\ML\\DA\\Coding\\fga_selection.py:39: DtypeWarning: Columns (27,28,37,38) have mixed types. Specify dtype option on import or set low_memory=False.\n",
      "  df = pd.read_csv(adv_file_path)\n",
      "d:\\Nam3_ANTN\\ML\\DA\\Coding\\fga_selection.py:39: DtypeWarning: Columns (27,28,37,38) have mixed types. Specify dtype option on import or set low_memory=False.\n",
      "  df = pd.read_csv(adv_file_path)\n",
      "d:\\Nam3_ANTN\\ML\\DA\\Coding\\fga_selection.py:39: DtypeWarning: Columns (27,28,37,38) have mixed types. Specify dtype option on import or set low_memory=False.\n",
      "  df = pd.read_csv(adv_file_path)\n",
      "d:\\Nam3_ANTN\\ML\\DA\\Coding\\fga_selection.py:39: DtypeWarning: Columns (27,28,37,38) have mixed types. Specify dtype option on import or set low_memory=False.\n",
      "  df = pd.read_csv(adv_file_path)\n"
     ]
    },
    {
     "name": "stdout",
     "output_type": "stream",
     "text": [
      "⚙️ Thế hệ 22/30\n"
     ]
    },
    {
     "name": "stderr",
     "output_type": "stream",
     "text": [
      "d:\\Nam3_ANTN\\ML\\DA\\Coding\\fga_selection.py:39: DtypeWarning: Columns (27,28,37,38) have mixed types. Specify dtype option on import or set low_memory=False.\n",
      "  df = pd.read_csv(adv_file_path)\n",
      "d:\\Nam3_ANTN\\ML\\DA\\Coding\\fga_selection.py:39: DtypeWarning: Columns (27,28,37,38) have mixed types. Specify dtype option on import or set low_memory=False.\n",
      "  df = pd.read_csv(adv_file_path)\n",
      "d:\\Nam3_ANTN\\ML\\DA\\Coding\\fga_selection.py:39: DtypeWarning: Columns (27,28,37,38) have mixed types. Specify dtype option on import or set low_memory=False.\n",
      "  df = pd.read_csv(adv_file_path)\n",
      "d:\\Nam3_ANTN\\ML\\DA\\Coding\\fga_selection.py:39: DtypeWarning: Columns (27,28,37,38) have mixed types. Specify dtype option on import or set low_memory=False.\n",
      "  df = pd.read_csv(adv_file_path)\n",
      "d:\\Nam3_ANTN\\ML\\DA\\Coding\\fga_selection.py:39: DtypeWarning: Columns (27,28,37,38) have mixed types. Specify dtype option on import or set low_memory=False.\n",
      "  df = pd.read_csv(adv_file_path)\n",
      "d:\\Nam3_ANTN\\ML\\DA\\Coding\\fga_selection.py:39: DtypeWarning: Columns (27,28,37,38) have mixed types. Specify dtype option on import or set low_memory=False.\n",
      "  df = pd.read_csv(adv_file_path)\n",
      "d:\\Nam3_ANTN\\ML\\DA\\Coding\\fga_selection.py:39: DtypeWarning: Columns (27,28,37,38) have mixed types. Specify dtype option on import or set low_memory=False.\n",
      "  df = pd.read_csv(adv_file_path)\n",
      "d:\\Nam3_ANTN\\ML\\DA\\Coding\\fga_selection.py:39: DtypeWarning: Columns (27,28,37,38) have mixed types. Specify dtype option on import or set low_memory=False.\n",
      "  df = pd.read_csv(adv_file_path)\n",
      "d:\\Nam3_ANTN\\ML\\DA\\Coding\\fga_selection.py:39: DtypeWarning: Columns (27,28,37,38) have mixed types. Specify dtype option on import or set low_memory=False.\n",
      "  df = pd.read_csv(adv_file_path)\n",
      "d:\\Nam3_ANTN\\ML\\DA\\Coding\\fga_selection.py:39: DtypeWarning: Columns (27,28,37,38) have mixed types. Specify dtype option on import or set low_memory=False.\n",
      "  df = pd.read_csv(adv_file_path)\n"
     ]
    },
    {
     "name": "stdout",
     "output_type": "stream",
     "text": [
      "⚙️ Thế hệ 23/30\n"
     ]
    },
    {
     "name": "stderr",
     "output_type": "stream",
     "text": [
      "d:\\Nam3_ANTN\\ML\\DA\\Coding\\fga_selection.py:39: DtypeWarning: Columns (27,28,37,38) have mixed types. Specify dtype option on import or set low_memory=False.\n",
      "  df = pd.read_csv(adv_file_path)\n",
      "d:\\Nam3_ANTN\\ML\\DA\\Coding\\fga_selection.py:39: DtypeWarning: Columns (27,28,37,38) have mixed types. Specify dtype option on import or set low_memory=False.\n",
      "  df = pd.read_csv(adv_file_path)\n",
      "d:\\Nam3_ANTN\\ML\\DA\\Coding\\fga_selection.py:39: DtypeWarning: Columns (27,28,37,38) have mixed types. Specify dtype option on import or set low_memory=False.\n",
      "  df = pd.read_csv(adv_file_path)\n",
      "d:\\Nam3_ANTN\\ML\\DA\\Coding\\fga_selection.py:39: DtypeWarning: Columns (27,28,37,38) have mixed types. Specify dtype option on import or set low_memory=False.\n",
      "  df = pd.read_csv(adv_file_path)\n",
      "d:\\Nam3_ANTN\\ML\\DA\\Coding\\fga_selection.py:39: DtypeWarning: Columns (27,28,37,38) have mixed types. Specify dtype option on import or set low_memory=False.\n",
      "  df = pd.read_csv(adv_file_path)\n",
      "d:\\Nam3_ANTN\\ML\\DA\\Coding\\fga_selection.py:39: DtypeWarning: Columns (27,28,37,38) have mixed types. Specify dtype option on import or set low_memory=False.\n",
      "  df = pd.read_csv(adv_file_path)\n",
      "d:\\Nam3_ANTN\\ML\\DA\\Coding\\fga_selection.py:39: DtypeWarning: Columns (27,28,37,38) have mixed types. Specify dtype option on import or set low_memory=False.\n",
      "  df = pd.read_csv(adv_file_path)\n",
      "d:\\Nam3_ANTN\\ML\\DA\\Coding\\fga_selection.py:39: DtypeWarning: Columns (27,28,37,38) have mixed types. Specify dtype option on import or set low_memory=False.\n",
      "  df = pd.read_csv(adv_file_path)\n",
      "d:\\Nam3_ANTN\\ML\\DA\\Coding\\fga_selection.py:39: DtypeWarning: Columns (27,28,37,38) have mixed types. Specify dtype option on import or set low_memory=False.\n",
      "  df = pd.read_csv(adv_file_path)\n",
      "d:\\Nam3_ANTN\\ML\\DA\\Coding\\fga_selection.py:39: DtypeWarning: Columns (27,28,37,38) have mixed types. Specify dtype option on import or set low_memory=False.\n",
      "  df = pd.read_csv(adv_file_path)\n"
     ]
    },
    {
     "name": "stdout",
     "output_type": "stream",
     "text": [
      "⚙️ Thế hệ 24/30\n"
     ]
    },
    {
     "name": "stderr",
     "output_type": "stream",
     "text": [
      "d:\\Nam3_ANTN\\ML\\DA\\Coding\\fga_selection.py:39: DtypeWarning: Columns (27,28,37,38) have mixed types. Specify dtype option on import or set low_memory=False.\n",
      "  df = pd.read_csv(adv_file_path)\n",
      "d:\\Nam3_ANTN\\ML\\DA\\Coding\\fga_selection.py:39: DtypeWarning: Columns (27,28,37,38) have mixed types. Specify dtype option on import or set low_memory=False.\n",
      "  df = pd.read_csv(adv_file_path)\n",
      "d:\\Nam3_ANTN\\ML\\DA\\Coding\\fga_selection.py:39: DtypeWarning: Columns (27,28,37,38) have mixed types. Specify dtype option on import or set low_memory=False.\n",
      "  df = pd.read_csv(adv_file_path)\n",
      "d:\\Nam3_ANTN\\ML\\DA\\Coding\\fga_selection.py:39: DtypeWarning: Columns (27,28,37,38) have mixed types. Specify dtype option on import or set low_memory=False.\n",
      "  df = pd.read_csv(adv_file_path)\n",
      "d:\\Nam3_ANTN\\ML\\DA\\Coding\\fga_selection.py:39: DtypeWarning: Columns (27,28,37,38) have mixed types. Specify dtype option on import or set low_memory=False.\n",
      "  df = pd.read_csv(adv_file_path)\n",
      "d:\\Nam3_ANTN\\ML\\DA\\Coding\\fga_selection.py:39: DtypeWarning: Columns (27,28,37,38) have mixed types. Specify dtype option on import or set low_memory=False.\n",
      "  df = pd.read_csv(adv_file_path)\n",
      "d:\\Nam3_ANTN\\ML\\DA\\Coding\\fga_selection.py:39: DtypeWarning: Columns (27,28,37,38) have mixed types. Specify dtype option on import or set low_memory=False.\n",
      "  df = pd.read_csv(adv_file_path)\n",
      "d:\\Nam3_ANTN\\ML\\DA\\Coding\\fga_selection.py:39: DtypeWarning: Columns (27,28,37,38) have mixed types. Specify dtype option on import or set low_memory=False.\n",
      "  df = pd.read_csv(adv_file_path)\n",
      "d:\\Nam3_ANTN\\ML\\DA\\Coding\\fga_selection.py:39: DtypeWarning: Columns (27,28,37,38) have mixed types. Specify dtype option on import or set low_memory=False.\n",
      "  df = pd.read_csv(adv_file_path)\n",
      "d:\\Nam3_ANTN\\ML\\DA\\Coding\\fga_selection.py:39: DtypeWarning: Columns (27,28,37,38) have mixed types. Specify dtype option on import or set low_memory=False.\n",
      "  df = pd.read_csv(adv_file_path)\n"
     ]
    },
    {
     "name": "stdout",
     "output_type": "stream",
     "text": [
      "⚙️ Thế hệ 25/30\n"
     ]
    },
    {
     "name": "stderr",
     "output_type": "stream",
     "text": [
      "d:\\Nam3_ANTN\\ML\\DA\\Coding\\fga_selection.py:39: DtypeWarning: Columns (27,28,37,38) have mixed types. Specify dtype option on import or set low_memory=False.\n",
      "  df = pd.read_csv(adv_file_path)\n",
      "d:\\Nam3_ANTN\\ML\\DA\\Coding\\fga_selection.py:39: DtypeWarning: Columns (27,28,37,38) have mixed types. Specify dtype option on import or set low_memory=False.\n",
      "  df = pd.read_csv(adv_file_path)\n",
      "d:\\Nam3_ANTN\\ML\\DA\\Coding\\fga_selection.py:39: DtypeWarning: Columns (27,28,37,38) have mixed types. Specify dtype option on import or set low_memory=False.\n",
      "  df = pd.read_csv(adv_file_path)\n",
      "d:\\Nam3_ANTN\\ML\\DA\\Coding\\fga_selection.py:39: DtypeWarning: Columns (27,28,37,38) have mixed types. Specify dtype option on import or set low_memory=False.\n",
      "  df = pd.read_csv(adv_file_path)\n",
      "d:\\Nam3_ANTN\\ML\\DA\\Coding\\fga_selection.py:39: DtypeWarning: Columns (27,28,37,38) have mixed types. Specify dtype option on import or set low_memory=False.\n",
      "  df = pd.read_csv(adv_file_path)\n",
      "d:\\Nam3_ANTN\\ML\\DA\\Coding\\fga_selection.py:39: DtypeWarning: Columns (27,28,37,38) have mixed types. Specify dtype option on import or set low_memory=False.\n",
      "  df = pd.read_csv(adv_file_path)\n",
      "d:\\Nam3_ANTN\\ML\\DA\\Coding\\fga_selection.py:39: DtypeWarning: Columns (27,28,37,38) have mixed types. Specify dtype option on import or set low_memory=False.\n",
      "  df = pd.read_csv(adv_file_path)\n",
      "d:\\Nam3_ANTN\\ML\\DA\\Coding\\fga_selection.py:39: DtypeWarning: Columns (27,28,37,38) have mixed types. Specify dtype option on import or set low_memory=False.\n",
      "  df = pd.read_csv(adv_file_path)\n",
      "d:\\Nam3_ANTN\\ML\\DA\\Coding\\fga_selection.py:39: DtypeWarning: Columns (27,28,37,38) have mixed types. Specify dtype option on import or set low_memory=False.\n",
      "  df = pd.read_csv(adv_file_path)\n",
      "d:\\Nam3_ANTN\\ML\\DA\\Coding\\fga_selection.py:39: DtypeWarning: Columns (27,28,37,38) have mixed types. Specify dtype option on import or set low_memory=False.\n",
      "  df = pd.read_csv(adv_file_path)\n"
     ]
    },
    {
     "name": "stdout",
     "output_type": "stream",
     "text": [
      "⚙️ Thế hệ 26/30\n"
     ]
    },
    {
     "name": "stderr",
     "output_type": "stream",
     "text": [
      "d:\\Nam3_ANTN\\ML\\DA\\Coding\\fga_selection.py:39: DtypeWarning: Columns (27,28,37,38) have mixed types. Specify dtype option on import or set low_memory=False.\n",
      "  df = pd.read_csv(adv_file_path)\n",
      "d:\\Nam3_ANTN\\ML\\DA\\Coding\\fga_selection.py:39: DtypeWarning: Columns (27,28,37,38) have mixed types. Specify dtype option on import or set low_memory=False.\n",
      "  df = pd.read_csv(adv_file_path)\n",
      "d:\\Nam3_ANTN\\ML\\DA\\Coding\\fga_selection.py:39: DtypeWarning: Columns (27,28,37,38) have mixed types. Specify dtype option on import or set low_memory=False.\n",
      "  df = pd.read_csv(adv_file_path)\n",
      "d:\\Nam3_ANTN\\ML\\DA\\Coding\\fga_selection.py:39: DtypeWarning: Columns (27,28,37,38) have mixed types. Specify dtype option on import or set low_memory=False.\n",
      "  df = pd.read_csv(adv_file_path)\n",
      "d:\\Nam3_ANTN\\ML\\DA\\Coding\\fga_selection.py:39: DtypeWarning: Columns (27,28,37,38) have mixed types. Specify dtype option on import or set low_memory=False.\n",
      "  df = pd.read_csv(adv_file_path)\n",
      "d:\\Nam3_ANTN\\ML\\DA\\Coding\\fga_selection.py:39: DtypeWarning: Columns (27,28,37,38) have mixed types. Specify dtype option on import or set low_memory=False.\n",
      "  df = pd.read_csv(adv_file_path)\n",
      "d:\\Nam3_ANTN\\ML\\DA\\Coding\\fga_selection.py:39: DtypeWarning: Columns (27,28,37,38) have mixed types. Specify dtype option on import or set low_memory=False.\n",
      "  df = pd.read_csv(adv_file_path)\n",
      "d:\\Nam3_ANTN\\ML\\DA\\Coding\\fga_selection.py:39: DtypeWarning: Columns (27,28,37,38) have mixed types. Specify dtype option on import or set low_memory=False.\n",
      "  df = pd.read_csv(adv_file_path)\n",
      "d:\\Nam3_ANTN\\ML\\DA\\Coding\\fga_selection.py:39: DtypeWarning: Columns (27,28,37,38) have mixed types. Specify dtype option on import or set low_memory=False.\n",
      "  df = pd.read_csv(adv_file_path)\n",
      "d:\\Nam3_ANTN\\ML\\DA\\Coding\\fga_selection.py:39: DtypeWarning: Columns (27,28,37,38) have mixed types. Specify dtype option on import or set low_memory=False.\n",
      "  df = pd.read_csv(adv_file_path)\n"
     ]
    },
    {
     "name": "stdout",
     "output_type": "stream",
     "text": [
      "⚙️ Thế hệ 27/30\n"
     ]
    },
    {
     "name": "stderr",
     "output_type": "stream",
     "text": [
      "d:\\Nam3_ANTN\\ML\\DA\\Coding\\fga_selection.py:39: DtypeWarning: Columns (27,28,37,38) have mixed types. Specify dtype option on import or set low_memory=False.\n",
      "  df = pd.read_csv(adv_file_path)\n",
      "d:\\Nam3_ANTN\\ML\\DA\\Coding\\fga_selection.py:39: DtypeWarning: Columns (27,28,37,38) have mixed types. Specify dtype option on import or set low_memory=False.\n",
      "  df = pd.read_csv(adv_file_path)\n",
      "d:\\Nam3_ANTN\\ML\\DA\\Coding\\fga_selection.py:39: DtypeWarning: Columns (27,28,37,38) have mixed types. Specify dtype option on import or set low_memory=False.\n",
      "  df = pd.read_csv(adv_file_path)\n",
      "d:\\Nam3_ANTN\\ML\\DA\\Coding\\fga_selection.py:39: DtypeWarning: Columns (27,28,37,38) have mixed types. Specify dtype option on import or set low_memory=False.\n",
      "  df = pd.read_csv(adv_file_path)\n",
      "d:\\Nam3_ANTN\\ML\\DA\\Coding\\fga_selection.py:39: DtypeWarning: Columns (27,28,37,38) have mixed types. Specify dtype option on import or set low_memory=False.\n",
      "  df = pd.read_csv(adv_file_path)\n",
      "d:\\Nam3_ANTN\\ML\\DA\\Coding\\fga_selection.py:39: DtypeWarning: Columns (27,28,37,38) have mixed types. Specify dtype option on import or set low_memory=False.\n",
      "  df = pd.read_csv(adv_file_path)\n",
      "d:\\Nam3_ANTN\\ML\\DA\\Coding\\fga_selection.py:39: DtypeWarning: Columns (27,28,37,38) have mixed types. Specify dtype option on import or set low_memory=False.\n",
      "  df = pd.read_csv(adv_file_path)\n",
      "d:\\Nam3_ANTN\\ML\\DA\\Coding\\fga_selection.py:39: DtypeWarning: Columns (27,28,37,38) have mixed types. Specify dtype option on import or set low_memory=False.\n",
      "  df = pd.read_csv(adv_file_path)\n",
      "d:\\Nam3_ANTN\\ML\\DA\\Coding\\fga_selection.py:39: DtypeWarning: Columns (27,28,37,38) have mixed types. Specify dtype option on import or set low_memory=False.\n",
      "  df = pd.read_csv(adv_file_path)\n",
      "d:\\Nam3_ANTN\\ML\\DA\\Coding\\fga_selection.py:39: DtypeWarning: Columns (27,28,37,38) have mixed types. Specify dtype option on import or set low_memory=False.\n",
      "  df = pd.read_csv(adv_file_path)\n"
     ]
    },
    {
     "name": "stdout",
     "output_type": "stream",
     "text": [
      "⚙️ Thế hệ 28/30\n"
     ]
    },
    {
     "name": "stderr",
     "output_type": "stream",
     "text": [
      "d:\\Nam3_ANTN\\ML\\DA\\Coding\\fga_selection.py:39: DtypeWarning: Columns (27,28,37,38) have mixed types. Specify dtype option on import or set low_memory=False.\n",
      "  df = pd.read_csv(adv_file_path)\n",
      "d:\\Nam3_ANTN\\ML\\DA\\Coding\\fga_selection.py:39: DtypeWarning: Columns (27,28,37,38) have mixed types. Specify dtype option on import or set low_memory=False.\n",
      "  df = pd.read_csv(adv_file_path)\n",
      "d:\\Nam3_ANTN\\ML\\DA\\Coding\\fga_selection.py:39: DtypeWarning: Columns (27,28,37,38) have mixed types. Specify dtype option on import or set low_memory=False.\n",
      "  df = pd.read_csv(adv_file_path)\n",
      "d:\\Nam3_ANTN\\ML\\DA\\Coding\\fga_selection.py:39: DtypeWarning: Columns (27,28,37,38) have mixed types. Specify dtype option on import or set low_memory=False.\n",
      "  df = pd.read_csv(adv_file_path)\n",
      "d:\\Nam3_ANTN\\ML\\DA\\Coding\\fga_selection.py:39: DtypeWarning: Columns (27,28,37,38) have mixed types. Specify dtype option on import or set low_memory=False.\n",
      "  df = pd.read_csv(adv_file_path)\n",
      "d:\\Nam3_ANTN\\ML\\DA\\Coding\\fga_selection.py:39: DtypeWarning: Columns (27,28,37,38) have mixed types. Specify dtype option on import or set low_memory=False.\n",
      "  df = pd.read_csv(adv_file_path)\n",
      "d:\\Nam3_ANTN\\ML\\DA\\Coding\\fga_selection.py:39: DtypeWarning: Columns (27,28,37,38) have mixed types. Specify dtype option on import or set low_memory=False.\n",
      "  df = pd.read_csv(adv_file_path)\n",
      "d:\\Nam3_ANTN\\ML\\DA\\Coding\\fga_selection.py:39: DtypeWarning: Columns (27,28,37,38) have mixed types. Specify dtype option on import or set low_memory=False.\n",
      "  df = pd.read_csv(adv_file_path)\n",
      "d:\\Nam3_ANTN\\ML\\DA\\Coding\\fga_selection.py:39: DtypeWarning: Columns (27,28,37,38) have mixed types. Specify dtype option on import or set low_memory=False.\n",
      "  df = pd.read_csv(adv_file_path)\n",
      "d:\\Nam3_ANTN\\ML\\DA\\Coding\\fga_selection.py:39: DtypeWarning: Columns (27,28,37,38) have mixed types. Specify dtype option on import or set low_memory=False.\n",
      "  df = pd.read_csv(adv_file_path)\n"
     ]
    },
    {
     "name": "stdout",
     "output_type": "stream",
     "text": [
      "⚙️ Thế hệ 29/30\n"
     ]
    },
    {
     "name": "stderr",
     "output_type": "stream",
     "text": [
      "d:\\Nam3_ANTN\\ML\\DA\\Coding\\fga_selection.py:39: DtypeWarning: Columns (27,28,37,38) have mixed types. Specify dtype option on import or set low_memory=False.\n",
      "  df = pd.read_csv(adv_file_path)\n",
      "d:\\Nam3_ANTN\\ML\\DA\\Coding\\fga_selection.py:39: DtypeWarning: Columns (27,28,37,38) have mixed types. Specify dtype option on import or set low_memory=False.\n",
      "  df = pd.read_csv(adv_file_path)\n",
      "d:\\Nam3_ANTN\\ML\\DA\\Coding\\fga_selection.py:39: DtypeWarning: Columns (27,28,37,38) have mixed types. Specify dtype option on import or set low_memory=False.\n",
      "  df = pd.read_csv(adv_file_path)\n",
      "d:\\Nam3_ANTN\\ML\\DA\\Coding\\fga_selection.py:39: DtypeWarning: Columns (27,28,37,38) have mixed types. Specify dtype option on import or set low_memory=False.\n",
      "  df = pd.read_csv(adv_file_path)\n",
      "d:\\Nam3_ANTN\\ML\\DA\\Coding\\fga_selection.py:39: DtypeWarning: Columns (27,28,37,38) have mixed types. Specify dtype option on import or set low_memory=False.\n",
      "  df = pd.read_csv(adv_file_path)\n",
      "d:\\Nam3_ANTN\\ML\\DA\\Coding\\fga_selection.py:39: DtypeWarning: Columns (27,28,37,38) have mixed types. Specify dtype option on import or set low_memory=False.\n",
      "  df = pd.read_csv(adv_file_path)\n",
      "d:\\Nam3_ANTN\\ML\\DA\\Coding\\fga_selection.py:39: DtypeWarning: Columns (27,28,37,38) have mixed types. Specify dtype option on import or set low_memory=False.\n",
      "  df = pd.read_csv(adv_file_path)\n",
      "d:\\Nam3_ANTN\\ML\\DA\\Coding\\fga_selection.py:39: DtypeWarning: Columns (27,28,37,38) have mixed types. Specify dtype option on import or set low_memory=False.\n",
      "  df = pd.read_csv(adv_file_path)\n",
      "d:\\Nam3_ANTN\\ML\\DA\\Coding\\fga_selection.py:39: DtypeWarning: Columns (27,28,37,38) have mixed types. Specify dtype option on import or set low_memory=False.\n",
      "  df = pd.read_csv(adv_file_path)\n",
      "d:\\Nam3_ANTN\\ML\\DA\\Coding\\fga_selection.py:39: DtypeWarning: Columns (27,28,37,38) have mixed types. Specify dtype option on import or set low_memory=False.\n",
      "  df = pd.read_csv(adv_file_path)\n"
     ]
    },
    {
     "name": "stdout",
     "output_type": "stream",
     "text": [
      "⚙️ Thế hệ 30/30\n"
     ]
    },
    {
     "name": "stderr",
     "output_type": "stream",
     "text": [
      "d:\\Nam3_ANTN\\ML\\DA\\Coding\\fga_selection.py:39: DtypeWarning: Columns (27,28,37,38) have mixed types. Specify dtype option on import or set low_memory=False.\n",
      "  df = pd.read_csv(adv_file_path)\n",
      "d:\\Nam3_ANTN\\ML\\DA\\Coding\\fga_selection.py:39: DtypeWarning: Columns (27,28,37,38) have mixed types. Specify dtype option on import or set low_memory=False.\n",
      "  df = pd.read_csv(adv_file_path)\n",
      "d:\\Nam3_ANTN\\ML\\DA\\Coding\\fga_selection.py:39: DtypeWarning: Columns (27,28,37,38) have mixed types. Specify dtype option on import or set low_memory=False.\n",
      "  df = pd.read_csv(adv_file_path)\n",
      "d:\\Nam3_ANTN\\ML\\DA\\Coding\\fga_selection.py:39: DtypeWarning: Columns (27,28,37,38) have mixed types. Specify dtype option on import or set low_memory=False.\n",
      "  df = pd.read_csv(adv_file_path)\n",
      "d:\\Nam3_ANTN\\ML\\DA\\Coding\\fga_selection.py:39: DtypeWarning: Columns (27,28,37,38) have mixed types. Specify dtype option on import or set low_memory=False.\n",
      "  df = pd.read_csv(adv_file_path)\n",
      "d:\\Nam3_ANTN\\ML\\DA\\Coding\\fga_selection.py:39: DtypeWarning: Columns (27,28,37,38) have mixed types. Specify dtype option on import or set low_memory=False.\n",
      "  df = pd.read_csv(adv_file_path)\n",
      "d:\\Nam3_ANTN\\ML\\DA\\Coding\\fga_selection.py:39: DtypeWarning: Columns (27,28,37,38) have mixed types. Specify dtype option on import or set low_memory=False.\n",
      "  df = pd.read_csv(adv_file_path)\n",
      "d:\\Nam3_ANTN\\ML\\DA\\Coding\\fga_selection.py:39: DtypeWarning: Columns (27,28,37,38) have mixed types. Specify dtype option on import or set low_memory=False.\n",
      "  df = pd.read_csv(adv_file_path)\n",
      "d:\\Nam3_ANTN\\ML\\DA\\Coding\\fga_selection.py:39: DtypeWarning: Columns (27,28,37,38) have mixed types. Specify dtype option on import or set low_memory=False.\n",
      "  df = pd.read_csv(adv_file_path)\n",
      "d:\\Nam3_ANTN\\ML\\DA\\Coding\\fga_selection.py:39: DtypeWarning: Columns (27,28,37,38) have mixed types. Specify dtype option on import or set low_memory=False.\n",
      "  df = pd.read_csv(adv_file_path)\n"
     ]
    },
    {
     "name": "stdout",
     "output_type": "stream",
     "text": [
      "🏆 Best adversarial snippet:\n",
      "\n",
      "{\n",
      "\tchar dummy_char = 'a'\n",
      "\tswitch (dummy_char) {\n",
      "\tcase 'b':\n",
      "\t\treturn\n",
      "\tdefault:\n",
      "\t\tbreak\n",
      "\t}\n",
      "}\n",
      "\n",
      "\n"
     ]
    },
    {
     "name": "stderr",
     "output_type": "stream",
     "text": [
      "100%|██████████| 1763/1763 [00:00<00:00, 46851.71it/s]\n"
     ]
    },
    {
     "name": "stdout",
     "output_type": "stream",
     "text": [
      "File mã độc đã ghi vào: cwe119/adversarial_output_cwe119.csv\n"
     ]
    }
   ],
   "source": [
    "import os\n",
    "import pandas as pd\n",
    "import json\n",
    "import random\n",
    "import numpy as np\n",
    "from fga_selection import *\n",
    "\n",
    "# ========== Tham số ==========\n",
    "K = 3\n",
    "max_generation = 30\n",
    "alpha = 2\n",
    "penalty = 0.01\n",
    "decay_rate = 2\n",
    "insert_position = 15\n",
    "adv_file_path = \"cwe_filtered/CWE_119.csv\"\n",
    "pre_result_path = \"cwe119/predict_linevul_cwe119.txt\"\n",
    "output_path = \"cwe119/adversarial_output_cwe119.csv\"\n",
    "df = pd.read_csv(adv_file_path)\n",
    "\n",
    "# ========== Dữ liệu ban đầu ==========\n",
    "ad_content = pd.read_csv(\"preserved_pool_attack.csv\")[\"NoiDung\"].dropna().astype(str).tolist()\n",
    "label_list = df[\"idx\"].tolist()\n",
    "true_labels = df[\"target\"].tolist()\n",
    "\n",
    "# ========== Đọc kết quả dự đoán ==========\n",
    "with open(pre_result_path, \"r\") as f:\n",
    "    pre_result = {int(line.split(\"\\t\")[0]): int(line.split(\"\\t\")[1].strip()) for line in f if line.strip()}\n",
    "\n",
    "# ========== Lọc mẫu bị đánh nhầm ==========\n",
    "vul_idx = get_vul_idx(label_list, pre_result, true_labels)\n",
    "vul_codes = get_vul_codes(df.to_dict(\"records\"), vul_idx)\n",
    "\n",
    "print(f\"🔍 Có {len(vul_codes)} mã dễ bị tấn công được chọn để sinh mã độc.\")\n",
    "\n",
    "# ========== Fuzzy clustering ==========\n",
    "centroids = centriod_init(K, min_distance=0.1)\n",
    "\n",
    "# ========== Tạo population ban đầu ==========\n",
    "pop_size = 10\n",
    "pop_dict = {}\n",
    "for _ in range(pop_size):\n",
    "    snippet = random.choice(ad_content)\n",
    "    score = get_fitness_score(pre_result_path, adv_file_path, snippet_len=len(snippet), penalty=penalty)\n",
    "    pop_dict[snippet] = score\n",
    "\n",
    "# ========== Tiến hóa ==========\n",
    "for gen in range(max_generation):\n",
    "    print(f\"⚙️ Thế hệ {gen+1}/{max_generation}\")\n",
    "    new_offspring = []\n",
    "    offspring_scores = []\n",
    "\n",
    "    for _ in range(pop_size):\n",
    "        parent_snippet = select(pop_dict, np.mean(list(pop_dict.values())), centroids, decay_rate)\n",
    "        mutated = parent_snippet + \" \" + random.choice(ad_content)\n",
    "        mutated_score = get_fitness_score(pre_result_path, adv_file_path, snippet_len=len(mutated), penalty=penalty)\n",
    "        new_offspring.append(mutated)\n",
    "        offspring_scores.append(mutated_score)\n",
    "\n",
    "    pop_dict = update_global_pop(new_offspring, pop_dict, offspring_scores)\n",
    "\n",
    "# ========== Lấy snippet tốt nhất ==========\n",
    "best_snippet = max(pop_dict, key=pop_dict.get)\n",
    "print(f\"🏆 Best adversarial snippet:\\n{best_snippet}\")\n",
    "\n",
    "# ========== Chèn mã độc vào processed_func ==========\n",
    "vul_rows = df[df[\"idx\"].isin(vul_idx)]\n",
    "vul_codes = dict(zip(vul_rows[\"idx\"], vul_rows[\"processed_func\"]))\n",
    "adv_codes, _ = add_adver_sample_2_ast(vul_codes, insert_position, best_snippet.split())\n",
    "\n",
    "# ========== Ghi lại DataFrame gốc với mã độc đã thay thế ==========\n",
    "df_adv = df.copy()\n",
    "for i, idx in enumerate(vul_rows.index):\n",
    "    df_adv.at[idx, \"processed_func\"] = adv_codes[i]\n",
    "\n",
    "df_adv.to_csv(output_path, index=False)\n",
    "print(f\"File mã độc đã ghi vào: {output_path}\")\n"
   ]
  },
  {
   "cell_type": "code",
   "execution_count": 21,
   "id": "94183773",
   "metadata": {},
   "outputs": [
    {
     "name": "stdout",
     "output_type": "stream",
     "text": [
      "ASR = 92.456% (1630/1763)\n"
     ]
    },
    {
     "name": "stderr",
     "output_type": "stream",
     "text": [
      "C:\\Users\\Admin\\AppData\\Local\\Temp\\ipykernel_17188\\1594279555.py:13: DtypeWarning: Columns (27,28,37,38) have mixed types. Specify dtype option on import or set low_memory=False.\n",
      "  df = pd.read_csv(\"cwe119/adversarial_output_cwe119.csv\")\n"
     ]
    }
   ],
   "source": [
    "import pandas as pd\n",
    "from sklearn.metrics import accuracy_score\n",
    "\n",
    "# === Load original prediction và adversarial prediction ===\n",
    "def load_preds(path):\n",
    "    with open(path) as f:\n",
    "        return {int(l.split('\\t')[0]): int(l.split('\\t')[1]) for l in f if l.strip()}\n",
    "\n",
    "orig_pred = load_preds(\"cwe119/predict_linevul_cwe119.txt\")\n",
    "adv_pred = load_preds(\"cwe119/predict_adv_cwe119.txt\")\n",
    "\n",
    "# === Load ground-truth labels từ CSV ===\n",
    "df = pd.read_csv(\"cwe119/adversarial_output_cwe119.csv\") \n",
    "labels = dict(zip(df[\"idx\"], df[\"target\"]))\n",
    "\n",
    "# === Xác định mẫu vulnerable đúng bị phát hiện ban đầu ===\n",
    "vul_correct_ids = [idx for idx in labels if labels[idx] == 1 and orig_pred.get(idx, 0) == 1]\n",
    "\n",
    "# === Sau tấn công: bị đánh nhầm là benign ===\n",
    "successful_attack_ids = [idx for idx in vul_correct_ids if adv_pred.get(idx, 1) == 0]\n",
    "\n",
    "# === Tính ASR (Attack Success Rate) ===\n",
    "ASR = len(successful_attack_ids) / len(vul_correct_ids) if vul_correct_ids else 0\n",
    "print(f\"ASR = {ASR:.3%} ({len(successful_attack_ids)}/{len(vul_correct_ids)})\")\n"
   ]
  },
  {
   "cell_type": "code",
   "execution_count": null,
   "id": "ed4352f4",
   "metadata": {},
   "outputs": [
    {
     "name": "stdout",
     "output_type": "stream",
     "text": [
      "✅ Đã chia cwe399.csv thành 3 tập:\n",
      "  • train: 11844 mẫu\n",
      "  • val:   1481 mẫu\n",
      "  • test:  1481 mẫu\n"
     ]
    }
   ],
   "source": [
    "import pandas as pd\n",
    "from sklearn.model_selection import train_test_split\n",
    "\n",
    "# Đọc file CSV gốc\n",
    "df = pd.read_csv(\"cwe_filtered/CWE_399.csv\")\n",
    "\n",
    "# Bước 1: Chia tạm thành train (80%) và temp (20%)\n",
    "train_df, temp_df = train_test_split(df, test_size=0.2, random_state=42, stratify=df['target'])\n",
    "\n",
    "# Bước 2: Chia temp thành val (10%) và test (10%)\n",
    "val_df, test_df = train_test_split(temp_df, test_size=0.5, random_state=42, stratify=temp_df['target'])\n",
    "\n",
    "# Ghi ra các file kết quả\n",
    "train_df.to_csv(\"cwe399_train.csv\", index=False)\n",
    "val_df.to_csv(\"cwe399_val.csv\", index=False)\n",
    "test_df.to_csv(\"cwe399_test.csv\", index=False)\n",
    "\n",
    "print(f\"Đã chia cwe399.csv thành 3 tập:\")\n",
    "print(f\"  • train: {len(train_df)} mẫu\")\n",
    "print(f\"  • val:   {len(val_df)} mẫu\")\n",
    "print(f\"  • test:  {len(test_df)} mẫu\")\n"
   ]
  },
  {
   "cell_type": "code",
   "execution_count": 1,
   "id": "e47469b8",
   "metadata": {},
   "outputs": [
    {
     "name": "stdout",
     "output_type": "stream",
     "text": [
      "✅ Đã hợp nhất thành công. Gồm 969 dòng.\n"
     ]
    }
   ],
   "source": [
    "import pandas as pd\n",
    "\n",
    "# Đọc hai file CSV\n",
    "df1 = pd.read_csv(\"adversarial_outputs_119.csv\")\n",
    "df2 = pd.read_csv(\"adversarial_outputs_189.csv\")\n",
    "df3 = pd.read_csv(\"adversarial_outputs_416.csv\")\n",
    "df4 = pd.read_csv(\"output_adversarial.csv\")\n",
    "\n",
    "# Hợp hai DataFrame lại với nhau\n",
    "df_merged = pd.concat([df1, df2, df3, df4], ignore_index=True)\n",
    "\n",
    "# Ghi ra file CSV mới\n",
    "df_merged.to_csv(\"preserved_pool_attack.csv\", index=False)\n",
    "\n",
    "print(f\"✅ Đã hợp nhất thành công. Gồm {len(df_merged)} dòng.\")\n"
   ]
  }
 ],
 "metadata": {
  "kernelspec": {
   "display_name": ".conda",
   "language": "python",
   "name": "python3"
  },
  "language_info": {
   "codemirror_mode": {
    "name": "ipython",
    "version": 3
   },
   "file_extension": ".py",
   "mimetype": "text/x-python",
   "name": "python",
   "nbconvert_exporter": "python",
   "pygments_lexer": "ipython3",
   "version": "3.10.15"
  }
 },
 "nbformat": 4,
 "nbformat_minor": 5
}
