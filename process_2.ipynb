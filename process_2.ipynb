{
 "cells": [
  {
   "cell_type": "code",
   "execution_count": 3,
   "id": "e04247be",
   "metadata": {},
   "outputs": [],
   "source": [
    "# Đọc file predict.txt cũ (chỉ có label), thêm idx vào đầu mỗi dòng\n",
    "with open(\"cwe20/predict_adv_cwe20.txt\", \"r\") as f:\n",
    "    labels = f.readlines()\n",
    "\n",
    "# Nếu file cũ không có header\n",
    "with open(\"cwe20/predict_adv_cwe20.txt\", \"w\") as f:\n",
    "    f.write(\"idx\\tlabel\\n\")  # Thêm header\n",
    "    for idx, label in enumerate(labels):\n",
    "        label = label.strip()\n",
    "        if label:  # Bỏ qua dòng trống\n",
    "            f.write(f\"{idx}\\t{label}\\n\")\n"
   ]
  },
  {
   "cell_type": "code",
   "execution_count": 2,
   "id": "9eafbc84",
   "metadata": {},
   "outputs": [
    {
     "name": "stderr",
     "output_type": "stream",
     "text": [
      "C:\\Users\\Admin\\AppData\\Local\\Temp\\ipykernel_9400\\4174520569.py:18: DtypeWarning: Columns (27,28,37,38) have mixed types. Specify dtype option on import or set low_memory=False.\n",
      "  df = pd.read_csv(adv_file_path)\n"
     ]
    },
    {
     "name": "stdout",
     "output_type": "stream",
     "text": [
      "🔍 Có 949 mã dễ bị tấn công được chọn để sinh mã độc.\n"
     ]
    },
    {
     "name": "stderr",
     "output_type": "stream",
     "text": [
      "d:\\Nam3_ANTN\\ML\\DA\\Coding\\fga_selection.py:39: DtypeWarning: Columns (27,28,37,38) have mixed types. Specify dtype option on import or set low_memory=False.\n",
      "  df = pd.read_csv(adv_file_path)\n",
      "d:\\Nam3_ANTN\\ML\\DA\\Coding\\fga_selection.py:39: DtypeWarning: Columns (27,28,37,38) have mixed types. Specify dtype option on import or set low_memory=False.\n",
      "  df = pd.read_csv(adv_file_path)\n",
      "d:\\Nam3_ANTN\\ML\\DA\\Coding\\fga_selection.py:39: DtypeWarning: Columns (27,28,37,38) have mixed types. Specify dtype option on import or set low_memory=False.\n",
      "  df = pd.read_csv(adv_file_path)\n",
      "d:\\Nam3_ANTN\\ML\\DA\\Coding\\fga_selection.py:39: DtypeWarning: Columns (27,28,37,38) have mixed types. Specify dtype option on import or set low_memory=False.\n",
      "  df = pd.read_csv(adv_file_path)\n",
      "d:\\Nam3_ANTN\\ML\\DA\\Coding\\fga_selection.py:39: DtypeWarning: Columns (27,28,37,38) have mixed types. Specify dtype option on import or set low_memory=False.\n",
      "  df = pd.read_csv(adv_file_path)\n",
      "d:\\Nam3_ANTN\\ML\\DA\\Coding\\fga_selection.py:39: DtypeWarning: Columns (27,28,37,38) have mixed types. Specify dtype option on import or set low_memory=False.\n",
      "  df = pd.read_csv(adv_file_path)\n",
      "d:\\Nam3_ANTN\\ML\\DA\\Coding\\fga_selection.py:39: DtypeWarning: Columns (27,28,37,38) have mixed types. Specify dtype option on import or set low_memory=False.\n",
      "  df = pd.read_csv(adv_file_path)\n",
      "d:\\Nam3_ANTN\\ML\\DA\\Coding\\fga_selection.py:39: DtypeWarning: Columns (27,28,37,38) have mixed types. Specify dtype option on import or set low_memory=False.\n",
      "  df = pd.read_csv(adv_file_path)\n",
      "d:\\Nam3_ANTN\\ML\\DA\\Coding\\fga_selection.py:39: DtypeWarning: Columns (27,28,37,38) have mixed types. Specify dtype option on import or set low_memory=False.\n",
      "  df = pd.read_csv(adv_file_path)\n",
      "d:\\Nam3_ANTN\\ML\\DA\\Coding\\fga_selection.py:39: DtypeWarning: Columns (27,28,37,38) have mixed types. Specify dtype option on import or set low_memory=False.\n",
      "  df = pd.read_csv(adv_file_path)\n"
     ]
    },
    {
     "name": "stdout",
     "output_type": "stream",
     "text": [
      "⚙️ Thế hệ 1/30\n"
     ]
    },
    {
     "name": "stderr",
     "output_type": "stream",
     "text": [
      "d:\\Nam3_ANTN\\ML\\DA\\Coding\\fga_selection.py:39: DtypeWarning: Columns (27,28,37,38) have mixed types. Specify dtype option on import or set low_memory=False.\n",
      "  df = pd.read_csv(adv_file_path)\n",
      "d:\\Nam3_ANTN\\ML\\DA\\Coding\\fga_selection.py:39: DtypeWarning: Columns (27,28,37,38) have mixed types. Specify dtype option on import or set low_memory=False.\n",
      "  df = pd.read_csv(adv_file_path)\n",
      "d:\\Nam3_ANTN\\ML\\DA\\Coding\\fga_selection.py:39: DtypeWarning: Columns (27,28,37,38) have mixed types. Specify dtype option on import or set low_memory=False.\n",
      "  df = pd.read_csv(adv_file_path)\n",
      "d:\\Nam3_ANTN\\ML\\DA\\Coding\\fga_selection.py:39: DtypeWarning: Columns (27,28,37,38) have mixed types. Specify dtype option on import or set low_memory=False.\n",
      "  df = pd.read_csv(adv_file_path)\n",
      "d:\\Nam3_ANTN\\ML\\DA\\Coding\\fga_selection.py:39: DtypeWarning: Columns (27,28,37,38) have mixed types. Specify dtype option on import or set low_memory=False.\n",
      "  df = pd.read_csv(adv_file_path)\n",
      "d:\\Nam3_ANTN\\ML\\DA\\Coding\\fga_selection.py:39: DtypeWarning: Columns (27,28,37,38) have mixed types. Specify dtype option on import or set low_memory=False.\n",
      "  df = pd.read_csv(adv_file_path)\n",
      "d:\\Nam3_ANTN\\ML\\DA\\Coding\\fga_selection.py:39: DtypeWarning: Columns (27,28,37,38) have mixed types. Specify dtype option on import or set low_memory=False.\n",
      "  df = pd.read_csv(adv_file_path)\n",
      "d:\\Nam3_ANTN\\ML\\DA\\Coding\\fga_selection.py:39: DtypeWarning: Columns (27,28,37,38) have mixed types. Specify dtype option on import or set low_memory=False.\n",
      "  df = pd.read_csv(adv_file_path)\n",
      "d:\\Nam3_ANTN\\ML\\DA\\Coding\\fga_selection.py:39: DtypeWarning: Columns (27,28,37,38) have mixed types. Specify dtype option on import or set low_memory=False.\n",
      "  df = pd.read_csv(adv_file_path)\n",
      "d:\\Nam3_ANTN\\ML\\DA\\Coding\\fga_selection.py:39: DtypeWarning: Columns (27,28,37,38) have mixed types. Specify dtype option on import or set low_memory=False.\n",
      "  df = pd.read_csv(adv_file_path)\n"
     ]
    },
    {
     "name": "stdout",
     "output_type": "stream",
     "text": [
      "⚙️ Thế hệ 2/30\n"
     ]
    },
    {
     "name": "stderr",
     "output_type": "stream",
     "text": [
      "d:\\Nam3_ANTN\\ML\\DA\\Coding\\fga_selection.py:39: DtypeWarning: Columns (27,28,37,38) have mixed types. Specify dtype option on import or set low_memory=False.\n",
      "  df = pd.read_csv(adv_file_path)\n",
      "d:\\Nam3_ANTN\\ML\\DA\\Coding\\fga_selection.py:39: DtypeWarning: Columns (27,28,37,38) have mixed types. Specify dtype option on import or set low_memory=False.\n",
      "  df = pd.read_csv(adv_file_path)\n",
      "d:\\Nam3_ANTN\\ML\\DA\\Coding\\fga_selection.py:39: DtypeWarning: Columns (27,28,37,38) have mixed types. Specify dtype option on import or set low_memory=False.\n",
      "  df = pd.read_csv(adv_file_path)\n",
      "d:\\Nam3_ANTN\\ML\\DA\\Coding\\fga_selection.py:39: DtypeWarning: Columns (27,28,37,38) have mixed types. Specify dtype option on import or set low_memory=False.\n",
      "  df = pd.read_csv(adv_file_path)\n",
      "d:\\Nam3_ANTN\\ML\\DA\\Coding\\fga_selection.py:39: DtypeWarning: Columns (27,28,37,38) have mixed types. Specify dtype option on import or set low_memory=False.\n",
      "  df = pd.read_csv(adv_file_path)\n",
      "d:\\Nam3_ANTN\\ML\\DA\\Coding\\fga_selection.py:39: DtypeWarning: Columns (27,28,37,38) have mixed types. Specify dtype option on import or set low_memory=False.\n",
      "  df = pd.read_csv(adv_file_path)\n",
      "d:\\Nam3_ANTN\\ML\\DA\\Coding\\fga_selection.py:39: DtypeWarning: Columns (27,28,37,38) have mixed types. Specify dtype option on import or set low_memory=False.\n",
      "  df = pd.read_csv(adv_file_path)\n",
      "d:\\Nam3_ANTN\\ML\\DA\\Coding\\fga_selection.py:39: DtypeWarning: Columns (27,28,37,38) have mixed types. Specify dtype option on import or set low_memory=False.\n",
      "  df = pd.read_csv(adv_file_path)\n",
      "d:\\Nam3_ANTN\\ML\\DA\\Coding\\fga_selection.py:39: DtypeWarning: Columns (27,28,37,38) have mixed types. Specify dtype option on import or set low_memory=False.\n",
      "  df = pd.read_csv(adv_file_path)\n",
      "d:\\Nam3_ANTN\\ML\\DA\\Coding\\fga_selection.py:39: DtypeWarning: Columns (27,28,37,38) have mixed types. Specify dtype option on import or set low_memory=False.\n",
      "  df = pd.read_csv(adv_file_path)\n"
     ]
    },
    {
     "name": "stdout",
     "output_type": "stream",
     "text": [
      "⚙️ Thế hệ 3/30\n"
     ]
    },
    {
     "name": "stderr",
     "output_type": "stream",
     "text": [
      "d:\\Nam3_ANTN\\ML\\DA\\Coding\\fga_selection.py:39: DtypeWarning: Columns (27,28,37,38) have mixed types. Specify dtype option on import or set low_memory=False.\n",
      "  df = pd.read_csv(adv_file_path)\n",
      "d:\\Nam3_ANTN\\ML\\DA\\Coding\\fga_selection.py:39: DtypeWarning: Columns (27,28,37,38) have mixed types. Specify dtype option on import or set low_memory=False.\n",
      "  df = pd.read_csv(adv_file_path)\n",
      "d:\\Nam3_ANTN\\ML\\DA\\Coding\\fga_selection.py:39: DtypeWarning: Columns (27,28,37,38) have mixed types. Specify dtype option on import or set low_memory=False.\n",
      "  df = pd.read_csv(adv_file_path)\n",
      "d:\\Nam3_ANTN\\ML\\DA\\Coding\\fga_selection.py:39: DtypeWarning: Columns (27,28,37,38) have mixed types. Specify dtype option on import or set low_memory=False.\n",
      "  df = pd.read_csv(adv_file_path)\n",
      "d:\\Nam3_ANTN\\ML\\DA\\Coding\\fga_selection.py:39: DtypeWarning: Columns (27,28,37,38) have mixed types. Specify dtype option on import or set low_memory=False.\n",
      "  df = pd.read_csv(adv_file_path)\n",
      "d:\\Nam3_ANTN\\ML\\DA\\Coding\\fga_selection.py:39: DtypeWarning: Columns (27,28,37,38) have mixed types. Specify dtype option on import or set low_memory=False.\n",
      "  df = pd.read_csv(adv_file_path)\n",
      "d:\\Nam3_ANTN\\ML\\DA\\Coding\\fga_selection.py:39: DtypeWarning: Columns (27,28,37,38) have mixed types. Specify dtype option on import or set low_memory=False.\n",
      "  df = pd.read_csv(adv_file_path)\n",
      "d:\\Nam3_ANTN\\ML\\DA\\Coding\\fga_selection.py:39: DtypeWarning: Columns (27,28,37,38) have mixed types. Specify dtype option on import or set low_memory=False.\n",
      "  df = pd.read_csv(adv_file_path)\n",
      "d:\\Nam3_ANTN\\ML\\DA\\Coding\\fga_selection.py:39: DtypeWarning: Columns (27,28,37,38) have mixed types. Specify dtype option on import or set low_memory=False.\n",
      "  df = pd.read_csv(adv_file_path)\n",
      "d:\\Nam3_ANTN\\ML\\DA\\Coding\\fga_selection.py:39: DtypeWarning: Columns (27,28,37,38) have mixed types. Specify dtype option on import or set low_memory=False.\n",
      "  df = pd.read_csv(adv_file_path)\n"
     ]
    },
    {
     "name": "stdout",
     "output_type": "stream",
     "text": [
      "⚙️ Thế hệ 4/30\n"
     ]
    },
    {
     "name": "stderr",
     "output_type": "stream",
     "text": [
      "d:\\Nam3_ANTN\\ML\\DA\\Coding\\fga_selection.py:39: DtypeWarning: Columns (27,28,37,38) have mixed types. Specify dtype option on import or set low_memory=False.\n",
      "  df = pd.read_csv(adv_file_path)\n",
      "d:\\Nam3_ANTN\\ML\\DA\\Coding\\fga_selection.py:39: DtypeWarning: Columns (27,28,37,38) have mixed types. Specify dtype option on import or set low_memory=False.\n",
      "  df = pd.read_csv(adv_file_path)\n",
      "d:\\Nam3_ANTN\\ML\\DA\\Coding\\fga_selection.py:39: DtypeWarning: Columns (27,28,37,38) have mixed types. Specify dtype option on import or set low_memory=False.\n",
      "  df = pd.read_csv(adv_file_path)\n",
      "d:\\Nam3_ANTN\\ML\\DA\\Coding\\fga_selection.py:39: DtypeWarning: Columns (27,28,37,38) have mixed types. Specify dtype option on import or set low_memory=False.\n",
      "  df = pd.read_csv(adv_file_path)\n",
      "d:\\Nam3_ANTN\\ML\\DA\\Coding\\fga_selection.py:39: DtypeWarning: Columns (27,28,37,38) have mixed types. Specify dtype option on import or set low_memory=False.\n",
      "  df = pd.read_csv(adv_file_path)\n",
      "d:\\Nam3_ANTN\\ML\\DA\\Coding\\fga_selection.py:39: DtypeWarning: Columns (27,28,37,38) have mixed types. Specify dtype option on import or set low_memory=False.\n",
      "  df = pd.read_csv(adv_file_path)\n",
      "d:\\Nam3_ANTN\\ML\\DA\\Coding\\fga_selection.py:39: DtypeWarning: Columns (27,28,37,38) have mixed types. Specify dtype option on import or set low_memory=False.\n",
      "  df = pd.read_csv(adv_file_path)\n",
      "d:\\Nam3_ANTN\\ML\\DA\\Coding\\fga_selection.py:39: DtypeWarning: Columns (27,28,37,38) have mixed types. Specify dtype option on import or set low_memory=False.\n",
      "  df = pd.read_csv(adv_file_path)\n",
      "d:\\Nam3_ANTN\\ML\\DA\\Coding\\fga_selection.py:39: DtypeWarning: Columns (27,28,37,38) have mixed types. Specify dtype option on import or set low_memory=False.\n",
      "  df = pd.read_csv(adv_file_path)\n",
      "d:\\Nam3_ANTN\\ML\\DA\\Coding\\fga_selection.py:39: DtypeWarning: Columns (27,28,37,38) have mixed types. Specify dtype option on import or set low_memory=False.\n",
      "  df = pd.read_csv(adv_file_path)\n"
     ]
    },
    {
     "name": "stdout",
     "output_type": "stream",
     "text": [
      "⚙️ Thế hệ 5/30\n"
     ]
    },
    {
     "name": "stderr",
     "output_type": "stream",
     "text": [
      "d:\\Nam3_ANTN\\ML\\DA\\Coding\\fga_selection.py:39: DtypeWarning: Columns (27,28,37,38) have mixed types. Specify dtype option on import or set low_memory=False.\n",
      "  df = pd.read_csv(adv_file_path)\n",
      "d:\\Nam3_ANTN\\ML\\DA\\Coding\\fga_selection.py:39: DtypeWarning: Columns (27,28,37,38) have mixed types. Specify dtype option on import or set low_memory=False.\n",
      "  df = pd.read_csv(adv_file_path)\n",
      "d:\\Nam3_ANTN\\ML\\DA\\Coding\\fga_selection.py:39: DtypeWarning: Columns (27,28,37,38) have mixed types. Specify dtype option on import or set low_memory=False.\n",
      "  df = pd.read_csv(adv_file_path)\n",
      "d:\\Nam3_ANTN\\ML\\DA\\Coding\\fga_selection.py:39: DtypeWarning: Columns (27,28,37,38) have mixed types. Specify dtype option on import or set low_memory=False.\n",
      "  df = pd.read_csv(adv_file_path)\n",
      "d:\\Nam3_ANTN\\ML\\DA\\Coding\\fga_selection.py:39: DtypeWarning: Columns (27,28,37,38) have mixed types. Specify dtype option on import or set low_memory=False.\n",
      "  df = pd.read_csv(adv_file_path)\n",
      "d:\\Nam3_ANTN\\ML\\DA\\Coding\\fga_selection.py:39: DtypeWarning: Columns (27,28,37,38) have mixed types. Specify dtype option on import or set low_memory=False.\n",
      "  df = pd.read_csv(adv_file_path)\n",
      "d:\\Nam3_ANTN\\ML\\DA\\Coding\\fga_selection.py:39: DtypeWarning: Columns (27,28,37,38) have mixed types. Specify dtype option on import or set low_memory=False.\n",
      "  df = pd.read_csv(adv_file_path)\n",
      "d:\\Nam3_ANTN\\ML\\DA\\Coding\\fga_selection.py:39: DtypeWarning: Columns (27,28,37,38) have mixed types. Specify dtype option on import or set low_memory=False.\n",
      "  df = pd.read_csv(adv_file_path)\n",
      "d:\\Nam3_ANTN\\ML\\DA\\Coding\\fga_selection.py:39: DtypeWarning: Columns (27,28,37,38) have mixed types. Specify dtype option on import or set low_memory=False.\n",
      "  df = pd.read_csv(adv_file_path)\n",
      "d:\\Nam3_ANTN\\ML\\DA\\Coding\\fga_selection.py:39: DtypeWarning: Columns (27,28,37,38) have mixed types. Specify dtype option on import or set low_memory=False.\n",
      "  df = pd.read_csv(adv_file_path)\n"
     ]
    },
    {
     "name": "stdout",
     "output_type": "stream",
     "text": [
      "⚙️ Thế hệ 6/30\n"
     ]
    },
    {
     "name": "stderr",
     "output_type": "stream",
     "text": [
      "d:\\Nam3_ANTN\\ML\\DA\\Coding\\fga_selection.py:39: DtypeWarning: Columns (27,28,37,38) have mixed types. Specify dtype option on import or set low_memory=False.\n",
      "  df = pd.read_csv(adv_file_path)\n",
      "d:\\Nam3_ANTN\\ML\\DA\\Coding\\fga_selection.py:39: DtypeWarning: Columns (27,28,37,38) have mixed types. Specify dtype option on import or set low_memory=False.\n",
      "  df = pd.read_csv(adv_file_path)\n",
      "d:\\Nam3_ANTN\\ML\\DA\\Coding\\fga_selection.py:39: DtypeWarning: Columns (27,28,37,38) have mixed types. Specify dtype option on import or set low_memory=False.\n",
      "  df = pd.read_csv(adv_file_path)\n",
      "d:\\Nam3_ANTN\\ML\\DA\\Coding\\fga_selection.py:39: DtypeWarning: Columns (27,28,37,38) have mixed types. Specify dtype option on import or set low_memory=False.\n",
      "  df = pd.read_csv(adv_file_path)\n",
      "d:\\Nam3_ANTN\\ML\\DA\\Coding\\fga_selection.py:39: DtypeWarning: Columns (27,28,37,38) have mixed types. Specify dtype option on import or set low_memory=False.\n",
      "  df = pd.read_csv(adv_file_path)\n",
      "d:\\Nam3_ANTN\\ML\\DA\\Coding\\fga_selection.py:39: DtypeWarning: Columns (27,28,37,38) have mixed types. Specify dtype option on import or set low_memory=False.\n",
      "  df = pd.read_csv(adv_file_path)\n",
      "d:\\Nam3_ANTN\\ML\\DA\\Coding\\fga_selection.py:39: DtypeWarning: Columns (27,28,37,38) have mixed types. Specify dtype option on import or set low_memory=False.\n",
      "  df = pd.read_csv(adv_file_path)\n",
      "d:\\Nam3_ANTN\\ML\\DA\\Coding\\fga_selection.py:39: DtypeWarning: Columns (27,28,37,38) have mixed types. Specify dtype option on import or set low_memory=False.\n",
      "  df = pd.read_csv(adv_file_path)\n",
      "d:\\Nam3_ANTN\\ML\\DA\\Coding\\fga_selection.py:39: DtypeWarning: Columns (27,28,37,38) have mixed types. Specify dtype option on import or set low_memory=False.\n",
      "  df = pd.read_csv(adv_file_path)\n",
      "d:\\Nam3_ANTN\\ML\\DA\\Coding\\fga_selection.py:39: DtypeWarning: Columns (27,28,37,38) have mixed types. Specify dtype option on import or set low_memory=False.\n",
      "  df = pd.read_csv(adv_file_path)\n"
     ]
    },
    {
     "name": "stdout",
     "output_type": "stream",
     "text": [
      "⚙️ Thế hệ 7/30\n"
     ]
    },
    {
     "name": "stderr",
     "output_type": "stream",
     "text": [
      "d:\\Nam3_ANTN\\ML\\DA\\Coding\\fga_selection.py:39: DtypeWarning: Columns (27,28,37,38) have mixed types. Specify dtype option on import or set low_memory=False.\n",
      "  df = pd.read_csv(adv_file_path)\n",
      "d:\\Nam3_ANTN\\ML\\DA\\Coding\\fga_selection.py:39: DtypeWarning: Columns (27,28,37,38) have mixed types. Specify dtype option on import or set low_memory=False.\n",
      "  df = pd.read_csv(adv_file_path)\n",
      "d:\\Nam3_ANTN\\ML\\DA\\Coding\\fga_selection.py:39: DtypeWarning: Columns (27,28,37,38) have mixed types. Specify dtype option on import or set low_memory=False.\n",
      "  df = pd.read_csv(adv_file_path)\n",
      "d:\\Nam3_ANTN\\ML\\DA\\Coding\\fga_selection.py:39: DtypeWarning: Columns (27,28,37,38) have mixed types. Specify dtype option on import or set low_memory=False.\n",
      "  df = pd.read_csv(adv_file_path)\n",
      "d:\\Nam3_ANTN\\ML\\DA\\Coding\\fga_selection.py:39: DtypeWarning: Columns (27,28,37,38) have mixed types. Specify dtype option on import or set low_memory=False.\n",
      "  df = pd.read_csv(adv_file_path)\n",
      "d:\\Nam3_ANTN\\ML\\DA\\Coding\\fga_selection.py:39: DtypeWarning: Columns (27,28,37,38) have mixed types. Specify dtype option on import or set low_memory=False.\n",
      "  df = pd.read_csv(adv_file_path)\n",
      "d:\\Nam3_ANTN\\ML\\DA\\Coding\\fga_selection.py:39: DtypeWarning: Columns (27,28,37,38) have mixed types. Specify dtype option on import or set low_memory=False.\n",
      "  df = pd.read_csv(adv_file_path)\n",
      "d:\\Nam3_ANTN\\ML\\DA\\Coding\\fga_selection.py:39: DtypeWarning: Columns (27,28,37,38) have mixed types. Specify dtype option on import or set low_memory=False.\n",
      "  df = pd.read_csv(adv_file_path)\n",
      "d:\\Nam3_ANTN\\ML\\DA\\Coding\\fga_selection.py:39: DtypeWarning: Columns (27,28,37,38) have mixed types. Specify dtype option on import or set low_memory=False.\n",
      "  df = pd.read_csv(adv_file_path)\n",
      "d:\\Nam3_ANTN\\ML\\DA\\Coding\\fga_selection.py:39: DtypeWarning: Columns (27,28,37,38) have mixed types. Specify dtype option on import or set low_memory=False.\n",
      "  df = pd.read_csv(adv_file_path)\n"
     ]
    },
    {
     "name": "stdout",
     "output_type": "stream",
     "text": [
      "⚙️ Thế hệ 8/30\n"
     ]
    },
    {
     "name": "stderr",
     "output_type": "stream",
     "text": [
      "d:\\Nam3_ANTN\\ML\\DA\\Coding\\fga_selection.py:39: DtypeWarning: Columns (27,28,37,38) have mixed types. Specify dtype option on import or set low_memory=False.\n",
      "  df = pd.read_csv(adv_file_path)\n",
      "d:\\Nam3_ANTN\\ML\\DA\\Coding\\fga_selection.py:39: DtypeWarning: Columns (27,28,37,38) have mixed types. Specify dtype option on import or set low_memory=False.\n",
      "  df = pd.read_csv(adv_file_path)\n",
      "d:\\Nam3_ANTN\\ML\\DA\\Coding\\fga_selection.py:39: DtypeWarning: Columns (27,28,37,38) have mixed types. Specify dtype option on import or set low_memory=False.\n",
      "  df = pd.read_csv(adv_file_path)\n",
      "d:\\Nam3_ANTN\\ML\\DA\\Coding\\fga_selection.py:39: DtypeWarning: Columns (27,28,37,38) have mixed types. Specify dtype option on import or set low_memory=False.\n",
      "  df = pd.read_csv(adv_file_path)\n",
      "d:\\Nam3_ANTN\\ML\\DA\\Coding\\fga_selection.py:39: DtypeWarning: Columns (27,28,37,38) have mixed types. Specify dtype option on import or set low_memory=False.\n",
      "  df = pd.read_csv(adv_file_path)\n",
      "d:\\Nam3_ANTN\\ML\\DA\\Coding\\fga_selection.py:39: DtypeWarning: Columns (27,28,37,38) have mixed types. Specify dtype option on import or set low_memory=False.\n",
      "  df = pd.read_csv(adv_file_path)\n",
      "d:\\Nam3_ANTN\\ML\\DA\\Coding\\fga_selection.py:39: DtypeWarning: Columns (27,28,37,38) have mixed types. Specify dtype option on import or set low_memory=False.\n",
      "  df = pd.read_csv(adv_file_path)\n",
      "d:\\Nam3_ANTN\\ML\\DA\\Coding\\fga_selection.py:39: DtypeWarning: Columns (27,28,37,38) have mixed types. Specify dtype option on import or set low_memory=False.\n",
      "  df = pd.read_csv(adv_file_path)\n",
      "d:\\Nam3_ANTN\\ML\\DA\\Coding\\fga_selection.py:39: DtypeWarning: Columns (27,28,37,38) have mixed types. Specify dtype option on import or set low_memory=False.\n",
      "  df = pd.read_csv(adv_file_path)\n",
      "d:\\Nam3_ANTN\\ML\\DA\\Coding\\fga_selection.py:39: DtypeWarning: Columns (27,28,37,38) have mixed types. Specify dtype option on import or set low_memory=False.\n",
      "  df = pd.read_csv(adv_file_path)\n"
     ]
    },
    {
     "name": "stdout",
     "output_type": "stream",
     "text": [
      "⚙️ Thế hệ 9/30\n"
     ]
    },
    {
     "name": "stderr",
     "output_type": "stream",
     "text": [
      "d:\\Nam3_ANTN\\ML\\DA\\Coding\\fga_selection.py:39: DtypeWarning: Columns (27,28,37,38) have mixed types. Specify dtype option on import or set low_memory=False.\n",
      "  df = pd.read_csv(adv_file_path)\n",
      "d:\\Nam3_ANTN\\ML\\DA\\Coding\\fga_selection.py:39: DtypeWarning: Columns (27,28,37,38) have mixed types. Specify dtype option on import or set low_memory=False.\n",
      "  df = pd.read_csv(adv_file_path)\n",
      "d:\\Nam3_ANTN\\ML\\DA\\Coding\\fga_selection.py:39: DtypeWarning: Columns (27,28,37,38) have mixed types. Specify dtype option on import or set low_memory=False.\n",
      "  df = pd.read_csv(adv_file_path)\n",
      "d:\\Nam3_ANTN\\ML\\DA\\Coding\\fga_selection.py:39: DtypeWarning: Columns (27,28,37,38) have mixed types. Specify dtype option on import or set low_memory=False.\n",
      "  df = pd.read_csv(adv_file_path)\n",
      "d:\\Nam3_ANTN\\ML\\DA\\Coding\\fga_selection.py:39: DtypeWarning: Columns (27,28,37,38) have mixed types. Specify dtype option on import or set low_memory=False.\n",
      "  df = pd.read_csv(adv_file_path)\n",
      "d:\\Nam3_ANTN\\ML\\DA\\Coding\\fga_selection.py:39: DtypeWarning: Columns (27,28,37,38) have mixed types. Specify dtype option on import or set low_memory=False.\n",
      "  df = pd.read_csv(adv_file_path)\n",
      "d:\\Nam3_ANTN\\ML\\DA\\Coding\\fga_selection.py:39: DtypeWarning: Columns (27,28,37,38) have mixed types. Specify dtype option on import or set low_memory=False.\n",
      "  df = pd.read_csv(adv_file_path)\n",
      "d:\\Nam3_ANTN\\ML\\DA\\Coding\\fga_selection.py:39: DtypeWarning: Columns (27,28,37,38) have mixed types. Specify dtype option on import or set low_memory=False.\n",
      "  df = pd.read_csv(adv_file_path)\n",
      "d:\\Nam3_ANTN\\ML\\DA\\Coding\\fga_selection.py:39: DtypeWarning: Columns (27,28,37,38) have mixed types. Specify dtype option on import or set low_memory=False.\n",
      "  df = pd.read_csv(adv_file_path)\n",
      "d:\\Nam3_ANTN\\ML\\DA\\Coding\\fga_selection.py:39: DtypeWarning: Columns (27,28,37,38) have mixed types. Specify dtype option on import or set low_memory=False.\n",
      "  df = pd.read_csv(adv_file_path)\n"
     ]
    },
    {
     "name": "stdout",
     "output_type": "stream",
     "text": [
      "⚙️ Thế hệ 10/30\n"
     ]
    },
    {
     "name": "stderr",
     "output_type": "stream",
     "text": [
      "d:\\Nam3_ANTN\\ML\\DA\\Coding\\fga_selection.py:39: DtypeWarning: Columns (27,28,37,38) have mixed types. Specify dtype option on import or set low_memory=False.\n",
      "  df = pd.read_csv(adv_file_path)\n",
      "d:\\Nam3_ANTN\\ML\\DA\\Coding\\fga_selection.py:39: DtypeWarning: Columns (27,28,37,38) have mixed types. Specify dtype option on import or set low_memory=False.\n",
      "  df = pd.read_csv(adv_file_path)\n",
      "d:\\Nam3_ANTN\\ML\\DA\\Coding\\fga_selection.py:39: DtypeWarning: Columns (27,28,37,38) have mixed types. Specify dtype option on import or set low_memory=False.\n",
      "  df = pd.read_csv(adv_file_path)\n",
      "d:\\Nam3_ANTN\\ML\\DA\\Coding\\fga_selection.py:39: DtypeWarning: Columns (27,28,37,38) have mixed types. Specify dtype option on import or set low_memory=False.\n",
      "  df = pd.read_csv(adv_file_path)\n",
      "d:\\Nam3_ANTN\\ML\\DA\\Coding\\fga_selection.py:39: DtypeWarning: Columns (27,28,37,38) have mixed types. Specify dtype option on import or set low_memory=False.\n",
      "  df = pd.read_csv(adv_file_path)\n",
      "d:\\Nam3_ANTN\\ML\\DA\\Coding\\fga_selection.py:39: DtypeWarning: Columns (27,28,37,38) have mixed types. Specify dtype option on import or set low_memory=False.\n",
      "  df = pd.read_csv(adv_file_path)\n",
      "d:\\Nam3_ANTN\\ML\\DA\\Coding\\fga_selection.py:39: DtypeWarning: Columns (27,28,37,38) have mixed types. Specify dtype option on import or set low_memory=False.\n",
      "  df = pd.read_csv(adv_file_path)\n",
      "d:\\Nam3_ANTN\\ML\\DA\\Coding\\fga_selection.py:39: DtypeWarning: Columns (27,28,37,38) have mixed types. Specify dtype option on import or set low_memory=False.\n",
      "  df = pd.read_csv(adv_file_path)\n",
      "d:\\Nam3_ANTN\\ML\\DA\\Coding\\fga_selection.py:39: DtypeWarning: Columns (27,28,37,38) have mixed types. Specify dtype option on import or set low_memory=False.\n",
      "  df = pd.read_csv(adv_file_path)\n",
      "d:\\Nam3_ANTN\\ML\\DA\\Coding\\fga_selection.py:39: DtypeWarning: Columns (27,28,37,38) have mixed types. Specify dtype option on import or set low_memory=False.\n",
      "  df = pd.read_csv(adv_file_path)\n"
     ]
    },
    {
     "name": "stdout",
     "output_type": "stream",
     "text": [
      "⚙️ Thế hệ 11/30\n"
     ]
    },
    {
     "name": "stderr",
     "output_type": "stream",
     "text": [
      "d:\\Nam3_ANTN\\ML\\DA\\Coding\\fga_selection.py:39: DtypeWarning: Columns (27,28,37,38) have mixed types. Specify dtype option on import or set low_memory=False.\n",
      "  df = pd.read_csv(adv_file_path)\n",
      "d:\\Nam3_ANTN\\ML\\DA\\Coding\\fga_selection.py:39: DtypeWarning: Columns (27,28,37,38) have mixed types. Specify dtype option on import or set low_memory=False.\n",
      "  df = pd.read_csv(adv_file_path)\n",
      "d:\\Nam3_ANTN\\ML\\DA\\Coding\\fga_selection.py:39: DtypeWarning: Columns (27,28,37,38) have mixed types. Specify dtype option on import or set low_memory=False.\n",
      "  df = pd.read_csv(adv_file_path)\n",
      "d:\\Nam3_ANTN\\ML\\DA\\Coding\\fga_selection.py:39: DtypeWarning: Columns (27,28,37,38) have mixed types. Specify dtype option on import or set low_memory=False.\n",
      "  df = pd.read_csv(adv_file_path)\n",
      "d:\\Nam3_ANTN\\ML\\DA\\Coding\\fga_selection.py:39: DtypeWarning: Columns (27,28,37,38) have mixed types. Specify dtype option on import or set low_memory=False.\n",
      "  df = pd.read_csv(adv_file_path)\n",
      "d:\\Nam3_ANTN\\ML\\DA\\Coding\\fga_selection.py:39: DtypeWarning: Columns (27,28,37,38) have mixed types. Specify dtype option on import or set low_memory=False.\n",
      "  df = pd.read_csv(adv_file_path)\n",
      "d:\\Nam3_ANTN\\ML\\DA\\Coding\\fga_selection.py:39: DtypeWarning: Columns (27,28,37,38) have mixed types. Specify dtype option on import or set low_memory=False.\n",
      "  df = pd.read_csv(adv_file_path)\n",
      "d:\\Nam3_ANTN\\ML\\DA\\Coding\\fga_selection.py:39: DtypeWarning: Columns (27,28,37,38) have mixed types. Specify dtype option on import or set low_memory=False.\n",
      "  df = pd.read_csv(adv_file_path)\n",
      "d:\\Nam3_ANTN\\ML\\DA\\Coding\\fga_selection.py:39: DtypeWarning: Columns (27,28,37,38) have mixed types. Specify dtype option on import or set low_memory=False.\n",
      "  df = pd.read_csv(adv_file_path)\n",
      "d:\\Nam3_ANTN\\ML\\DA\\Coding\\fga_selection.py:39: DtypeWarning: Columns (27,28,37,38) have mixed types. Specify dtype option on import or set low_memory=False.\n",
      "  df = pd.read_csv(adv_file_path)\n"
     ]
    },
    {
     "name": "stdout",
     "output_type": "stream",
     "text": [
      "⚙️ Thế hệ 12/30\n"
     ]
    },
    {
     "name": "stderr",
     "output_type": "stream",
     "text": [
      "d:\\Nam3_ANTN\\ML\\DA\\Coding\\fga_selection.py:39: DtypeWarning: Columns (27,28,37,38) have mixed types. Specify dtype option on import or set low_memory=False.\n",
      "  df = pd.read_csv(adv_file_path)\n",
      "d:\\Nam3_ANTN\\ML\\DA\\Coding\\fga_selection.py:39: DtypeWarning: Columns (27,28,37,38) have mixed types. Specify dtype option on import or set low_memory=False.\n",
      "  df = pd.read_csv(adv_file_path)\n",
      "d:\\Nam3_ANTN\\ML\\DA\\Coding\\fga_selection.py:39: DtypeWarning: Columns (27,28,37,38) have mixed types. Specify dtype option on import or set low_memory=False.\n",
      "  df = pd.read_csv(adv_file_path)\n",
      "d:\\Nam3_ANTN\\ML\\DA\\Coding\\fga_selection.py:39: DtypeWarning: Columns (27,28,37,38) have mixed types. Specify dtype option on import or set low_memory=False.\n",
      "  df = pd.read_csv(adv_file_path)\n",
      "d:\\Nam3_ANTN\\ML\\DA\\Coding\\fga_selection.py:39: DtypeWarning: Columns (27,28,37,38) have mixed types. Specify dtype option on import or set low_memory=False.\n",
      "  df = pd.read_csv(adv_file_path)\n",
      "d:\\Nam3_ANTN\\ML\\DA\\Coding\\fga_selection.py:39: DtypeWarning: Columns (27,28,37,38) have mixed types. Specify dtype option on import or set low_memory=False.\n",
      "  df = pd.read_csv(adv_file_path)\n",
      "d:\\Nam3_ANTN\\ML\\DA\\Coding\\fga_selection.py:39: DtypeWarning: Columns (27,28,37,38) have mixed types. Specify dtype option on import or set low_memory=False.\n",
      "  df = pd.read_csv(adv_file_path)\n",
      "d:\\Nam3_ANTN\\ML\\DA\\Coding\\fga_selection.py:39: DtypeWarning: Columns (27,28,37,38) have mixed types. Specify dtype option on import or set low_memory=False.\n",
      "  df = pd.read_csv(adv_file_path)\n",
      "d:\\Nam3_ANTN\\ML\\DA\\Coding\\fga_selection.py:39: DtypeWarning: Columns (27,28,37,38) have mixed types. Specify dtype option on import or set low_memory=False.\n",
      "  df = pd.read_csv(adv_file_path)\n",
      "d:\\Nam3_ANTN\\ML\\DA\\Coding\\fga_selection.py:39: DtypeWarning: Columns (27,28,37,38) have mixed types. Specify dtype option on import or set low_memory=False.\n",
      "  df = pd.read_csv(adv_file_path)\n"
     ]
    },
    {
     "name": "stdout",
     "output_type": "stream",
     "text": [
      "⚙️ Thế hệ 13/30\n"
     ]
    },
    {
     "name": "stderr",
     "output_type": "stream",
     "text": [
      "d:\\Nam3_ANTN\\ML\\DA\\Coding\\fga_selection.py:39: DtypeWarning: Columns (27,28,37,38) have mixed types. Specify dtype option on import or set low_memory=False.\n",
      "  df = pd.read_csv(adv_file_path)\n",
      "d:\\Nam3_ANTN\\ML\\DA\\Coding\\fga_selection.py:39: DtypeWarning: Columns (27,28,37,38) have mixed types. Specify dtype option on import or set low_memory=False.\n",
      "  df = pd.read_csv(adv_file_path)\n",
      "d:\\Nam3_ANTN\\ML\\DA\\Coding\\fga_selection.py:39: DtypeWarning: Columns (27,28,37,38) have mixed types. Specify dtype option on import or set low_memory=False.\n",
      "  df = pd.read_csv(adv_file_path)\n",
      "d:\\Nam3_ANTN\\ML\\DA\\Coding\\fga_selection.py:39: DtypeWarning: Columns (27,28,37,38) have mixed types. Specify dtype option on import or set low_memory=False.\n",
      "  df = pd.read_csv(adv_file_path)\n",
      "d:\\Nam3_ANTN\\ML\\DA\\Coding\\fga_selection.py:39: DtypeWarning: Columns (27,28,37,38) have mixed types. Specify dtype option on import or set low_memory=False.\n",
      "  df = pd.read_csv(adv_file_path)\n",
      "d:\\Nam3_ANTN\\ML\\DA\\Coding\\fga_selection.py:39: DtypeWarning: Columns (27,28,37,38) have mixed types. Specify dtype option on import or set low_memory=False.\n",
      "  df = pd.read_csv(adv_file_path)\n",
      "d:\\Nam3_ANTN\\ML\\DA\\Coding\\fga_selection.py:39: DtypeWarning: Columns (27,28,37,38) have mixed types. Specify dtype option on import or set low_memory=False.\n",
      "  df = pd.read_csv(adv_file_path)\n",
      "d:\\Nam3_ANTN\\ML\\DA\\Coding\\fga_selection.py:39: DtypeWarning: Columns (27,28,37,38) have mixed types. Specify dtype option on import or set low_memory=False.\n",
      "  df = pd.read_csv(adv_file_path)\n",
      "d:\\Nam3_ANTN\\ML\\DA\\Coding\\fga_selection.py:39: DtypeWarning: Columns (27,28,37,38) have mixed types. Specify dtype option on import or set low_memory=False.\n",
      "  df = pd.read_csv(adv_file_path)\n",
      "d:\\Nam3_ANTN\\ML\\DA\\Coding\\fga_selection.py:39: DtypeWarning: Columns (27,28,37,38) have mixed types. Specify dtype option on import or set low_memory=False.\n",
      "  df = pd.read_csv(adv_file_path)\n"
     ]
    },
    {
     "name": "stdout",
     "output_type": "stream",
     "text": [
      "⚙️ Thế hệ 14/30\n"
     ]
    },
    {
     "name": "stderr",
     "output_type": "stream",
     "text": [
      "d:\\Nam3_ANTN\\ML\\DA\\Coding\\fga_selection.py:39: DtypeWarning: Columns (27,28,37,38) have mixed types. Specify dtype option on import or set low_memory=False.\n",
      "  df = pd.read_csv(adv_file_path)\n",
      "d:\\Nam3_ANTN\\ML\\DA\\Coding\\fga_selection.py:39: DtypeWarning: Columns (27,28,37,38) have mixed types. Specify dtype option on import or set low_memory=False.\n",
      "  df = pd.read_csv(adv_file_path)\n",
      "d:\\Nam3_ANTN\\ML\\DA\\Coding\\fga_selection.py:39: DtypeWarning: Columns (27,28,37,38) have mixed types. Specify dtype option on import or set low_memory=False.\n",
      "  df = pd.read_csv(adv_file_path)\n",
      "d:\\Nam3_ANTN\\ML\\DA\\Coding\\fga_selection.py:39: DtypeWarning: Columns (27,28,37,38) have mixed types. Specify dtype option on import or set low_memory=False.\n",
      "  df = pd.read_csv(adv_file_path)\n",
      "d:\\Nam3_ANTN\\ML\\DA\\Coding\\fga_selection.py:39: DtypeWarning: Columns (27,28,37,38) have mixed types. Specify dtype option on import or set low_memory=False.\n",
      "  df = pd.read_csv(adv_file_path)\n",
      "d:\\Nam3_ANTN\\ML\\DA\\Coding\\fga_selection.py:39: DtypeWarning: Columns (27,28,37,38) have mixed types. Specify dtype option on import or set low_memory=False.\n",
      "  df = pd.read_csv(adv_file_path)\n",
      "d:\\Nam3_ANTN\\ML\\DA\\Coding\\fga_selection.py:39: DtypeWarning: Columns (27,28,37,38) have mixed types. Specify dtype option on import or set low_memory=False.\n",
      "  df = pd.read_csv(adv_file_path)\n",
      "d:\\Nam3_ANTN\\ML\\DA\\Coding\\fga_selection.py:39: DtypeWarning: Columns (27,28,37,38) have mixed types. Specify dtype option on import or set low_memory=False.\n",
      "  df = pd.read_csv(adv_file_path)\n",
      "d:\\Nam3_ANTN\\ML\\DA\\Coding\\fga_selection.py:39: DtypeWarning: Columns (27,28,37,38) have mixed types. Specify dtype option on import or set low_memory=False.\n",
      "  df = pd.read_csv(adv_file_path)\n",
      "d:\\Nam3_ANTN\\ML\\DA\\Coding\\fga_selection.py:39: DtypeWarning: Columns (27,28,37,38) have mixed types. Specify dtype option on import or set low_memory=False.\n",
      "  df = pd.read_csv(adv_file_path)\n"
     ]
    },
    {
     "name": "stdout",
     "output_type": "stream",
     "text": [
      "⚙️ Thế hệ 15/30\n"
     ]
    },
    {
     "name": "stderr",
     "output_type": "stream",
     "text": [
      "d:\\Nam3_ANTN\\ML\\DA\\Coding\\fga_selection.py:39: DtypeWarning: Columns (27,28,37,38) have mixed types. Specify dtype option on import or set low_memory=False.\n",
      "  df = pd.read_csv(adv_file_path)\n",
      "d:\\Nam3_ANTN\\ML\\DA\\Coding\\fga_selection.py:39: DtypeWarning: Columns (27,28,37,38) have mixed types. Specify dtype option on import or set low_memory=False.\n",
      "  df = pd.read_csv(adv_file_path)\n",
      "d:\\Nam3_ANTN\\ML\\DA\\Coding\\fga_selection.py:39: DtypeWarning: Columns (27,28,37,38) have mixed types. Specify dtype option on import or set low_memory=False.\n",
      "  df = pd.read_csv(adv_file_path)\n",
      "d:\\Nam3_ANTN\\ML\\DA\\Coding\\fga_selection.py:39: DtypeWarning: Columns (27,28,37,38) have mixed types. Specify dtype option on import or set low_memory=False.\n",
      "  df = pd.read_csv(adv_file_path)\n",
      "d:\\Nam3_ANTN\\ML\\DA\\Coding\\fga_selection.py:39: DtypeWarning: Columns (27,28,37,38) have mixed types. Specify dtype option on import or set low_memory=False.\n",
      "  df = pd.read_csv(adv_file_path)\n",
      "d:\\Nam3_ANTN\\ML\\DA\\Coding\\fga_selection.py:39: DtypeWarning: Columns (27,28,37,38) have mixed types. Specify dtype option on import or set low_memory=False.\n",
      "  df = pd.read_csv(adv_file_path)\n",
      "d:\\Nam3_ANTN\\ML\\DA\\Coding\\fga_selection.py:39: DtypeWarning: Columns (27,28,37,38) have mixed types. Specify dtype option on import or set low_memory=False.\n",
      "  df = pd.read_csv(adv_file_path)\n",
      "d:\\Nam3_ANTN\\ML\\DA\\Coding\\fga_selection.py:39: DtypeWarning: Columns (27,28,37,38) have mixed types. Specify dtype option on import or set low_memory=False.\n",
      "  df = pd.read_csv(adv_file_path)\n",
      "d:\\Nam3_ANTN\\ML\\DA\\Coding\\fga_selection.py:39: DtypeWarning: Columns (27,28,37,38) have mixed types. Specify dtype option on import or set low_memory=False.\n",
      "  df = pd.read_csv(adv_file_path)\n",
      "d:\\Nam3_ANTN\\ML\\DA\\Coding\\fga_selection.py:39: DtypeWarning: Columns (27,28,37,38) have mixed types. Specify dtype option on import or set low_memory=False.\n",
      "  df = pd.read_csv(adv_file_path)\n"
     ]
    },
    {
     "name": "stdout",
     "output_type": "stream",
     "text": [
      "⚙️ Thế hệ 16/30\n"
     ]
    },
    {
     "name": "stderr",
     "output_type": "stream",
     "text": [
      "d:\\Nam3_ANTN\\ML\\DA\\Coding\\fga_selection.py:39: DtypeWarning: Columns (27,28,37,38) have mixed types. Specify dtype option on import or set low_memory=False.\n",
      "  df = pd.read_csv(adv_file_path)\n",
      "d:\\Nam3_ANTN\\ML\\DA\\Coding\\fga_selection.py:39: DtypeWarning: Columns (27,28,37,38) have mixed types. Specify dtype option on import or set low_memory=False.\n",
      "  df = pd.read_csv(adv_file_path)\n",
      "d:\\Nam3_ANTN\\ML\\DA\\Coding\\fga_selection.py:39: DtypeWarning: Columns (27,28,37,38) have mixed types. Specify dtype option on import or set low_memory=False.\n",
      "  df = pd.read_csv(adv_file_path)\n",
      "d:\\Nam3_ANTN\\ML\\DA\\Coding\\fga_selection.py:39: DtypeWarning: Columns (27,28,37,38) have mixed types. Specify dtype option on import or set low_memory=False.\n",
      "  df = pd.read_csv(adv_file_path)\n",
      "d:\\Nam3_ANTN\\ML\\DA\\Coding\\fga_selection.py:39: DtypeWarning: Columns (27,28,37,38) have mixed types. Specify dtype option on import or set low_memory=False.\n",
      "  df = pd.read_csv(adv_file_path)\n",
      "d:\\Nam3_ANTN\\ML\\DA\\Coding\\fga_selection.py:39: DtypeWarning: Columns (27,28,37,38) have mixed types. Specify dtype option on import or set low_memory=False.\n",
      "  df = pd.read_csv(adv_file_path)\n",
      "d:\\Nam3_ANTN\\ML\\DA\\Coding\\fga_selection.py:39: DtypeWarning: Columns (27,28,37,38) have mixed types. Specify dtype option on import or set low_memory=False.\n",
      "  df = pd.read_csv(adv_file_path)\n",
      "d:\\Nam3_ANTN\\ML\\DA\\Coding\\fga_selection.py:39: DtypeWarning: Columns (27,28,37,38) have mixed types. Specify dtype option on import or set low_memory=False.\n",
      "  df = pd.read_csv(adv_file_path)\n",
      "d:\\Nam3_ANTN\\ML\\DA\\Coding\\fga_selection.py:39: DtypeWarning: Columns (27,28,37,38) have mixed types. Specify dtype option on import or set low_memory=False.\n",
      "  df = pd.read_csv(adv_file_path)\n",
      "d:\\Nam3_ANTN\\ML\\DA\\Coding\\fga_selection.py:39: DtypeWarning: Columns (27,28,37,38) have mixed types. Specify dtype option on import or set low_memory=False.\n",
      "  df = pd.read_csv(adv_file_path)\n"
     ]
    },
    {
     "name": "stdout",
     "output_type": "stream",
     "text": [
      "⚙️ Thế hệ 17/30\n"
     ]
    },
    {
     "name": "stderr",
     "output_type": "stream",
     "text": [
      "d:\\Nam3_ANTN\\ML\\DA\\Coding\\fga_selection.py:39: DtypeWarning: Columns (27,28,37,38) have mixed types. Specify dtype option on import or set low_memory=False.\n",
      "  df = pd.read_csv(adv_file_path)\n",
      "d:\\Nam3_ANTN\\ML\\DA\\Coding\\fga_selection.py:39: DtypeWarning: Columns (27,28,37,38) have mixed types. Specify dtype option on import or set low_memory=False.\n",
      "  df = pd.read_csv(adv_file_path)\n",
      "d:\\Nam3_ANTN\\ML\\DA\\Coding\\fga_selection.py:39: DtypeWarning: Columns (27,28,37,38) have mixed types. Specify dtype option on import or set low_memory=False.\n",
      "  df = pd.read_csv(adv_file_path)\n",
      "d:\\Nam3_ANTN\\ML\\DA\\Coding\\fga_selection.py:39: DtypeWarning: Columns (27,28,37,38) have mixed types. Specify dtype option on import or set low_memory=False.\n",
      "  df = pd.read_csv(adv_file_path)\n",
      "d:\\Nam3_ANTN\\ML\\DA\\Coding\\fga_selection.py:39: DtypeWarning: Columns (27,28,37,38) have mixed types. Specify dtype option on import or set low_memory=False.\n",
      "  df = pd.read_csv(adv_file_path)\n",
      "d:\\Nam3_ANTN\\ML\\DA\\Coding\\fga_selection.py:39: DtypeWarning: Columns (27,28,37,38) have mixed types. Specify dtype option on import or set low_memory=False.\n",
      "  df = pd.read_csv(adv_file_path)\n",
      "d:\\Nam3_ANTN\\ML\\DA\\Coding\\fga_selection.py:39: DtypeWarning: Columns (27,28,37,38) have mixed types. Specify dtype option on import or set low_memory=False.\n",
      "  df = pd.read_csv(adv_file_path)\n",
      "d:\\Nam3_ANTN\\ML\\DA\\Coding\\fga_selection.py:39: DtypeWarning: Columns (27,28,37,38) have mixed types. Specify dtype option on import or set low_memory=False.\n",
      "  df = pd.read_csv(adv_file_path)\n",
      "d:\\Nam3_ANTN\\ML\\DA\\Coding\\fga_selection.py:39: DtypeWarning: Columns (27,28,37,38) have mixed types. Specify dtype option on import or set low_memory=False.\n",
      "  df = pd.read_csv(adv_file_path)\n",
      "d:\\Nam3_ANTN\\ML\\DA\\Coding\\fga_selection.py:39: DtypeWarning: Columns (27,28,37,38) have mixed types. Specify dtype option on import or set low_memory=False.\n",
      "  df = pd.read_csv(adv_file_path)\n"
     ]
    },
    {
     "name": "stdout",
     "output_type": "stream",
     "text": [
      "⚙️ Thế hệ 18/30\n"
     ]
    },
    {
     "name": "stderr",
     "output_type": "stream",
     "text": [
      "d:\\Nam3_ANTN\\ML\\DA\\Coding\\fga_selection.py:39: DtypeWarning: Columns (27,28,37,38) have mixed types. Specify dtype option on import or set low_memory=False.\n",
      "  df = pd.read_csv(adv_file_path)\n",
      "d:\\Nam3_ANTN\\ML\\DA\\Coding\\fga_selection.py:39: DtypeWarning: Columns (27,28,37,38) have mixed types. Specify dtype option on import or set low_memory=False.\n",
      "  df = pd.read_csv(adv_file_path)\n",
      "d:\\Nam3_ANTN\\ML\\DA\\Coding\\fga_selection.py:39: DtypeWarning: Columns (27,28,37,38) have mixed types. Specify dtype option on import or set low_memory=False.\n",
      "  df = pd.read_csv(adv_file_path)\n",
      "d:\\Nam3_ANTN\\ML\\DA\\Coding\\fga_selection.py:39: DtypeWarning: Columns (27,28,37,38) have mixed types. Specify dtype option on import or set low_memory=False.\n",
      "  df = pd.read_csv(adv_file_path)\n",
      "d:\\Nam3_ANTN\\ML\\DA\\Coding\\fga_selection.py:39: DtypeWarning: Columns (27,28,37,38) have mixed types. Specify dtype option on import or set low_memory=False.\n",
      "  df = pd.read_csv(adv_file_path)\n",
      "d:\\Nam3_ANTN\\ML\\DA\\Coding\\fga_selection.py:39: DtypeWarning: Columns (27,28,37,38) have mixed types. Specify dtype option on import or set low_memory=False.\n",
      "  df = pd.read_csv(adv_file_path)\n",
      "d:\\Nam3_ANTN\\ML\\DA\\Coding\\fga_selection.py:39: DtypeWarning: Columns (27,28,37,38) have mixed types. Specify dtype option on import or set low_memory=False.\n",
      "  df = pd.read_csv(adv_file_path)\n",
      "d:\\Nam3_ANTN\\ML\\DA\\Coding\\fga_selection.py:39: DtypeWarning: Columns (27,28,37,38) have mixed types. Specify dtype option on import or set low_memory=False.\n",
      "  df = pd.read_csv(adv_file_path)\n",
      "d:\\Nam3_ANTN\\ML\\DA\\Coding\\fga_selection.py:39: DtypeWarning: Columns (27,28,37,38) have mixed types. Specify dtype option on import or set low_memory=False.\n",
      "  df = pd.read_csv(adv_file_path)\n",
      "d:\\Nam3_ANTN\\ML\\DA\\Coding\\fga_selection.py:39: DtypeWarning: Columns (27,28,37,38) have mixed types. Specify dtype option on import or set low_memory=False.\n",
      "  df = pd.read_csv(adv_file_path)\n"
     ]
    },
    {
     "name": "stdout",
     "output_type": "stream",
     "text": [
      "⚙️ Thế hệ 19/30\n"
     ]
    },
    {
     "name": "stderr",
     "output_type": "stream",
     "text": [
      "d:\\Nam3_ANTN\\ML\\DA\\Coding\\fga_selection.py:39: DtypeWarning: Columns (27,28,37,38) have mixed types. Specify dtype option on import or set low_memory=False.\n",
      "  df = pd.read_csv(adv_file_path)\n",
      "d:\\Nam3_ANTN\\ML\\DA\\Coding\\fga_selection.py:39: DtypeWarning: Columns (27,28,37,38) have mixed types. Specify dtype option on import or set low_memory=False.\n",
      "  df = pd.read_csv(adv_file_path)\n",
      "d:\\Nam3_ANTN\\ML\\DA\\Coding\\fga_selection.py:39: DtypeWarning: Columns (27,28,37,38) have mixed types. Specify dtype option on import or set low_memory=False.\n",
      "  df = pd.read_csv(adv_file_path)\n",
      "d:\\Nam3_ANTN\\ML\\DA\\Coding\\fga_selection.py:39: DtypeWarning: Columns (27,28,37,38) have mixed types. Specify dtype option on import or set low_memory=False.\n",
      "  df = pd.read_csv(adv_file_path)\n",
      "d:\\Nam3_ANTN\\ML\\DA\\Coding\\fga_selection.py:39: DtypeWarning: Columns (27,28,37,38) have mixed types. Specify dtype option on import or set low_memory=False.\n",
      "  df = pd.read_csv(adv_file_path)\n",
      "d:\\Nam3_ANTN\\ML\\DA\\Coding\\fga_selection.py:39: DtypeWarning: Columns (27,28,37,38) have mixed types. Specify dtype option on import or set low_memory=False.\n",
      "  df = pd.read_csv(adv_file_path)\n",
      "d:\\Nam3_ANTN\\ML\\DA\\Coding\\fga_selection.py:39: DtypeWarning: Columns (27,28,37,38) have mixed types. Specify dtype option on import or set low_memory=False.\n",
      "  df = pd.read_csv(adv_file_path)\n",
      "d:\\Nam3_ANTN\\ML\\DA\\Coding\\fga_selection.py:39: DtypeWarning: Columns (27,28,37,38) have mixed types. Specify dtype option on import or set low_memory=False.\n",
      "  df = pd.read_csv(adv_file_path)\n",
      "d:\\Nam3_ANTN\\ML\\DA\\Coding\\fga_selection.py:39: DtypeWarning: Columns (27,28,37,38) have mixed types. Specify dtype option on import or set low_memory=False.\n",
      "  df = pd.read_csv(adv_file_path)\n",
      "d:\\Nam3_ANTN\\ML\\DA\\Coding\\fga_selection.py:39: DtypeWarning: Columns (27,28,37,38) have mixed types. Specify dtype option on import or set low_memory=False.\n",
      "  df = pd.read_csv(adv_file_path)\n"
     ]
    },
    {
     "name": "stdout",
     "output_type": "stream",
     "text": [
      "⚙️ Thế hệ 20/30\n"
     ]
    },
    {
     "name": "stderr",
     "output_type": "stream",
     "text": [
      "d:\\Nam3_ANTN\\ML\\DA\\Coding\\fga_selection.py:39: DtypeWarning: Columns (27,28,37,38) have mixed types. Specify dtype option on import or set low_memory=False.\n",
      "  df = pd.read_csv(adv_file_path)\n",
      "d:\\Nam3_ANTN\\ML\\DA\\Coding\\fga_selection.py:39: DtypeWarning: Columns (27,28,37,38) have mixed types. Specify dtype option on import or set low_memory=False.\n",
      "  df = pd.read_csv(adv_file_path)\n",
      "d:\\Nam3_ANTN\\ML\\DA\\Coding\\fga_selection.py:39: DtypeWarning: Columns (27,28,37,38) have mixed types. Specify dtype option on import or set low_memory=False.\n",
      "  df = pd.read_csv(adv_file_path)\n",
      "d:\\Nam3_ANTN\\ML\\DA\\Coding\\fga_selection.py:39: DtypeWarning: Columns (27,28,37,38) have mixed types. Specify dtype option on import or set low_memory=False.\n",
      "  df = pd.read_csv(adv_file_path)\n",
      "d:\\Nam3_ANTN\\ML\\DA\\Coding\\fga_selection.py:39: DtypeWarning: Columns (27,28,37,38) have mixed types. Specify dtype option on import or set low_memory=False.\n",
      "  df = pd.read_csv(adv_file_path)\n",
      "d:\\Nam3_ANTN\\ML\\DA\\Coding\\fga_selection.py:39: DtypeWarning: Columns (27,28,37,38) have mixed types. Specify dtype option on import or set low_memory=False.\n",
      "  df = pd.read_csv(adv_file_path)\n",
      "d:\\Nam3_ANTN\\ML\\DA\\Coding\\fga_selection.py:39: DtypeWarning: Columns (27,28,37,38) have mixed types. Specify dtype option on import or set low_memory=False.\n",
      "  df = pd.read_csv(adv_file_path)\n",
      "d:\\Nam3_ANTN\\ML\\DA\\Coding\\fga_selection.py:39: DtypeWarning: Columns (27,28,37,38) have mixed types. Specify dtype option on import or set low_memory=False.\n",
      "  df = pd.read_csv(adv_file_path)\n",
      "d:\\Nam3_ANTN\\ML\\DA\\Coding\\fga_selection.py:39: DtypeWarning: Columns (27,28,37,38) have mixed types. Specify dtype option on import or set low_memory=False.\n",
      "  df = pd.read_csv(adv_file_path)\n",
      "d:\\Nam3_ANTN\\ML\\DA\\Coding\\fga_selection.py:39: DtypeWarning: Columns (27,28,37,38) have mixed types. Specify dtype option on import or set low_memory=False.\n",
      "  df = pd.read_csv(adv_file_path)\n"
     ]
    },
    {
     "name": "stdout",
     "output_type": "stream",
     "text": [
      "⚙️ Thế hệ 21/30\n"
     ]
    },
    {
     "name": "stderr",
     "output_type": "stream",
     "text": [
      "d:\\Nam3_ANTN\\ML\\DA\\Coding\\fga_selection.py:39: DtypeWarning: Columns (27,28,37,38) have mixed types. Specify dtype option on import or set low_memory=False.\n",
      "  df = pd.read_csv(adv_file_path)\n",
      "d:\\Nam3_ANTN\\ML\\DA\\Coding\\fga_selection.py:39: DtypeWarning: Columns (27,28,37,38) have mixed types. Specify dtype option on import or set low_memory=False.\n",
      "  df = pd.read_csv(adv_file_path)\n",
      "d:\\Nam3_ANTN\\ML\\DA\\Coding\\fga_selection.py:39: DtypeWarning: Columns (27,28,37,38) have mixed types. Specify dtype option on import or set low_memory=False.\n",
      "  df = pd.read_csv(adv_file_path)\n",
      "d:\\Nam3_ANTN\\ML\\DA\\Coding\\fga_selection.py:39: DtypeWarning: Columns (27,28,37,38) have mixed types. Specify dtype option on import or set low_memory=False.\n",
      "  df = pd.read_csv(adv_file_path)\n",
      "d:\\Nam3_ANTN\\ML\\DA\\Coding\\fga_selection.py:39: DtypeWarning: Columns (27,28,37,38) have mixed types. Specify dtype option on import or set low_memory=False.\n",
      "  df = pd.read_csv(adv_file_path)\n",
      "d:\\Nam3_ANTN\\ML\\DA\\Coding\\fga_selection.py:39: DtypeWarning: Columns (27,28,37,38) have mixed types. Specify dtype option on import or set low_memory=False.\n",
      "  df = pd.read_csv(adv_file_path)\n",
      "d:\\Nam3_ANTN\\ML\\DA\\Coding\\fga_selection.py:39: DtypeWarning: Columns (27,28,37,38) have mixed types. Specify dtype option on import or set low_memory=False.\n",
      "  df = pd.read_csv(adv_file_path)\n",
      "d:\\Nam3_ANTN\\ML\\DA\\Coding\\fga_selection.py:39: DtypeWarning: Columns (27,28,37,38) have mixed types. Specify dtype option on import or set low_memory=False.\n",
      "  df = pd.read_csv(adv_file_path)\n",
      "d:\\Nam3_ANTN\\ML\\DA\\Coding\\fga_selection.py:39: DtypeWarning: Columns (27,28,37,38) have mixed types. Specify dtype option on import or set low_memory=False.\n",
      "  df = pd.read_csv(adv_file_path)\n",
      "d:\\Nam3_ANTN\\ML\\DA\\Coding\\fga_selection.py:39: DtypeWarning: Columns (27,28,37,38) have mixed types. Specify dtype option on import or set low_memory=False.\n",
      "  df = pd.read_csv(adv_file_path)\n"
     ]
    },
    {
     "name": "stdout",
     "output_type": "stream",
     "text": [
      "⚙️ Thế hệ 22/30\n"
     ]
    },
    {
     "name": "stderr",
     "output_type": "stream",
     "text": [
      "d:\\Nam3_ANTN\\ML\\DA\\Coding\\fga_selection.py:39: DtypeWarning: Columns (27,28,37,38) have mixed types. Specify dtype option on import or set low_memory=False.\n",
      "  df = pd.read_csv(adv_file_path)\n",
      "d:\\Nam3_ANTN\\ML\\DA\\Coding\\fga_selection.py:39: DtypeWarning: Columns (27,28,37,38) have mixed types. Specify dtype option on import or set low_memory=False.\n",
      "  df = pd.read_csv(adv_file_path)\n",
      "d:\\Nam3_ANTN\\ML\\DA\\Coding\\fga_selection.py:39: DtypeWarning: Columns (27,28,37,38) have mixed types. Specify dtype option on import or set low_memory=False.\n",
      "  df = pd.read_csv(adv_file_path)\n",
      "d:\\Nam3_ANTN\\ML\\DA\\Coding\\fga_selection.py:39: DtypeWarning: Columns (27,28,37,38) have mixed types. Specify dtype option on import or set low_memory=False.\n",
      "  df = pd.read_csv(adv_file_path)\n",
      "d:\\Nam3_ANTN\\ML\\DA\\Coding\\fga_selection.py:39: DtypeWarning: Columns (27,28,37,38) have mixed types. Specify dtype option on import or set low_memory=False.\n",
      "  df = pd.read_csv(adv_file_path)\n",
      "d:\\Nam3_ANTN\\ML\\DA\\Coding\\fga_selection.py:39: DtypeWarning: Columns (27,28,37,38) have mixed types. Specify dtype option on import or set low_memory=False.\n",
      "  df = pd.read_csv(adv_file_path)\n",
      "d:\\Nam3_ANTN\\ML\\DA\\Coding\\fga_selection.py:39: DtypeWarning: Columns (27,28,37,38) have mixed types. Specify dtype option on import or set low_memory=False.\n",
      "  df = pd.read_csv(adv_file_path)\n",
      "d:\\Nam3_ANTN\\ML\\DA\\Coding\\fga_selection.py:39: DtypeWarning: Columns (27,28,37,38) have mixed types. Specify dtype option on import or set low_memory=False.\n",
      "  df = pd.read_csv(adv_file_path)\n",
      "d:\\Nam3_ANTN\\ML\\DA\\Coding\\fga_selection.py:39: DtypeWarning: Columns (27,28,37,38) have mixed types. Specify dtype option on import or set low_memory=False.\n",
      "  df = pd.read_csv(adv_file_path)\n",
      "d:\\Nam3_ANTN\\ML\\DA\\Coding\\fga_selection.py:39: DtypeWarning: Columns (27,28,37,38) have mixed types. Specify dtype option on import or set low_memory=False.\n",
      "  df = pd.read_csv(adv_file_path)\n"
     ]
    },
    {
     "name": "stdout",
     "output_type": "stream",
     "text": [
      "⚙️ Thế hệ 23/30\n"
     ]
    },
    {
     "name": "stderr",
     "output_type": "stream",
     "text": [
      "d:\\Nam3_ANTN\\ML\\DA\\Coding\\fga_selection.py:39: DtypeWarning: Columns (27,28,37,38) have mixed types. Specify dtype option on import or set low_memory=False.\n",
      "  df = pd.read_csv(adv_file_path)\n",
      "d:\\Nam3_ANTN\\ML\\DA\\Coding\\fga_selection.py:39: DtypeWarning: Columns (27,28,37,38) have mixed types. Specify dtype option on import or set low_memory=False.\n",
      "  df = pd.read_csv(adv_file_path)\n",
      "d:\\Nam3_ANTN\\ML\\DA\\Coding\\fga_selection.py:39: DtypeWarning: Columns (27,28,37,38) have mixed types. Specify dtype option on import or set low_memory=False.\n",
      "  df = pd.read_csv(adv_file_path)\n",
      "d:\\Nam3_ANTN\\ML\\DA\\Coding\\fga_selection.py:39: DtypeWarning: Columns (27,28,37,38) have mixed types. Specify dtype option on import or set low_memory=False.\n",
      "  df = pd.read_csv(adv_file_path)\n",
      "d:\\Nam3_ANTN\\ML\\DA\\Coding\\fga_selection.py:39: DtypeWarning: Columns (27,28,37,38) have mixed types. Specify dtype option on import or set low_memory=False.\n",
      "  df = pd.read_csv(adv_file_path)\n",
      "d:\\Nam3_ANTN\\ML\\DA\\Coding\\fga_selection.py:39: DtypeWarning: Columns (27,28,37,38) have mixed types. Specify dtype option on import or set low_memory=False.\n",
      "  df = pd.read_csv(adv_file_path)\n",
      "d:\\Nam3_ANTN\\ML\\DA\\Coding\\fga_selection.py:39: DtypeWarning: Columns (27,28,37,38) have mixed types. Specify dtype option on import or set low_memory=False.\n",
      "  df = pd.read_csv(adv_file_path)\n",
      "d:\\Nam3_ANTN\\ML\\DA\\Coding\\fga_selection.py:39: DtypeWarning: Columns (27,28,37,38) have mixed types. Specify dtype option on import or set low_memory=False.\n",
      "  df = pd.read_csv(adv_file_path)\n",
      "d:\\Nam3_ANTN\\ML\\DA\\Coding\\fga_selection.py:39: DtypeWarning: Columns (27,28,37,38) have mixed types. Specify dtype option on import or set low_memory=False.\n",
      "  df = pd.read_csv(adv_file_path)\n",
      "d:\\Nam3_ANTN\\ML\\DA\\Coding\\fga_selection.py:39: DtypeWarning: Columns (27,28,37,38) have mixed types. Specify dtype option on import or set low_memory=False.\n",
      "  df = pd.read_csv(adv_file_path)\n"
     ]
    },
    {
     "name": "stdout",
     "output_type": "stream",
     "text": [
      "⚙️ Thế hệ 24/30\n"
     ]
    },
    {
     "name": "stderr",
     "output_type": "stream",
     "text": [
      "d:\\Nam3_ANTN\\ML\\DA\\Coding\\fga_selection.py:39: DtypeWarning: Columns (27,28,37,38) have mixed types. Specify dtype option on import or set low_memory=False.\n",
      "  df = pd.read_csv(adv_file_path)\n",
      "d:\\Nam3_ANTN\\ML\\DA\\Coding\\fga_selection.py:39: DtypeWarning: Columns (27,28,37,38) have mixed types. Specify dtype option on import or set low_memory=False.\n",
      "  df = pd.read_csv(adv_file_path)\n",
      "d:\\Nam3_ANTN\\ML\\DA\\Coding\\fga_selection.py:39: DtypeWarning: Columns (27,28,37,38) have mixed types. Specify dtype option on import or set low_memory=False.\n",
      "  df = pd.read_csv(adv_file_path)\n",
      "d:\\Nam3_ANTN\\ML\\DA\\Coding\\fga_selection.py:39: DtypeWarning: Columns (27,28,37,38) have mixed types. Specify dtype option on import or set low_memory=False.\n",
      "  df = pd.read_csv(adv_file_path)\n",
      "d:\\Nam3_ANTN\\ML\\DA\\Coding\\fga_selection.py:39: DtypeWarning: Columns (27,28,37,38) have mixed types. Specify dtype option on import or set low_memory=False.\n",
      "  df = pd.read_csv(adv_file_path)\n",
      "d:\\Nam3_ANTN\\ML\\DA\\Coding\\fga_selection.py:39: DtypeWarning: Columns (27,28,37,38) have mixed types. Specify dtype option on import or set low_memory=False.\n",
      "  df = pd.read_csv(adv_file_path)\n",
      "d:\\Nam3_ANTN\\ML\\DA\\Coding\\fga_selection.py:39: DtypeWarning: Columns (27,28,37,38) have mixed types. Specify dtype option on import or set low_memory=False.\n",
      "  df = pd.read_csv(adv_file_path)\n",
      "d:\\Nam3_ANTN\\ML\\DA\\Coding\\fga_selection.py:39: DtypeWarning: Columns (27,28,37,38) have mixed types. Specify dtype option on import or set low_memory=False.\n",
      "  df = pd.read_csv(adv_file_path)\n",
      "d:\\Nam3_ANTN\\ML\\DA\\Coding\\fga_selection.py:39: DtypeWarning: Columns (27,28,37,38) have mixed types. Specify dtype option on import or set low_memory=False.\n",
      "  df = pd.read_csv(adv_file_path)\n",
      "d:\\Nam3_ANTN\\ML\\DA\\Coding\\fga_selection.py:39: DtypeWarning: Columns (27,28,37,38) have mixed types. Specify dtype option on import or set low_memory=False.\n",
      "  df = pd.read_csv(adv_file_path)\n"
     ]
    },
    {
     "name": "stdout",
     "output_type": "stream",
     "text": [
      "⚙️ Thế hệ 25/30\n"
     ]
    },
    {
     "name": "stderr",
     "output_type": "stream",
     "text": [
      "d:\\Nam3_ANTN\\ML\\DA\\Coding\\fga_selection.py:39: DtypeWarning: Columns (27,28,37,38) have mixed types. Specify dtype option on import or set low_memory=False.\n",
      "  df = pd.read_csv(adv_file_path)\n",
      "d:\\Nam3_ANTN\\ML\\DA\\Coding\\fga_selection.py:39: DtypeWarning: Columns (27,28,37,38) have mixed types. Specify dtype option on import or set low_memory=False.\n",
      "  df = pd.read_csv(adv_file_path)\n",
      "d:\\Nam3_ANTN\\ML\\DA\\Coding\\fga_selection.py:39: DtypeWarning: Columns (27,28,37,38) have mixed types. Specify dtype option on import or set low_memory=False.\n",
      "  df = pd.read_csv(adv_file_path)\n",
      "d:\\Nam3_ANTN\\ML\\DA\\Coding\\fga_selection.py:39: DtypeWarning: Columns (27,28,37,38) have mixed types. Specify dtype option on import or set low_memory=False.\n",
      "  df = pd.read_csv(adv_file_path)\n",
      "d:\\Nam3_ANTN\\ML\\DA\\Coding\\fga_selection.py:39: DtypeWarning: Columns (27,28,37,38) have mixed types. Specify dtype option on import or set low_memory=False.\n",
      "  df = pd.read_csv(adv_file_path)\n",
      "d:\\Nam3_ANTN\\ML\\DA\\Coding\\fga_selection.py:39: DtypeWarning: Columns (27,28,37,38) have mixed types. Specify dtype option on import or set low_memory=False.\n",
      "  df = pd.read_csv(adv_file_path)\n",
      "d:\\Nam3_ANTN\\ML\\DA\\Coding\\fga_selection.py:39: DtypeWarning: Columns (27,28,37,38) have mixed types. Specify dtype option on import or set low_memory=False.\n",
      "  df = pd.read_csv(adv_file_path)\n",
      "d:\\Nam3_ANTN\\ML\\DA\\Coding\\fga_selection.py:39: DtypeWarning: Columns (27,28,37,38) have mixed types. Specify dtype option on import or set low_memory=False.\n",
      "  df = pd.read_csv(adv_file_path)\n",
      "d:\\Nam3_ANTN\\ML\\DA\\Coding\\fga_selection.py:39: DtypeWarning: Columns (27,28,37,38) have mixed types. Specify dtype option on import or set low_memory=False.\n",
      "  df = pd.read_csv(adv_file_path)\n",
      "d:\\Nam3_ANTN\\ML\\DA\\Coding\\fga_selection.py:39: DtypeWarning: Columns (27,28,37,38) have mixed types. Specify dtype option on import or set low_memory=False.\n",
      "  df = pd.read_csv(adv_file_path)\n"
     ]
    },
    {
     "name": "stdout",
     "output_type": "stream",
     "text": [
      "⚙️ Thế hệ 26/30\n"
     ]
    },
    {
     "name": "stderr",
     "output_type": "stream",
     "text": [
      "d:\\Nam3_ANTN\\ML\\DA\\Coding\\fga_selection.py:39: DtypeWarning: Columns (27,28,37,38) have mixed types. Specify dtype option on import or set low_memory=False.\n",
      "  df = pd.read_csv(adv_file_path)\n",
      "d:\\Nam3_ANTN\\ML\\DA\\Coding\\fga_selection.py:39: DtypeWarning: Columns (27,28,37,38) have mixed types. Specify dtype option on import or set low_memory=False.\n",
      "  df = pd.read_csv(adv_file_path)\n",
      "d:\\Nam3_ANTN\\ML\\DA\\Coding\\fga_selection.py:39: DtypeWarning: Columns (27,28,37,38) have mixed types. Specify dtype option on import or set low_memory=False.\n",
      "  df = pd.read_csv(adv_file_path)\n",
      "d:\\Nam3_ANTN\\ML\\DA\\Coding\\fga_selection.py:39: DtypeWarning: Columns (27,28,37,38) have mixed types. Specify dtype option on import or set low_memory=False.\n",
      "  df = pd.read_csv(adv_file_path)\n",
      "d:\\Nam3_ANTN\\ML\\DA\\Coding\\fga_selection.py:39: DtypeWarning: Columns (27,28,37,38) have mixed types. Specify dtype option on import or set low_memory=False.\n",
      "  df = pd.read_csv(adv_file_path)\n",
      "d:\\Nam3_ANTN\\ML\\DA\\Coding\\fga_selection.py:39: DtypeWarning: Columns (27,28,37,38) have mixed types. Specify dtype option on import or set low_memory=False.\n",
      "  df = pd.read_csv(adv_file_path)\n",
      "d:\\Nam3_ANTN\\ML\\DA\\Coding\\fga_selection.py:39: DtypeWarning: Columns (27,28,37,38) have mixed types. Specify dtype option on import or set low_memory=False.\n",
      "  df = pd.read_csv(adv_file_path)\n",
      "d:\\Nam3_ANTN\\ML\\DA\\Coding\\fga_selection.py:39: DtypeWarning: Columns (27,28,37,38) have mixed types. Specify dtype option on import or set low_memory=False.\n",
      "  df = pd.read_csv(adv_file_path)\n",
      "d:\\Nam3_ANTN\\ML\\DA\\Coding\\fga_selection.py:39: DtypeWarning: Columns (27,28,37,38) have mixed types. Specify dtype option on import or set low_memory=False.\n",
      "  df = pd.read_csv(adv_file_path)\n",
      "d:\\Nam3_ANTN\\ML\\DA\\Coding\\fga_selection.py:39: DtypeWarning: Columns (27,28,37,38) have mixed types. Specify dtype option on import or set low_memory=False.\n",
      "  df = pd.read_csv(adv_file_path)\n"
     ]
    },
    {
     "name": "stdout",
     "output_type": "stream",
     "text": [
      "⚙️ Thế hệ 27/30\n"
     ]
    },
    {
     "name": "stderr",
     "output_type": "stream",
     "text": [
      "d:\\Nam3_ANTN\\ML\\DA\\Coding\\fga_selection.py:39: DtypeWarning: Columns (27,28,37,38) have mixed types. Specify dtype option on import or set low_memory=False.\n",
      "  df = pd.read_csv(adv_file_path)\n",
      "d:\\Nam3_ANTN\\ML\\DA\\Coding\\fga_selection.py:39: DtypeWarning: Columns (27,28,37,38) have mixed types. Specify dtype option on import or set low_memory=False.\n",
      "  df = pd.read_csv(adv_file_path)\n",
      "d:\\Nam3_ANTN\\ML\\DA\\Coding\\fga_selection.py:39: DtypeWarning: Columns (27,28,37,38) have mixed types. Specify dtype option on import or set low_memory=False.\n",
      "  df = pd.read_csv(adv_file_path)\n",
      "d:\\Nam3_ANTN\\ML\\DA\\Coding\\fga_selection.py:39: DtypeWarning: Columns (27,28,37,38) have mixed types. Specify dtype option on import or set low_memory=False.\n",
      "  df = pd.read_csv(adv_file_path)\n",
      "d:\\Nam3_ANTN\\ML\\DA\\Coding\\fga_selection.py:39: DtypeWarning: Columns (27,28,37,38) have mixed types. Specify dtype option on import or set low_memory=False.\n",
      "  df = pd.read_csv(adv_file_path)\n",
      "d:\\Nam3_ANTN\\ML\\DA\\Coding\\fga_selection.py:39: DtypeWarning: Columns (27,28,37,38) have mixed types. Specify dtype option on import or set low_memory=False.\n",
      "  df = pd.read_csv(adv_file_path)\n",
      "d:\\Nam3_ANTN\\ML\\DA\\Coding\\fga_selection.py:39: DtypeWarning: Columns (27,28,37,38) have mixed types. Specify dtype option on import or set low_memory=False.\n",
      "  df = pd.read_csv(adv_file_path)\n",
      "d:\\Nam3_ANTN\\ML\\DA\\Coding\\fga_selection.py:39: DtypeWarning: Columns (27,28,37,38) have mixed types. Specify dtype option on import or set low_memory=False.\n",
      "  df = pd.read_csv(adv_file_path)\n",
      "d:\\Nam3_ANTN\\ML\\DA\\Coding\\fga_selection.py:39: DtypeWarning: Columns (27,28,37,38) have mixed types. Specify dtype option on import or set low_memory=False.\n",
      "  df = pd.read_csv(adv_file_path)\n",
      "d:\\Nam3_ANTN\\ML\\DA\\Coding\\fga_selection.py:39: DtypeWarning: Columns (27,28,37,38) have mixed types. Specify dtype option on import or set low_memory=False.\n",
      "  df = pd.read_csv(adv_file_path)\n"
     ]
    },
    {
     "name": "stdout",
     "output_type": "stream",
     "text": [
      "⚙️ Thế hệ 28/30\n"
     ]
    },
    {
     "name": "stderr",
     "output_type": "stream",
     "text": [
      "d:\\Nam3_ANTN\\ML\\DA\\Coding\\fga_selection.py:39: DtypeWarning: Columns (27,28,37,38) have mixed types. Specify dtype option on import or set low_memory=False.\n",
      "  df = pd.read_csv(adv_file_path)\n",
      "d:\\Nam3_ANTN\\ML\\DA\\Coding\\fga_selection.py:39: DtypeWarning: Columns (27,28,37,38) have mixed types. Specify dtype option on import or set low_memory=False.\n",
      "  df = pd.read_csv(adv_file_path)\n",
      "d:\\Nam3_ANTN\\ML\\DA\\Coding\\fga_selection.py:39: DtypeWarning: Columns (27,28,37,38) have mixed types. Specify dtype option on import or set low_memory=False.\n",
      "  df = pd.read_csv(adv_file_path)\n",
      "d:\\Nam3_ANTN\\ML\\DA\\Coding\\fga_selection.py:39: DtypeWarning: Columns (27,28,37,38) have mixed types. Specify dtype option on import or set low_memory=False.\n",
      "  df = pd.read_csv(adv_file_path)\n",
      "d:\\Nam3_ANTN\\ML\\DA\\Coding\\fga_selection.py:39: DtypeWarning: Columns (27,28,37,38) have mixed types. Specify dtype option on import or set low_memory=False.\n",
      "  df = pd.read_csv(adv_file_path)\n",
      "d:\\Nam3_ANTN\\ML\\DA\\Coding\\fga_selection.py:39: DtypeWarning: Columns (27,28,37,38) have mixed types. Specify dtype option on import or set low_memory=False.\n",
      "  df = pd.read_csv(adv_file_path)\n",
      "d:\\Nam3_ANTN\\ML\\DA\\Coding\\fga_selection.py:39: DtypeWarning: Columns (27,28,37,38) have mixed types. Specify dtype option on import or set low_memory=False.\n",
      "  df = pd.read_csv(adv_file_path)\n",
      "d:\\Nam3_ANTN\\ML\\DA\\Coding\\fga_selection.py:39: DtypeWarning: Columns (27,28,37,38) have mixed types. Specify dtype option on import or set low_memory=False.\n",
      "  df = pd.read_csv(adv_file_path)\n",
      "d:\\Nam3_ANTN\\ML\\DA\\Coding\\fga_selection.py:39: DtypeWarning: Columns (27,28,37,38) have mixed types. Specify dtype option on import or set low_memory=False.\n",
      "  df = pd.read_csv(adv_file_path)\n",
      "d:\\Nam3_ANTN\\ML\\DA\\Coding\\fga_selection.py:39: DtypeWarning: Columns (27,28,37,38) have mixed types. Specify dtype option on import or set low_memory=False.\n",
      "  df = pd.read_csv(adv_file_path)\n"
     ]
    },
    {
     "name": "stdout",
     "output_type": "stream",
     "text": [
      "⚙️ Thế hệ 29/30\n"
     ]
    },
    {
     "name": "stderr",
     "output_type": "stream",
     "text": [
      "d:\\Nam3_ANTN\\ML\\DA\\Coding\\fga_selection.py:39: DtypeWarning: Columns (27,28,37,38) have mixed types. Specify dtype option on import or set low_memory=False.\n",
      "  df = pd.read_csv(adv_file_path)\n",
      "d:\\Nam3_ANTN\\ML\\DA\\Coding\\fga_selection.py:39: DtypeWarning: Columns (27,28,37,38) have mixed types. Specify dtype option on import or set low_memory=False.\n",
      "  df = pd.read_csv(adv_file_path)\n",
      "d:\\Nam3_ANTN\\ML\\DA\\Coding\\fga_selection.py:39: DtypeWarning: Columns (27,28,37,38) have mixed types. Specify dtype option on import or set low_memory=False.\n",
      "  df = pd.read_csv(adv_file_path)\n",
      "d:\\Nam3_ANTN\\ML\\DA\\Coding\\fga_selection.py:39: DtypeWarning: Columns (27,28,37,38) have mixed types. Specify dtype option on import or set low_memory=False.\n",
      "  df = pd.read_csv(adv_file_path)\n",
      "d:\\Nam3_ANTN\\ML\\DA\\Coding\\fga_selection.py:39: DtypeWarning: Columns (27,28,37,38) have mixed types. Specify dtype option on import or set low_memory=False.\n",
      "  df = pd.read_csv(adv_file_path)\n",
      "d:\\Nam3_ANTN\\ML\\DA\\Coding\\fga_selection.py:39: DtypeWarning: Columns (27,28,37,38) have mixed types. Specify dtype option on import or set low_memory=False.\n",
      "  df = pd.read_csv(adv_file_path)\n",
      "d:\\Nam3_ANTN\\ML\\DA\\Coding\\fga_selection.py:39: DtypeWarning: Columns (27,28,37,38) have mixed types. Specify dtype option on import or set low_memory=False.\n",
      "  df = pd.read_csv(adv_file_path)\n",
      "d:\\Nam3_ANTN\\ML\\DA\\Coding\\fga_selection.py:39: DtypeWarning: Columns (27,28,37,38) have mixed types. Specify dtype option on import or set low_memory=False.\n",
      "  df = pd.read_csv(adv_file_path)\n",
      "d:\\Nam3_ANTN\\ML\\DA\\Coding\\fga_selection.py:39: DtypeWarning: Columns (27,28,37,38) have mixed types. Specify dtype option on import or set low_memory=False.\n",
      "  df = pd.read_csv(adv_file_path)\n",
      "d:\\Nam3_ANTN\\ML\\DA\\Coding\\fga_selection.py:39: DtypeWarning: Columns (27,28,37,38) have mixed types. Specify dtype option on import or set low_memory=False.\n",
      "  df = pd.read_csv(adv_file_path)\n"
     ]
    },
    {
     "name": "stdout",
     "output_type": "stream",
     "text": [
      "⚙️ Thế hệ 30/30\n"
     ]
    },
    {
     "name": "stderr",
     "output_type": "stream",
     "text": [
      "d:\\Nam3_ANTN\\ML\\DA\\Coding\\fga_selection.py:39: DtypeWarning: Columns (27,28,37,38) have mixed types. Specify dtype option on import or set low_memory=False.\n",
      "  df = pd.read_csv(adv_file_path)\n",
      "d:\\Nam3_ANTN\\ML\\DA\\Coding\\fga_selection.py:39: DtypeWarning: Columns (27,28,37,38) have mixed types. Specify dtype option on import or set low_memory=False.\n",
      "  df = pd.read_csv(adv_file_path)\n",
      "d:\\Nam3_ANTN\\ML\\DA\\Coding\\fga_selection.py:39: DtypeWarning: Columns (27,28,37,38) have mixed types. Specify dtype option on import or set low_memory=False.\n",
      "  df = pd.read_csv(adv_file_path)\n",
      "d:\\Nam3_ANTN\\ML\\DA\\Coding\\fga_selection.py:39: DtypeWarning: Columns (27,28,37,38) have mixed types. Specify dtype option on import or set low_memory=False.\n",
      "  df = pd.read_csv(adv_file_path)\n",
      "d:\\Nam3_ANTN\\ML\\DA\\Coding\\fga_selection.py:39: DtypeWarning: Columns (27,28,37,38) have mixed types. Specify dtype option on import or set low_memory=False.\n",
      "  df = pd.read_csv(adv_file_path)\n",
      "d:\\Nam3_ANTN\\ML\\DA\\Coding\\fga_selection.py:39: DtypeWarning: Columns (27,28,37,38) have mixed types. Specify dtype option on import or set low_memory=False.\n",
      "  df = pd.read_csv(adv_file_path)\n",
      "d:\\Nam3_ANTN\\ML\\DA\\Coding\\fga_selection.py:39: DtypeWarning: Columns (27,28,37,38) have mixed types. Specify dtype option on import or set low_memory=False.\n",
      "  df = pd.read_csv(adv_file_path)\n",
      "d:\\Nam3_ANTN\\ML\\DA\\Coding\\fga_selection.py:39: DtypeWarning: Columns (27,28,37,38) have mixed types. Specify dtype option on import or set low_memory=False.\n",
      "  df = pd.read_csv(adv_file_path)\n",
      "d:\\Nam3_ANTN\\ML\\DA\\Coding\\fga_selection.py:39: DtypeWarning: Columns (27,28,37,38) have mixed types. Specify dtype option on import or set low_memory=False.\n",
      "  df = pd.read_csv(adv_file_path)\n",
      "d:\\Nam3_ANTN\\ML\\DA\\Coding\\fga_selection.py:39: DtypeWarning: Columns (27,28,37,38) have mixed types. Specify dtype option on import or set low_memory=False.\n",
      "  df = pd.read_csv(adv_file_path)\n"
     ]
    },
    {
     "name": "stdout",
     "output_type": "stream",
     "text": [
      "🏆 Best adversarial snippet:\n",
      "\n",
      "\tfor (int i = 0\n",
      "\t\tbreak\n",
      "\t}\n",
      "\n",
      "\n"
     ]
    },
    {
     "name": "stderr",
     "output_type": "stream",
     "text": [
      "100%|██████████| 949/949 [00:00<00:00, 67323.96it/s]\n"
     ]
    },
    {
     "name": "stdout",
     "output_type": "stream",
     "text": [
      "File mã độc đã ghi vào: cwe20/adversarial_output_cwe20.csv\n"
     ]
    }
   ],
   "source": [
    "import os\n",
    "import pandas as pd\n",
    "import json\n",
    "import random\n",
    "import numpy as np\n",
    "from fga_selection import *\n",
    "\n",
    "# ========== Tham số ==========\n",
    "K = 3\n",
    "max_generation = 30\n",
    "alpha = 2\n",
    "penalty = 0.01\n",
    "decay_rate = 2\n",
    "insert_position = 15\n",
    "adv_file_path = \"cwe_filtered/CWE_20.csv\"\n",
    "pre_result_path = \"cwe20/predict_linevul_cwe20.txt\"\n",
    "output_path = \"cwe20/adversarial_output_cwe20.csv\"\n",
    "df = pd.read_csv(adv_file_path)\n",
    "\n",
    "# ========== Dữ liệu ban đầu ==========\n",
    "ad_content = pd.read_csv(\"preserved_pool_attack.csv\")[\"NoiDung\"].dropna().astype(str).tolist()\n",
    "label_list = df[\"idx\"].tolist()\n",
    "true_labels = df[\"target\"].tolist()\n",
    "\n",
    "# ========== Đọc kết quả dự đoán ==========\n",
    "with open(pre_result_path, \"r\") as f:\n",
    "    pre_result = {int(line.split(\"\\t\")[0]): int(line.split(\"\\t\")[1].strip()) for line in f if line.strip()}\n",
    "\n",
    "# ========== Lọc mẫu bị đánh nhầm ==========\n",
    "vul_idx = get_vul_idx(label_list, pre_result, true_labels)\n",
    "vul_codes = get_vul_codes(df.to_dict(\"records\"), vul_idx)\n",
    "\n",
    "print(f\"🔍 Có {len(vul_codes)} mã dễ bị tấn công được chọn để sinh mã độc.\")\n",
    "\n",
    "# ========== Fuzzy clustering ==========\n",
    "centroids = centriod_init(K, min_distance=0.1)\n",
    "\n",
    "# ========== Tạo population ban đầu ==========\n",
    "pop_size = 10\n",
    "pop_dict = {}\n",
    "for _ in range(pop_size):\n",
    "    snippet = random.choice(ad_content)\n",
    "    score = get_fitness_score(pre_result_path, adv_file_path, snippet_len=len(snippet), penalty=penalty)\n",
    "    pop_dict[snippet] = score\n",
    "\n",
    "# ========== Tiến hóa ==========\n",
    "for gen in range(max_generation):\n",
    "    print(f\"⚙️ Thế hệ {gen+1}/{max_generation}\")\n",
    "    new_offspring = []\n",
    "    offspring_scores = []\n",
    "\n",
    "    for _ in range(pop_size):\n",
    "        parent_snippet = select(pop_dict, np.mean(list(pop_dict.values())), centroids, decay_rate)\n",
    "        mutated = parent_snippet + \" \" + random.choice(ad_content)\n",
    "        mutated_score = get_fitness_score(pre_result_path, adv_file_path, snippet_len=len(mutated), penalty=penalty)\n",
    "        new_offspring.append(mutated)\n",
    "        offspring_scores.append(mutated_score)\n",
    "\n",
    "    pop_dict = update_global_pop(new_offspring, pop_dict, offspring_scores)\n",
    "\n",
    "# ========== Lấy snippet tốt nhất ==========\n",
    "best_snippet = max(pop_dict, key=pop_dict.get)\n",
    "print(f\"🏆 Best adversarial snippet:\\n{best_snippet}\")\n",
    "\n",
    "# ========== Chèn mã độc vào processed_func ==========\n",
    "vul_rows = df[df[\"idx\"].isin(vul_idx)]\n",
    "vul_codes = dict(zip(vul_rows[\"idx\"], vul_rows[\"processed_func\"]))\n",
    "adv_codes, _ = add_adver_sample_2_ast(vul_codes, insert_position, best_snippet.split())\n",
    "\n",
    "# ========== Ghi lại DataFrame gốc với mã độc đã thay thế ==========\n",
    "df_adv = df.copy()\n",
    "for i, idx in enumerate(vul_rows.index):\n",
    "    df_adv.at[idx, \"processed_func\"] = adv_codes[i]\n",
    "\n",
    "df_adv.to_csv(output_path, index=False)\n",
    "print(f\"File mã độc đã ghi vào: {output_path}\")\n"
   ]
  },
  {
   "cell_type": "code",
   "execution_count": 4,
   "id": "f0e2b75a",
   "metadata": {},
   "outputs": [
    {
     "name": "stdout",
     "output_type": "stream",
     "text": [
      "ASR = 85.985% (816/949)\n"
     ]
    },
    {
     "name": "stderr",
     "output_type": "stream",
     "text": [
      "C:\\Users\\Admin\\AppData\\Local\\Temp\\ipykernel_9400\\2148970734.py:13: DtypeWarning: Columns (27,28,37,38) have mixed types. Specify dtype option on import or set low_memory=False.\n",
      "  df = pd.read_csv(\"cwe20/adversarial_output_cwe20.csv\")\n"
     ]
    }
   ],
   "source": [
    "import pandas as pd\n",
    "from sklearn.metrics import accuracy_score\n",
    "\n",
    "# === Load original prediction và adversarial prediction ===\n",
    "def load_preds(path):\n",
    "    with open(path) as f:\n",
    "        return {int(l.split('\\t')[0]): int(l.split('\\t')[1]) for l in f if l.strip()}\n",
    "\n",
    "orig_pred = load_preds(\"cwe20/predict_linevul_cwe20.txt\")\n",
    "adv_pred = load_preds(\"cwe20/predict_adv_cwe20.txt\")\n",
    "\n",
    "# === Load ground-truth labels từ CSV ===\n",
    "df = pd.read_csv(\"cwe20/adversarial_output_cwe20.csv\") \n",
    "labels = dict(zip(df[\"idx\"], df[\"target\"]))\n",
    "\n",
    "# === Xác định mẫu vulnerable đúng bị phát hiện ban đầu ===\n",
    "vul_correct_ids = [idx for idx in labels if labels[idx] == 1 and orig_pred.get(idx, 0) == 1]\n",
    "\n",
    "# === Sau tấn công: bị đánh nhầm là benign ===\n",
    "successful_attack_ids = [idx for idx in vul_correct_ids if adv_pred.get(idx, 1) == 0]\n",
    "\n",
    "# === Tính ASR (Attack Success Rate) ===\n",
    "ASR = len(successful_attack_ids) / len(vul_correct_ids) if vul_correct_ids else 0\n",
    "print(f\"ASR = {ASR:.3%} ({len(successful_attack_ids)}/{len(vul_correct_ids)})\")\n"
   ]
  },
  {
   "cell_type": "code",
   "execution_count": 7,
   "id": "304b44ba",
   "metadata": {},
   "outputs": [
    {
     "name": "stderr",
     "output_type": "stream",
     "text": [
      "C:\\Users\\Admin\\AppData\\Local\\Temp\\ipykernel_9400\\951952044.py:4: DtypeWarning: Columns (1,20,22,23,27,28,29,37,38) have mixed types. Specify dtype option on import or set low_memory=False.\n",
      "  df = pd.read_csv(\"processed_data.csv\")  # thay bằng tên file thật\n"
     ]
    },
    {
     "name": "stdout",
     "output_type": "stream",
     "text": [
      "         index Access Gained Attack Origin Authentication Required  \\\n",
      "76          76           NaN        Remote            Not required   \n",
      "77          77           NaN        Remote            Not required   \n",
      "78          78           NaN        Remote            Not required   \n",
      "79          79           NaN        Remote            Not required   \n",
      "80          80           NaN        Remote            Not required   \n",
      "...        ...           ...           ...                     ...   \n",
      "178625  178625           NaN        Remote            Not required   \n",
      "178626  178626           NaN        Remote            Not required   \n",
      "178627  178627           NaN        Remote            Not required   \n",
      "178655  178655           NaN        Remote            Not required   \n",
      "178656  178656           NaN        Remote            Not required   \n",
      "\n",
      "       Availability          CVE ID  \\\n",
      "76          Partial   CVE-2013-6449   \n",
      "77          Partial   CVE-2013-6449   \n",
      "78          Partial   CVE-2013-6449   \n",
      "79          Partial   CVE-2013-6449   \n",
      "80          Partial   CVE-2013-6449   \n",
      "...             ...             ...   \n",
      "178625      Partial   CVE-2017-7539   \n",
      "178626      Partial   CVE-2017-7539   \n",
      "178627      Partial   CVE-2017-7539   \n",
      "178655      Partial  CVE-2016-10708   \n",
      "178656      Partial  CVE-2016-10708   \n",
      "\n",
      "                                              CVE Page   CWE ID Complexity  \\\n",
      "76       https://www.cvedetails.com/cve/CVE-2013-6449/  CWE-310     Medium   \n",
      "77       https://www.cvedetails.com/cve/CVE-2013-6449/  CWE-310     Medium   \n",
      "78       https://www.cvedetails.com/cve/CVE-2013-6449/  CWE-310     Medium   \n",
      "79       https://www.cvedetails.com/cve/CVE-2013-6449/  CWE-310     Medium   \n",
      "80       https://www.cvedetails.com/cve/CVE-2013-6449/  CWE-310     Medium   \n",
      "...                                                ...      ...        ...   \n",
      "178625   https://www.cvedetails.com/cve/CVE-2017-7539/   CWE-20        Low   \n",
      "178626   https://www.cvedetails.com/cve/CVE-2017-7539/   CWE-20        Low   \n",
      "178627   https://www.cvedetails.com/cve/CVE-2017-7539/   CWE-20        Low   \n",
      "178655  https://www.cvedetails.com/cve/CVE-2016-10708/  CWE-476        Low   \n",
      "178656  https://www.cvedetails.com/cve/CVE-2016-10708/  CWE-476        Low   \n",
      "\n",
      "       Confidentiality  ...                                  parentID  \\\n",
      "76                 NaN  ...  2ec4181ba92fc6b828687d2dc47c13dcd35a5d93   \n",
      "77                 NaN  ...  2ec4181ba92fc6b828687d2dc47c13dcd35a5d93   \n",
      "78                 NaN  ...  2ec4181ba92fc6b828687d2dc47c13dcd35a5d93   \n",
      "79                 NaN  ...  2ec4181ba92fc6b828687d2dc47c13dcd35a5d93   \n",
      "80                 NaN  ...  2ec4181ba92fc6b828687d2dc47c13dcd35a5d93   \n",
      "...                ...  ...                                       ...   \n",
      "178625             NaN  ...  44298024d30ad36439707b89715a76333f58791b   \n",
      "178626             NaN  ...  44298024d30ad36439707b89715a76333f58791b   \n",
      "178627             NaN  ...  44298024d30ad36439707b89715a76333f58791b   \n",
      "178655             NaN  ...  492710894acfcc2f173d14d1d45bd2e688df605d   \n",
      "178656             NaN  ...  492710894acfcc2f173d14d1d45bd2e688df605d   \n",
      "\n",
      "                                                    patch  project  \\\n",
      "76      @@ -4286,7 +4286,7 @@ need to go to SSL_ST_ACC...  openssl   \n",
      "77      @@ -4286,7 +4286,7 @@ need to go to SSL_ST_ACC...  openssl   \n",
      "78      @@ -4286,7 +4286,7 @@ need to go to SSL_ST_ACC...  openssl   \n",
      "79      @@ -4286,7 +4286,7 @@ need to go to SSL_ST_ACC...  openssl   \n",
      "80      @@ -4286,7 +4286,7 @@ need to go to SSL_ST_ACC...  openssl   \n",
      "...                                                   ...      ...   \n",
      "178625  @@ -104,69 +104,6 @@ struct NBDClient {\\n \\n s...     qemu   \n",
      "178626  @@ -104,69 +104,6 @@ struct NBDClient {\\n \\n s...     qemu   \n",
      "178627  @@ -104,69 +104,6 @@ struct NBDClient {\\n \\n s...     qemu   \n",
      "178655  @@ -1,4 +1,4 @@\\n-/* $OpenBSD: kex.c,v 1.121 2...  mindrot   \n",
      "178656  @@ -1,4 +1,4 @@\\n-/* $OpenBSD: packet.c,v 1.23...  mindrot   \n",
      "\n",
      "                                            project_after  \\\n",
      "76      https://git.openssl.org/gitweb/?p=openssl.git;...   \n",
      "77      https://git.openssl.org/gitweb/?p=openssl.git;...   \n",
      "78      https://git.openssl.org/gitweb/?p=openssl.git;...   \n",
      "79      https://git.openssl.org/gitweb/?p=openssl.git;...   \n",
      "80      https://git.openssl.org/gitweb/?p=openssl.git;...   \n",
      "...                                                   ...   \n",
      "178625  https://git.qemu.org/?p=qemu.git;a=blob;f=nbd/...   \n",
      "178626  https://git.qemu.org/?p=qemu.git;a=blob;f=nbd/...   \n",
      "178627  https://git.qemu.org/?p=qemu.git;a=blob;f=nbd/...   \n",
      "178655  https://anongit.mindrot.org/openssh.git/tree/k...   \n",
      "178656  https://anongit.mindrot.org/openssh.git/tree/p...   \n",
      "\n",
      "                                           project_before target  \\\n",
      "76      https://git.openssl.org/gitweb/?p=openssl.git;...      0   \n",
      "77      https://git.openssl.org/gitweb/?p=openssl.git;...      0   \n",
      "78      https://git.openssl.org/gitweb/?p=openssl.git;...      0   \n",
      "79      https://git.openssl.org/gitweb/?p=openssl.git;...      0   \n",
      "80      https://git.openssl.org/gitweb/?p=openssl.git;...      0   \n",
      "...                                                   ...    ...   \n",
      "178625  https://git.qemu.org/?p=qemu.git;a=blob;f=nbd/...      1   \n",
      "178626  https://git.qemu.org/?p=qemu.git;a=blob;f=nbd/...      1   \n",
      "178627  https://git.qemu.org/?p=qemu.git;a=blob;f=nbd/...      1   \n",
      "178655  https://anongit.mindrot.org/openssh.git/tree/k...      1   \n",
      "178656  https://anongit.mindrot.org/openssh.git/tree/p...      1   \n",
      "\n",
      "                                        vul_func_with_fix  \\\n",
      "76      static char * MS_CALLBACK srp_password_from_in...   \n",
      "77      long ssl3_callback_ctrl(SSL *s, int cmd, void ...   \n",
      "78      SSL_CIPHER *ssl3_choose_cipher(SSL *s, STACK_O...   \n",
      "79      void ssl3_clear(SSL *s)\\n\\t{\\n\\tunsigned char ...   \n",
      "80      long ssl3_ctrl(SSL *s, int cmd, long larg, voi...   \n",
      "...                                                   ...   \n",
      "178625  static int nbd_negotiate_drop_sync(QIOChannel ...   \n",
      "178626  static int nbd_negotiate_read(QIOChannel *ioc,...   \n",
      "178627  static int nbd_negotiate_write(QIOChannel *ioc...   \n",
      "178655  kex_input_newkeys(int type, u_int32_t seq, voi...   \n",
      "178656  ssh_packet_read_poll2(struct ssh *ssh, u_char ...   \n",
      "\n",
      "                                           processed_func  \\\n",
      "76      static char * MS_CALLBACK srp_password_from_in...   \n",
      "77      long ssl3_callback_ctrl(SSL *s, int cmd, void ...   \n",
      "78      SSL_CIPHER *ssl3_choose_cipher(SSL *s, STACK_O...   \n",
      "79      void ssl3_clear(SSL *s)\\n\\t{\\n\\tunsigned char ...   \n",
      "80      long ssl3_ctrl(SSL *s, int cmd, long larg, voi...   \n",
      "...                                                   ...   \n",
      "178625  static int nbd_negotiate_drop_sync(QIOChannel ...   \n",
      "178626  static int nbd_negotiate_read(QIOChannel *ioc,...   \n",
      "178627  static int nbd_negotiate_write(QIOChannel *ioc...   \n",
      "178655  kex_input_newkeys(int type, u_int32_t seq, voi...   \n",
      "178656  ssh_packet_read_poll2(struct ssh *ssh, u_char ...   \n",
      "\n",
      "                                                flaw_line  \\\n",
      "76                                                    NaN   \n",
      "77                                                    NaN   \n",
      "78                                                    NaN   \n",
      "79                                                    NaN   \n",
      "80                                                    NaN   \n",
      "...                                                   ...   \n",
      "178625  {/~/    ssize_t ret;/~/    uint8_t *buffer = g...   \n",
      "178626  {/~/    ssize_t ret;/~/    guint watch;/~/    ...   \n",
      "178627  {/~/    ssize_t ret;/~/    guint watch;/~/    ...   \n",
      "178655                                                NaN   \n",
      "178656  \\tif (*typep == SSH2_MSG_NEWKEYS)/~/\\t\\tr = ss...   \n",
      "\n",
      "                            flaw_line_index  \n",
      "76                                      NaN  \n",
      "77                                      NaN  \n",
      "78                                      NaN  \n",
      "79                                      NaN  \n",
      "80                                      NaN  \n",
      "...                                     ...  \n",
      "178625  1,2,3,4,5,6,7,8,9,10,11,12,13,14,15  \n",
      "178626     1,2,3,4,5,6,7,8,9,10,11,12,13,14  \n",
      "178627     1,2,3,4,5,6,7,8,9,10,11,12,13,14  \n",
      "178655                                  NaN  \n",
      "178656                          203,204,205  \n",
      "\n",
      "[5827 rows x 39 columns]\n"
     ]
    }
   ],
   "source": [
    "import pandas as pd\n",
    "\n",
    "# Đọc file CSV\n",
    "df = pd.read_csv(\"processed_data.csv\")  # thay bằng tên file thật\n",
    "\n",
    "# Lọc các hàng có \"OpenSSL\" trong cột \"Vulnerability Classification\"\n",
    "filtered_df = df[df[\"Vulnerability Classification\"] == \"DoS\"]\n",
    "\n",
    "# Hiển thị kết quả\n",
    "print(filtered_df)\n",
    "\n",
    "# (Tuỳ chọn) Lưu ra file mới\n",
    "filtered_df.to_csv(\"filtered_dos.csv\", index=False)"
   ]
  },
  {
   "cell_type": "code",
   "execution_count": null,
   "id": "a56e7e31",
   "metadata": {},
   "outputs": [],
   "source": [
    "import pandas as pd\n",
    "\n",
    "def count_target_for_selected_cwes(file_path, selected_cwes):\n",
    "    # Đọc file CSV\n",
    "    df = pd.read_csv(file_path)\n",
    "\n",
    "    # Chỉ giữ lại các dòng có CWE ID nằm trong danh sách chỉ định\n",
    "    df_filtered = df[df[\"Vulnerability Classification\"].isin(selected_cwes)]\n",
    "\n",
    "    # Nhóm theo 'CWE ID' và 'target', đếm số lượng\n",
    "    result = df_filtered.groupby(['Vulnerability Classification', 'target']).size().unstack(fill_value=0)\n",
    "\n",
    "    # Đảm bảo đủ 2 cột target\n",
    "    if 0 not in result.columns:\n",
    "        result[0] = 0\n",
    "    if 1 not in result.columns:\n",
    "        result[1] = 0\n",
    "\n",
    "    result = result[[0, 1]]  # sắp xếp cột theo thứ tự target=0, target=1\n",
    "    result.columns = ['target_0_count', 'target_1_count']\n",
    "\n",
    "    # In kết quả\n",
    "    for cwe_id, row in result.iterrows():\n",
    "        print(f\"CWE ID {cwe_id}: target=0 → {row['target_0_count']} mẫu, target=1 → {row['target_1_count']} mẫu\")\n",
    "\n",
    "# Danh sách các CWE cần kiểm tra        \n",
    "selected_cwes = ['DoS']\n",
    "\n",
    "# Gọi hàm\n",
    "count_target_for_selected_cwes(\"processed_data.csv\" , selected_cwes)\n"
   ]
  }
 ],
 "metadata": {
  "kernelspec": {
   "display_name": ".conda",
   "language": "python",
   "name": "python3"
  },
  "language_info": {
   "codemirror_mode": {
    "name": "ipython",
    "version": 3
   },
   "file_extension": ".py",
   "mimetype": "text/x-python",
   "name": "python",
   "nbconvert_exporter": "python",
   "pygments_lexer": "ipython3",
   "version": "3.10.15"
  }
 },
 "nbformat": 4,
 "nbformat_minor": 5
}
